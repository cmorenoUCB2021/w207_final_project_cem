{
 "cells": [
  {
   "cell_type": "code",
   "execution_count": 1,
   "metadata": {},
   "outputs": [
    {
     "name": "stdout",
     "output_type": "stream",
     "text": [
      "Pillow Version: 8.3.1\n"
     ]
    }
   ],
   "source": [
    "# check Pillow version number\n",
    "import PIL\n",
    "print('Pillow Version:', PIL.__version__)\n",
    "\n",
    "# load and show an image with Pillow\n",
    "from PIL import Image\n",
    "\n",
    "# load and display an image with Matplotlib\n",
    "import matplotlib.pyplot as plt\n",
    "from matplotlib import image\n",
    "from matplotlib import pyplot\n",
    "import numpy as np\n",
    "import pandas as pd\n",
    "\n",
    "import cv2\n",
    "from skimage import io\n",
    "\n",
    "import imageio  \n",
    "import os\n",
    "\n",
    "# load image and convert to and from NumPy array\n",
    "from numpy import asarray"
   ]
  },
  {
   "cell_type": "code",
   "execution_count": 2,
   "metadata": {},
   "outputs": [],
   "source": [
    "def find_palette(img):\n",
    "    \n",
    "    # Then we can calculate the mean of each chromatic channel following a method analog to the one proposed by @Ruan B.:\n",
    "    average = img.mean(axis=0).mean(axis=0)\n",
    "    \n",
    "    pixels = np.float32(img.reshape(-1, 3))\n",
    "\n",
    "    n_colors = 5\n",
    "    criteria = (cv2.TERM_CRITERIA_EPS + cv2.TERM_CRITERIA_MAX_ITER, 200, .1)\n",
    "    flags = cv2.KMEANS_RANDOM_CENTERS\n",
    "\n",
    "    _, labels, palette = cv2.kmeans(pixels, n_colors, None, criteria, 10, flags)\n",
    "    _, counts = np.unique(labels, return_counts=True)\n",
    "    \n",
    "    dominant = palette[np.argmax(counts)]\n",
    "    \n",
    "    avg_patch = np.ones(shape=img.shape, dtype=np.uint8)*np.uint8(average)\n",
    "    \n",
    "    indices = np.argsort(counts)[::-1]   \n",
    "    freqs = np.cumsum(np.hstack([[0], counts[indices]/float(counts.sum())]))\n",
    "    rows = np.int_(img.shape[0]*freqs)\n",
    "    \n",
    "#    dom_patch = np.zeros(shape=img.shape, dtype=np.uint8)\n",
    "#    for i in range(len(rows) - 1):\n",
    "#        dom_patch[rows[i]:rows[i + 1], :, :] += np.uint8(palette[indices[i]])\n",
    "    \n",
    "    return (dominant, average, palette)"
   ]
  },
  {
   "cell_type": "code",
   "execution_count": null,
   "metadata": {},
   "outputs": [],
   "source": [
    "#path = \"../data/train/\"\n",
    "path = \"../data/examples/\"\n",
    "\n",
    "mp = np.empty(1, dtype=object)\n",
    "image_list = []\n",
    "\n",
    "files = os.listdir(path)\n",
    "\n",
    "i = 0\n",
    "for picture in files:\n",
    "        \n",
    "    img = io.imread(path+picture)\n",
    "    #d, a, p = find_palette(image)\n",
    "    d, a, p = find_palette(img)\n",
    "    p =  p.reshape(1, 5*3)[0]\n",
    "    \n",
    "    image_list.append(picture.split('.')[0])\n",
    "    r = np.append(p,[a,d])\n",
    "    if len(mp) == 1:\n",
    "        mp = r\n",
    "    else: mp = np.vstack([mp, r])\n",
    "    #print(\"Palette: \", mp)\n",
    "    print(i)\n",
    "    i +=1\n",
    "\n",
    "#print(mp)\n",
    "#print(image_list)"
   ]
  },
  {
   "cell_type": "code",
   "execution_count": null,
   "metadata": {},
   "outputs": [],
   "source": [
    "df = pd.DataFrame()\n",
    "df[\"image\"] = image_list\n",
    "i = 1\n",
    "for e in range(0,mp.shape[1]):\n",
    "    df[\"col_\"+str(i)] = mp[:, e]\n",
    "    i +=1\n",
    "#print(df)\n",
    "df.to_csv(\"image_pallette_final1.csv\", index=False)"
   ]
  }
 ],
 "metadata": {
  "kernelspec": {
   "display_name": "w207",
   "language": "python",
   "name": "w207"
  },
  "language_info": {
   "codemirror_mode": {
    "name": "ipython",
    "version": 3
   },
   "file_extension": ".py",
   "mimetype": "text/x-python",
   "name": "python",
   "nbconvert_exporter": "python",
   "pygments_lexer": "ipython3",
   "version": "3.6.13"
  }
 },
 "nbformat": 4,
 "nbformat_minor": 4
}
