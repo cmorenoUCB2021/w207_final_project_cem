{
 "cells": [
  {
   "cell_type": "code",
   "execution_count": 1,
   "metadata": {},
   "outputs": [],
   "source": [
    "# This tells matplotlib not to try opening a new window for each plot.\n",
    "%matplotlib inline\n",
    "\n",
    "# General libraries.\n",
    "import re\n",
    "import numpy as np\n",
    "import pandas as pd\n",
    "import matplotlib.pyplot as plt\n",
    "\n",
    "# SK-learn libraries for learning.\n",
    "from sklearn.pipeline import Pipeline\n",
    "from sklearn.neighbors import KNeighborsClassifier\n",
    "from sklearn.linear_model import LogisticRegression\n",
    "from sklearn.linear_model import LinearRegression\n",
    "from sklearn.naive_bayes import BernoulliNB\n",
    "from sklearn.naive_bayes import MultinomialNB\n",
    "from sklearn.naive_bayes import GaussianNB\n",
    "from sklearn.tree import DecisionTreeClassifier\n",
    "from sklearn.ensemble import RandomForestClassifier \n",
    "from sklearn.ensemble import AdaBoostClassifier \n",
    "from sklearn import svm\n",
    "from sklearn.neural_network import MLPClassifier\n",
    "from sklearn.preprocessing import StandardScaler\n",
    "from sklearn.metrics import mean_squared_error\n",
    "\n",
    "from sklearn.mixture import GaussianMixture\n",
    "from sklearn.cluster import KMeans\n",
    "\n",
    "from sklearn.decomposition import PCA\n",
    "\n",
    "# SK-learn libraries for evaluation.\n",
    "from sklearn.metrics import confusion_matrix\n",
    "from sklearn import metrics\n",
    "from sklearn.metrics import classification_report\n",
    "\n",
    "# SK-learn library for importing the newsgroup data.\n",
    "from sklearn.datasets import fetch_20newsgroups\n",
    "\n",
    "# SK-learn libraries for feature extraction from text.\n",
    "from sklearn.feature_extraction.text import *\n",
    "\n",
    "import nltk\n",
    "import xlsxwriter\n",
    "import openpyxl\n",
    "import os.path\n",
    "from os.path import exists\n",
    "\n",
    "import cv2\n",
    "from skimage import io\n",
    "\n",
    "import imageio  \n",
    "import os\n",
    "\n",
    "# Set the randomizer seed so results are the same each time.\n",
    "np.random.seed(0)"
   ]
  },
  {
   "cell_type": "code",
   "execution_count": 2,
   "metadata": {},
   "outputs": [
    {
     "name": "stdout",
     "output_type": "stream",
     "text": [
      "497\n"
     ]
    }
   ],
   "source": [
    "#UPLOAD CONSOLIDATED TABLE WITH FEATURES\n",
    "conso_filename = \"data_consolidated.csv\"\n",
    "directory = \"../data/\"\n",
    "df_data1 = pd.read_csv(directory+conso_filename)\n",
    "print(len(list(df_data1.columns)))\n",
    "df_data = df_data1.copy()"
   ]
  },
  {
   "cell_type": "code",
   "execution_count": 3,
   "metadata": {},
   "outputs": [],
   "source": [
    "#STARTING AT ZERO\n",
    "#FUNCTIONS USED TO CREATED DIFFERENT SCALES (1 TO 10, 1 TO 5, 1 TO 4, 1 TO 3, 1 TO 2)\n",
    "def scale10(n):\n",
    "    val = 0\n",
    "    if n <=10: \n",
    "        val = 0\n",
    "    elif n >10 and n<=20:\n",
    "        val = 1\n",
    "    elif n >20 and n <=30:\n",
    "        val = 2\n",
    "    elif n>30 and n <=40:\n",
    "        val = 3\n",
    "    elif n > 40 and n<=50:\n",
    "        val = 4\n",
    "    elif n>50 and n<=60:\n",
    "        val = 5\n",
    "    elif n>60 and n<=70:\n",
    "        val = 6\n",
    "    elif n>70 and n<=80:\n",
    "        val = 7\n",
    "    elif n>80 and n<=90:\n",
    "        val = 8\n",
    "    else: \n",
    "        val = 9\n",
    "    return(val)\n",
    "\n",
    "def scale5(n):\n",
    "    val = 0\n",
    "    if n <=20: \n",
    "        val = 0\n",
    "    elif n >20 and n<=40:\n",
    "        val = 1\n",
    "    elif n >40 and n <=60:\n",
    "        val = 2\n",
    "    elif n>60 and n <=80:\n",
    "        val = 3\n",
    "    else: val = 4\n",
    "\n",
    "    return(val)\n",
    "\n",
    "def scale4(n):\n",
    "    val = 0\n",
    "    if n <=25: \n",
    "        val = 0\n",
    "    elif n >25 and n<=50:\n",
    "        val = 1\n",
    "    elif n >50 and n <=75:\n",
    "        val = 2\n",
    "    else: \n",
    "        val = 3\n",
    "\n",
    "    return(val)\n",
    "\n",
    "def scale3(n):\n",
    "    val = 0\n",
    "    if n <=34: \n",
    "        val = 1\n",
    "    elif n >34 and n<=68:\n",
    "        val = 1\n",
    "    else:\n",
    "        val = 2\n",
    "\n",
    "    return(val)\n",
    "\n",
    "def scale2(n):\n",
    "    val = 0\n",
    "    if n < 50: \n",
    "        val = 0\n",
    "    else:\n",
    "        val = 1\n",
    "\n",
    "    return(val)"
   ]
  },
  {
   "cell_type": "code",
   "execution_count": null,
   "metadata": {},
   "outputs": [],
   "source": [
    "#STARTING AT 1\n",
    "#FUNCTIONS USED TO CREATED DIFFERENT SCALES (1 TO 10, 1 TO 5, 1 TO 4, 1 TO 3, 1 TO 2)\n",
    "def scale10(n):\n",
    "    val = 0\n",
    "    if n <=10: \n",
    "        val = 1\n",
    "    elif n >10 and n<=20:\n",
    "        val = 2\n",
    "    elif n >20 and n <=30:\n",
    "        val = 3\n",
    "    elif n>30 and n <=40:\n",
    "        val = 4\n",
    "    elif n > 40 and n<=50:\n",
    "        val = 5\n",
    "    elif n>50 and n<=60:\n",
    "        val = 6\n",
    "    elif n>60 and n<=70:\n",
    "        val = 7\n",
    "    elif n>70 and n<=80:\n",
    "        val = 8\n",
    "    elif n>80 and n<=90:\n",
    "        val = 9\n",
    "    else: \n",
    "        val = 10\n",
    "    return(val)\n",
    "\n",
    "def scale5(n):\n",
    "    val = 0\n",
    "    if n <=20: \n",
    "        val = 1\n",
    "    elif n >20 and n<=40:\n",
    "        val = 2\n",
    "    elif n >40 and n <=60:\n",
    "        val = 3\n",
    "    elif n>60 and n <=80:\n",
    "        val = 4\n",
    "    else: val = 5\n",
    "\n",
    "    return(val)\n",
    "\n",
    "def scale4(n):\n",
    "    val = 0\n",
    "    if n <=25: \n",
    "        val = 1\n",
    "    elif n >25 and n<=50:\n",
    "        val = 2\n",
    "    elif n >50 and n <=75:\n",
    "        val = 3\n",
    "    else: \n",
    "        val = 4\n",
    "\n",
    "    return(val)\n",
    "\n",
    "def scale3(n):\n",
    "    val = 0\n",
    "    if n <=34: \n",
    "        val = 1\n",
    "    elif n >34 and n<=68:\n",
    "        val = 2\n",
    "    else:\n",
    "        val = 3\n",
    "\n",
    "    return(val)\n",
    "\n",
    "def scale2(n):\n",
    "    val = 0\n",
    "    if n < 50: \n",
    "        val = 1\n",
    "    else:\n",
    "        val = 2\n",
    "\n",
    "    return(val)"
   ]
  },
  {
   "cell_type": "code",
   "execution_count": null,
   "metadata": {},
   "outputs": [],
   "source": [
    "def scale_score(Y, quantile_list):\n",
    "    ql = list(Y.quantile(quantile_list))\n",
    "    scorel = []\n",
    "    for y in Y:\n",
    "        i = 0\n",
    "        no_found = True\n",
    "        while no_found:\n",
    "            if y <= ql[i]:\n",
    "                scorel.append(i)\n",
    "                no_found = False\n",
    "            else:\n",
    "                i += 1\n",
    "    return(scorel)"
   ]
  },
  {
   "cell_type": "code",
   "execution_count": null,
   "metadata": {},
   "outputs": [],
   "source": [
    "q2 = [0, 0.5, 1]\n",
    "q3 = [0, 0.33, 0.66, 1]\n",
    "q4 = [0, 0.25, 0.50, 0.75, 1]\n",
    "q5 = [0, 0.2, 0.4, 0.6, 0.8, 1]\n",
    "q6 = [0, 0.17, 0.34, 0.51, 0.68, 0.85, 1]\n",
    "q10 = [0, 0.1, 0.2, 0.3, 0.4, 0.5, 0.6, 0.7, 0.8, 0.9, 1]\n",
    "\n",
    "df_data[\"Scale10\"]  = scale_score(df_data[\"Pawpularity\"], q10)\n",
    "df_data[\"Scale5\"] = scale_score(df_data[\"Pawpularity\"], q5)\n",
    "df_data[\"Scale4\"] = scale_score(df_data[\"Pawpularity\"], q4)\n",
    "df_data[\"Scale3\"] = scale_score(df_data[\"Pawpularity\"], q3)\n",
    "df_data[\"Scale2\"] = scale_score(df_data[\"Pawpularity\"], q2)"
   ]
  },
  {
   "cell_type": "code",
   "execution_count": 4,
   "metadata": {},
   "outputs": [],
   "source": [
    "#CREATE COLUMNS WITH DIFFERENT SCALES FOR TESTING MODELS\n",
    "df_data[\"Scale10\"] = df_data.apply(lambda row: scale10(row.Pawpularity), axis=1)\n",
    "df_data[\"Scale5\"] = df_data.apply(lambda row: scale5(row.Pawpularity), axis=1)\n",
    "df_data[\"Scale4\"] = df_data.apply(lambda row: scale4(row.Pawpularity), axis=1)\n",
    "df_data[\"Scale3\"] = df_data.apply(lambda row: scale3(row.Pawpularity), axis=1)\n",
    "df_data[\"Scale2\"] = df_data.apply(lambda row: scale2(row.Pawpularity), axis=1)"
   ]
  },
  {
   "cell_type": "code",
   "execution_count": 5,
   "metadata": {},
   "outputs": [],
   "source": [
    "#To select the SCALE you want to work with (10, 5, 4, 3, 2)\n",
    "def assign_y(scale):\n",
    "    if scale == 2:\n",
    "        Y_train = train_y2\n",
    "        Y_dev = dev_y2\n",
    "    elif scale == 3:\n",
    "        Y_train = train_y3\n",
    "        Y_dev = dev_y3\n",
    "    elif scale == 4:\n",
    "        Y_train = train_y4\n",
    "        Y_dev = dev_y4\n",
    "    elif scale == 5:\n",
    "        Y_train = train_y5\n",
    "        Y_dev = dev_y5\n",
    "    elif scale == 10:\n",
    "        Y_train = train_y10\n",
    "        Y_dev = dev_y10\n",
    "    elif scale == 100:\n",
    "        Y_train = train_labels\n",
    "        Y_dev = dev_labels\n",
    "    else:\n",
    "        Y_train = train_labels\n",
    "        Y_dev = dev_labels\n",
    "    return(Y_train, Y_dev)   "
   ]
  },
  {
   "cell_type": "code",
   "execution_count": 25,
   "metadata": {},
   "outputs": [],
   "source": [
    "#Return list of mean for each range in scale\n",
    "def mean_scale(scale, Y_train, train_labels):\n",
    "    means = []\n",
    "    start = 0\n",
    "    for i in range(start,scale+start):\n",
    "        index_to_get = np.where(Y_train == i)\n",
    "        me = train_labels[index_to_get].mean()\n",
    "        means.append(me)\n",
    "    return(means)  "
   ]
  },
  {
   "cell_type": "code",
   "execution_count": 27,
   "metadata": {},
   "outputs": [],
   "source": [
    "#Return list of mean for each range in scale\n",
    "def mean_scale1(scale, Y_train, train_labels):\n",
    "    meantot = train_labels.mean()\n",
    "    means = []\n",
    "    start = 0\n",
    "    for i in range(start,scale+start):\n",
    "        index_to_get = np.where(Y_train == i)\n",
    "        me = train_labels[index_to_get].mean()\n",
    "        means.append((me+meantot)/2)\n",
    "    return(means)  "
   ]
  },
  {
   "cell_type": "code",
   "execution_count": 8,
   "metadata": {},
   "outputs": [],
   "source": [
    "def get_counts(Y_train, scale):\n",
    "    counts = []\n",
    "    for i in range(1, scale+1):\n",
    "        counts.append(np.count_nonzero(Y_train == i))\n",
    "    return(counts)"
   ]
  },
  {
   "cell_type": "code",
   "execution_count": 9,
   "metadata": {},
   "outputs": [],
   "source": [
    "def adj_mean_scale(scale, Y_train, train_labels):\n",
    "    adj_mean = []\n",
    "    i = 0\n",
    "    mean = train_labels.mean()\n",
    "    counts = get_counts(Y_train, scale)\n",
    "    total = sum(counts)\n",
    "    for count in counts:\n",
    "        adjm = (mean * count) / total\n",
    "        adj_mean.append(adjm)\n",
    "    return(adj_mean)"
   ]
  },
  {
   "cell_type": "code",
   "execution_count": 21,
   "metadata": {},
   "outputs": [],
   "source": [
    "#Return Prediction based on mean for range in scale\n",
    "def predict_scale(prediction, mean_scale):\n",
    "    start = 0\n",
    "    predict_out = []\n",
    "    n = len(mean_scale)\n",
    "    for p in prediction:\n",
    "        predict_out.append(mean_scale[p-start])\n",
    "    return(predict_out)"
   ]
  },
  {
   "cell_type": "code",
   "execution_count": 11,
   "metadata": {},
   "outputs": [],
   "source": [
    "def print_confusion_matrix(Y_dev, Prediction, title):\n",
    "    cfm = confusion_matrix(Y_dev,Prediction)\n",
    "    if np.unique(Y_dev).max() > 5:\n",
    "        size = 6\n",
    "    else: \n",
    "        size = np.unique(Y_dev).max()\n",
    "    fig, ax = plt.subplots(figsize=(size, size))\n",
    "    ax.matshow(cfm, cmap=plt.cm.Blues, alpha=0.3)\n",
    "    for i in range(cfm.shape[0]):\n",
    "        for j in range(cfm.shape[1]):\n",
    "            ax.text(x=j, y=i,s=cfm[i, j], va='center', ha='center', size='xx-large')\n",
    "    ax.set_title(title)"
   ]
  },
  {
   "cell_type": "code",
   "execution_count": 12,
   "metadata": {},
   "outputs": [
    {
     "name": "stdout",
     "output_type": "stream",
     "text": [
      "12\n"
     ]
    }
   ],
   "source": [
    "column_names = list(df_data.columns)\n",
    "\n",
    "coln1 = 2\n",
    "coln2 = coln1+12\n",
    "basic_features = column_names[coln1:coln2]\n",
    "\n",
    "to_keep = basic_features\n",
    "\n",
    "print(len(to_keep))"
   ]
  },
  {
   "cell_type": "markdown",
   "metadata": {},
   "source": [
    "### Splitting Data"
   ]
  },
  {
   "cell_type": "code",
   "execution_count": 13,
   "metadata": {},
   "outputs": [
    {
     "name": "stdout",
     "output_type": "stream",
     "text": [
      "9912\n",
      "(7930, 12) (7930,) (7930,)\n",
      "(1784, 12) (1784,) (1784,)\n",
      "(198, 12) (198,) (198,)\n",
      "(198,) (1784,) (7930,)\n",
      "(198,) (1784,) (7930,)\n",
      "(198,) (1784,) (7930,)\n",
      "(198,) (1784,) (7930,)\n",
      "(198,) (1784,) (7930,)\n"
     ]
    }
   ],
   "source": [
    "#Get X and Y data - shuffle data.\n",
    "X = np.array(df_data[to_keep])\n",
    "\n",
    "#Use to take out columns\n",
    "#X = np.array(df_data.drop(to_take_out, axis=1))\n",
    "\n",
    "Y = df_data['Pawpularity'].values[:]\n",
    "\n",
    "id_image = df_data['Id'].values[:]\n",
    "\n",
    "Y10 = df_data['Scale10'].values[:]\n",
    "Y5 = df_data['Scale5'].values[:]\n",
    "Y4 = df_data['Scale4'].values[:]\n",
    "Y3 = df_data['Scale3'].values[:]\n",
    "Y2 = df_data['Scale2'].values[:]\n",
    "\n",
    "\n",
    "shuffle = np.random.permutation(np.arange(X.shape[0]))\n",
    "X, Y, id_image = X[shuffle], Y[shuffle], id_image[shuffle]\n",
    "Y10, Y5, Y4, Y3, Y2 = Y10[shuffle], Y5[shuffle], Y4[shuffle], Y3[shuffle], Y2[shuffle]\n",
    "\n",
    "# Define sizes for train, development and test data (0.5, 0.2, 0.3)\n",
    "per_train = 0.80\n",
    "per_dev = 0.18\n",
    "\n",
    "num_images = len(Y)\n",
    "train_size = int(round(num_images * per_train,0))\n",
    "dev_size = int(round(num_images * per_dev,0))\n",
    "\n",
    "# Split data based on defined sizes\n",
    "test_data, test_labels, id_test = X[train_size+dev_size:], Y[train_size+dev_size:], id_image[train_size+dev_size:]\n",
    "test_y10 = Y10[train_size+dev_size:]\n",
    "test_y5 = Y5[train_size+dev_size:]\n",
    "test_y4 = Y4[train_size+dev_size:]\n",
    "test_y3 = Y3[train_size+dev_size:]\n",
    "test_y2 = Y2[train_size+dev_size:]\n",
    "\n",
    "dev_data, dev_labels, id_dev = X[train_size:train_size+dev_size], Y[train_size:train_size+dev_size], id_image[train_size:train_size+dev_size]\n",
    "dev_y10 = Y10[train_size:train_size+dev_size]\n",
    "dev_y5 = Y5[train_size:train_size+dev_size]\n",
    "dev_y4 = Y4[train_size:train_size+dev_size]\n",
    "dev_y3 = Y3[train_size:train_size+dev_size]\n",
    "dev_y2 = Y2[train_size:train_size+dev_size]\n",
    "\n",
    "train_data, train_labels, id_train = X[:train_size], Y[:train_size], id_image[:train_size]\n",
    "train_y10 =  Y10[:train_size]\n",
    "train_y5 =  Y5[:train_size]\n",
    "train_y4 =  Y4[:train_size]\n",
    "train_y3 =  Y3[:train_size]\n",
    "train_y2 =  Y2[:train_size]\n",
    "\n",
    "print(num_images)\n",
    "print(train_data.shape, train_labels.shape, id_train.shape)\n",
    "print(dev_data.shape, dev_labels.shape, id_dev.shape)\n",
    "print(test_data.shape, test_labels.shape, id_test.shape)\n",
    "print(test_y10.shape, dev_y10.shape, train_y10.shape)\n",
    "print(test_y5.shape, dev_y5.shape, train_y5.shape)\n",
    "print(test_y4.shape, dev_y4.shape, train_y4.shape)\n",
    "print(test_y3.shape, dev_y3.shape, train_y3.shape)\n",
    "print(test_y2.shape, dev_y2.shape, train_y2.shape)"
   ]
  },
  {
   "cell_type": "markdown",
   "metadata": {},
   "source": [
    "### Minimum Accuracy Score - RMSE when prediction is the average"
   ]
  },
  {
   "cell_type": "code",
   "execution_count": 28,
   "metadata": {},
   "outputs": [
    {
     "name": "stdout",
     "output_type": "stream",
     "text": [
      "37.815582959641254\n",
      "(1784,)\n",
      "20.034755770553296\n"
     ]
    }
   ],
   "source": [
    "scale = 100\n",
    "Y_train, Y_dev = assign_y(scale)\n",
    "avg_dev = Y_dev.mean()\n",
    "print(avg_dev)\n",
    "print(Y_dev.shape)\n",
    "\n",
    "basic_prediction = np.repeat(avg_dev, Y_dev.shape[0])\n",
    "rmse = np.sqrt(mean_squared_error(basic_prediction, dev_labels))\n",
    "print(rmse)"
   ]
  },
  {
   "cell_type": "markdown",
   "metadata": {},
   "source": [
    "### Basic Model Prediction"
   ]
  },
  {
   "cell_type": "markdown",
   "metadata": {},
   "source": [
    "#### KNN"
   ]
  },
  {
   "cell_type": "code",
   "execution_count": 65,
   "metadata": {},
   "outputs": [
    {
     "name": "stdout",
     "output_type": "stream",
     "text": [
      "[33.68475784113727, 54.03500407416683]\n",
      "For K:  6 ,for scale  2 , accuracy:  0.7903587443946188\n",
      "For K:  6 ,for scale  2 , f1_score:  0.7028042030464959\n",
      "For K:  6 ,for scale  2 , MSME:  0.4578659799607099\n",
      "For K:  6 ,for scale  2 , MSME(100):  20.529985087888754\n",
      "20.034755770553296\n"
     ]
    },
    {
     "data": {
      "image/png": "[encoded data removed]",
      "text/plain": [
       "<Figure size 72x72 with 1 Axes>"
      ]
     },
     "metadata": {
      "needs_background": "light"
     },
     "output_type": "display_data"
    }
   ],
   "source": [
    "scale = 2\n",
    "Y_train, Y_dev = assign_y(scale)\n",
    "k = 6\n",
    "means = mean_scale1(scale, Y_train, train_labels)\n",
    "print(means)\n",
    "\n",
    "# means[0] = 35.42\n",
    "# means[1] = 62.08\n",
    "\n",
    "# means[0] = 38.04819277108434\n",
    "# means[1] = 38.04819277108434 + 3.0184739\n",
    "\n",
    "\n",
    "metric_list = ['euclidean', 'manhattan', 'chebyshev', 'minkowski', 'wminkowski', 'seuclidean', 'mahalanobis']\n",
    "metric = metric_list[1]\n",
    "\n",
    "weights = [\"uniform\", \"distance\"]\n",
    "algorithm_list = [\"auto\", \"ball_tree\", \"kd_tree\", \"brute\"]\n",
    "\n",
    "knn_mod = KNeighborsClassifier(n_neighbors=k, algorithm=algorithm_list[0], weights=weights[0],  metric = metric)\n",
    "knn_mod.fit(train_data, Y_train)\n",
    "pred_knn = knn_mod.predict(dev_data)\n",
    "accuracy =  knn_mod.score(dev_data, Y_dev)\n",
    "f1_score = metrics.f1_score(Y_dev, pred_knn, average=\"weighted\")\n",
    "rmse = np.sqrt(mean_squared_error(pred_knn, Y_dev))\n",
    "\n",
    "print(\"For K: \",k,\",for scale \",scale,\", accuracy: \",accuracy)\n",
    "print(\"For K: \",k,\",for scale \",scale,\", f1_score: \",f1_score)\n",
    "print(\"For K: \",k,\",for scale \",scale,\", MSME: \",rmse)\n",
    "\n",
    "pre_scale = predict_scale(pred_knn, means)\n",
    "rmse2 = np.sqrt(mean_squared_error(pre_scale, dev_labels))\n",
    "print(\"For K: \",k,\",for scale \",scale,\", MSME(100): \",rmse2)\n",
    "print(np.sqrt(mean_squared_error(basic_prediction, dev_labels)))\n",
    "\n",
    "#Generate and create dataframe of Confusion Matrix\n",
    "print_confusion_matrix(Y_dev, pred_knn, \"KNN\")"
   ]
  },
  {
   "cell_type": "code",
   "execution_count": 51,
   "metadata": {},
   "outputs": [],
   "source": [
    "label = knn_mod.predict(train_data)"
   ]
  },
  {
   "cell_type": "code",
   "execution_count": 52,
   "metadata": {},
   "outputs": [
    {
     "data": {
      "text/plain": [
       "array([[3],\n",
       "       [3],\n",
       "       [2],\n",
       "       ...,\n",
       "       [3],\n",
       "       [3],\n",
       "       [3]], dtype=int64)"
      ]
     },
     "execution_count": 52,
     "metadata": {},
     "output_type": "execute_result"
    }
   ],
   "source": [
    "l2 = label.reshape(len(label),1)\n",
    "l2"
   ]
  },
  {
   "cell_type": "code",
   "execution_count": 62,
   "metadata": {},
   "outputs": [
    {
     "data": {
      "text/plain": [
       "LinearRegression()"
      ]
     },
     "execution_count": 62,
     "metadata": {},
     "output_type": "execute_result"
    }
   ],
   "source": [
    "regr = LinearRegression()\n",
    "regr.fit(l2, train_labels)"
   ]
  },
  {
   "cell_type": "code",
   "execution_count": 63,
   "metadata": {},
   "outputs": [
    {
     "data": {
      "text/plain": [
       "array([0.70146745])"
      ]
     },
     "execution_count": 63,
     "metadata": {},
     "output_type": "execute_result"
    }
   ],
   "source": [
    "regr.coef_"
   ]
  },
  {
   "cell_type": "code",
   "execution_count": 64,
   "metadata": {},
   "outputs": [
    {
     "data": {
      "text/plain": [
       "36.23655256851971"
      ]
     },
     "execution_count": 64,
     "metadata": {},
     "output_type": "execute_result"
    }
   ],
   "source": [
    "regr.intercept_"
   ]
  },
  {
   "cell_type": "markdown",
   "metadata": {},
   "source": [
    "### KNN Classifier"
   ]
  },
  {
   "cell_type": "code",
   "execution_count": null,
   "metadata": {},
   "outputs": [],
   "source": [
    "def knn_model(train_data, train_labels, dev_data, dev_labels, algorithm, weigth, klist):\n",
    "    \n",
    "    f1_score = []\n",
    "    \n",
    "    for k in klist:\n",
    "        knn_mod = KNeighborsClassifier(n_neighbors=k, algorithm=algorithm, weights=weigth, p=1)\n",
    "        knn_mod.fit(train_data, train_labels)\n",
    "        acc = knn_mod.score(dev_data, dev_labels)\n",
    "        f1_score.append(metrics.f1_score(dev_labels, knn_mod.predict(dev_data), average=\"weighted\"))\n",
    "    \n",
    "    return(f1_score)\n",
    "    \n",
    "def knn_models(train_data, Y_train, dev_data, Y_dev):\n",
    "    df_knn = pd.DataFrame()\n",
    "    klist = [1, 2, 3, 4, 5, 6, 7,8,9, 10, 11, 12, 13, 14, 15]\n",
    "    algorithm_list = [\"auto\", \"ball_tree\", \"kd_tree\", \"brute\"]\n",
    "\n",
    "    weights = [\"uniform\", \"distance\"]\n",
    "    df_knn[\"K\"] = klist\n",
    "\n",
    "    for algorithm in algorithm_list:\n",
    "        df_knn[algorithm] = knn_model(train_data, Y_train, dev_data, Y_dev, algorithm, weights[1], klist)\n",
    "    print(df_knn)\n",
    "    print(\"df_knn\")\n",
    "    return(df_knn)"
   ]
  },
  {
   "cell_type": "markdown",
   "metadata": {},
   "source": [
    "### NB Classifier"
   ]
  },
  {
   "cell_type": "code",
   "execution_count": null,
   "metadata": {},
   "outputs": [],
   "source": [
    "def NB_model(train_data, train_labels, dev_data, dev_labels, alpha_list):\n",
    "    \n",
    "    f1_score = []\n",
    "    for alpha in alpha_list:\n",
    "        NB_mod = BernoulliNB(alpha=alpha)\n",
    "        NB_mod.fit(train_data, train_labels)\n",
    "        acc = NB_mod.score(dev_data, dev_labels)\n",
    "        f1_score.append(metrics.f1_score(dev_labels, NB_mod.predict(dev_data), average=\"weighted\"))\n",
    "    return(f1_score)\n",
    "\n",
    "def NB_models(train_data, Y_train, dev_data, Y_dev):\n",
    "    alpha_list = [1.0e-10, 0.0001, 0.001, 0.01, 0.1, 0.5, 1.0, 2.0, 10.0]\n",
    "\n",
    "    df_NB = pd.DataFrame()\n",
    "    df_NB[\"Alpha\"] = alpha_list\n",
    "    df_NB[\"F1_score\"] = NB_model(train_data, Y_train, dev_data, Y_dev, alpha_list)\n",
    "\n",
    "    print(df_NB)\n",
    "    print(\"df_NB\")\n",
    "    return(df_NB)"
   ]
  },
  {
   "cell_type": "markdown",
   "metadata": {},
   "source": [
    "### Multinomial NB"
   ]
  },
  {
   "cell_type": "code",
   "execution_count": null,
   "metadata": {},
   "outputs": [],
   "source": [
    "def MNB_model(train_data, train_labels, dev_data, dev_labels, alpha_list):\n",
    "    \n",
    "    f1_score = []\n",
    "    for alpha in alpha_list:\n",
    "        MNB_mod = MultinomialNB(alpha=alpha)\n",
    "        MNB_mod.fit(train_data, train_labels)\n",
    "        f1_score.append(metrics.f1_score(dev_labels, MNB_mod.predict(dev_data), average=\"weighted\"))\n",
    "    \n",
    "    return(f1_score)\n",
    "\n",
    "def MNB_models(train_data, Y_train, dev_data, Y_dev):\n",
    "    alpha_list = [1.0e-10, 0.0001, 0.001, 0.01, 0.1, 0.5, 1.0, 2.0, 10.0]\n",
    "\n",
    "    df_MNB = pd.DataFrame()\n",
    "    df_MNB[\"Alpha\"] = alpha_list\n",
    "    df_MNB[\"F1_score\"] = MNB_model(train_data, Y_train, dev_data, Y_dev, alpha_list)\n",
    "\n",
    "    print(df_MNB)\n",
    "    print(\"df_MNB\")\n",
    "    return(df_MNB)"
   ]
  },
  {
   "cell_type": "markdown",
   "metadata": {},
   "source": [
    "### Gaussian NB"
   ]
  },
  {
   "cell_type": "code",
   "execution_count": null,
   "metadata": {},
   "outputs": [],
   "source": [
    "def GNB_model(train_data, train_labels, dev_data, dev_labels, smoothing_list):\n",
    "    \n",
    "    f1_score = []\n",
    "    for var_smoothing in smoothing_list:\n",
    "        GNB_mod = GaussianNB(var_smoothing=var_smoothing)\n",
    "        GNB_mod.fit(train_data, train_labels)\n",
    "        f1_score.append(metrics.f1_score(dev_labels, GNB_mod.predict(dev_data), average=\"weighted\"))\n",
    "    \n",
    "    return(f1_score)\n",
    "\n",
    "def GNB_models(train_data, Y_train, dev_data, Y_dev):\n",
    "    smoothing_list = [1.0e-10, 0.0001, 0.001, 0.01, 0.1, 0.5, 1.0, 2.0, 10.0]\n",
    "\n",
    "    df_GNB = pd.DataFrame()\n",
    "    df_GNB[\"Var Smooth\"] = smoothing_list\n",
    "    df_GNB[\"F1_score\"] = GNB_model(train_data, Y_train, dev_data, Y_dev, smoothing_list)\n",
    "\n",
    "    print(df_GNB)\n",
    "    print(\"df_GNB\")\n",
    "    return(df_GNB)"
   ]
  },
  {
   "cell_type": "markdown",
   "metadata": {},
   "source": [
    "### LogisticRegression\n",
    "Warning The choice of the algorithm depends on the penalty chosen: Supported penalties by solver:  \n",
    "- ‘newton-cg’ - [‘l2’, ‘none’]  \n",
    "- ‘lbfgs’ - [‘l2’, ‘none’]  \n",
    "- ‘liblinear’ - [‘l1’, ‘l2’]  \n",
    "- ‘sag’ - [‘l2’, ‘none’]  \n",
    "- ‘saga’ - [‘elasticnet’, ‘l1’, ‘l2’, ‘none’]\n",
    "\n",
    "**max_iter was increased to 200, so it would converge**\n",
    "- max_iter int, default=100\n",
    "- Maximum number of iterations taken for the solvers to converge."
   ]
  },
  {
   "cell_type": "code",
   "execution_count": null,
   "metadata": {},
   "outputs": [],
   "source": [
    "def LogR_model(train_data, train_labels, dev_data, dev_labels, penalty, solver, c_list):\n",
    "    \n",
    "    \n",
    "    #c_list = [0.1, 0.2, 0.3, 0.4, 0.5, 0.6, 0.7, 0.8, 0.9, 1, 1.1, 1.2, 1.3, 1.4, 1.5]\n",
    "    \n",
    "    f1_score = []\n",
    "    for c in c_list:\n",
    "        logR_mod = LogisticRegression(C=c, solver=solver, multi_class=\"auto\", penalty=penalty, max_iter=200)\n",
    "        logR_mod.fit(train_data, train_labels)\n",
    "        acc = logR_mod.score(dev_data, dev_labels)\n",
    "        f1_score.append(metrics.f1_score(dev_labels, logR_mod.predict(dev_data), average=\"weighted\"))\n",
    "    return(f1_score)\n",
    "\n",
    "def LogR_models(train_data, Y_train, dev_data, Y_dev):\n",
    "    df_logR =pd.DataFrame()\n",
    "    solver_list = [\"liblinear\", \"newton-cg\", \"sag\", \"lbfgs\"]\n",
    "    c_list = [1, 2, 3, 4, 5, 6, 7, 8, 9, 10, 11, 12, 13, 14, 15]\n",
    "\n",
    "    df_logR[\"C\"] = c_list\n",
    "    for solver in solver_list:\n",
    "        df_logR[solver] = LogR_model(train_data, Y_train, dev_data, Y_dev, \"l2\", solver, c_list)\n",
    "\n",
    "    print(df_logR)\n",
    "    print(\"df_LogR\")\n",
    "    return(df_logR)"
   ]
  },
  {
   "cell_type": "markdown",
   "metadata": {},
   "source": [
    "### Tree"
   ]
  },
  {
   "cell_type": "code",
   "execution_count": null,
   "metadata": {},
   "outputs": [],
   "source": [
    "def DT_model(train_data, train_labels, dev_data, dev_labels, criterion, max_depth_list):\n",
    "    \n",
    "    \n",
    "    #c_list = [0.1, 0.2, 0.3, 0.4, 0.5, 0.6, 0.7, 0.8, 0.9, 1, 1.1, 1.2, 1.3, 1.4, 1.5]\n",
    "    \n",
    "    f1_score = []\n",
    "    for max_depth in max_depth_list:\n",
    "        dt_model = DecisionTreeClassifier(criterion=criterion, min_samples_split=10, max_depth=max_depth)\n",
    "        dt_model.fit(train_data, train_labels)\n",
    "        f1_score.append(metrics.f1_score(dev_labels, dt_model.predict(dev_data), average=\"weighted\"))\n",
    "\n",
    "    return(f1_score)\n",
    "\n",
    "def DT_models(train_data, Y_train, dev_data, Y_dev):\n",
    "    df_DT =pd.DataFrame()\n",
    "    criterion_list = [\"entropy\", \"gini\"]\n",
    "    max_depth_list = [1, 2, 3, 4, 5, 6, 7, 8, 9, 10, 11, 12]\n",
    "    df_DT[\"max_depth\"] = max_depth_list\n",
    "\n",
    "    for criterion in criterion_list:\n",
    "        df_DT[criterion] = DT_model(train_data, Y_train, dev_data, Y_dev, criterion, max_depth_list)\n",
    "\n",
    "    print(df_DT)\n",
    "    print(\"df_DT\")\n",
    "    return(df_DT)"
   ]
  },
  {
   "cell_type": "markdown",
   "metadata": {},
   "source": [
    "### Random Forest"
   ]
  },
  {
   "cell_type": "code",
   "execution_count": null,
   "metadata": {},
   "outputs": [],
   "source": [
    "def RF_model(train_data, train_labels, dev_data, dev_labels, criterion, n_estimators_list):\n",
    "        \n",
    "    f1_score = []\n",
    "    for n_estimators in n_estimators_list:\n",
    "        RF_model = RandomForestClassifier(n_estimators=n_estimators,criterion=criterion, min_samples_split=10)\n",
    "        RF_model.fit(train_data, train_labels)\n",
    "        f1_score.append(metrics.f1_score(dev_labels, RF_model.predict(dev_data), average=\"weighted\"))\n",
    "\n",
    "    return(f1_score)\n",
    "\n",
    "def RF_models(train_data, Y_train, dev_data, Y_dev):\n",
    "    df_RF =pd.DataFrame()\n",
    "    criterion_list = [\"entropy\", \"gini\"]\n",
    "    n_estimators_list = [5, 10, 15, 20, 25, 30]\n",
    "    df_RF[\"n_estimators\"] = n_estimators_list\n",
    "\n",
    "    for criterion in criterion_list:\n",
    "        df_RF[criterion] = RF_model(train_data, Y_train, dev_data, Y_dev, criterion, n_estimators_list)\n",
    "\n",
    "    print(df_RF)\n",
    "    print(\"df_RF\")\n",
    "    return(df_RF)"
   ]
  },
  {
   "cell_type": "markdown",
   "metadata": {},
   "source": [
    "### AdaBoost"
   ]
  },
  {
   "cell_type": "code",
   "execution_count": null,
   "metadata": {},
   "outputs": [],
   "source": [
    "def AdaB_model(train_data, train_labels, dev_data, dev_labels, algorithm, n_estimators_list):\n",
    "        \n",
    "    f1_score = []\n",
    "    for n_estimators in n_estimators_list:\n",
    "        AdaB_model = AdaBoostClassifier(n_estimators=n_estimators,algorithm=algorithm, learning_rate=1.2)\n",
    "        AdaB_model.fit(train_data, train_labels)\n",
    "        f1_score.append(metrics.f1_score(dev_labels, AdaB_model.predict(dev_data), average=\"weighted\"))\n",
    "\n",
    "    return(f1_score)\n",
    "\n",
    "def AdaB_models(train_data, Y_train, dev_data, Y_dev):\n",
    "    df_AdaB =pd.DataFrame()\n",
    "    algorithm_list = [\"SAMME\", \"SAMME.R\"]\n",
    "    n_estimators_list = [5, 10, 15, 20, 25, 30]\n",
    "    df_AdaB[\"n_estimators\"] = n_estimators_list\n",
    "\n",
    "    for algorithm in algorithm_list:\n",
    "        df_AdaB[algorithm] = AdaB_model(train_data, Y_train, dev_data, Y_dev, algorithm, n_estimators_list)\n",
    "\n",
    "    print(df_AdaB)\n",
    "    print(\"df_AdaB\")\n",
    "    return(df_AdaB)"
   ]
  },
  {
   "cell_type": "markdown",
   "metadata": {},
   "source": [
    "### SVM"
   ]
  },
  {
   "cell_type": "code",
   "execution_count": null,
   "metadata": {},
   "outputs": [],
   "source": [
    "def SVM_model(train_data, train_labels, dev_data, dev_labels, kernel, c_list):\n",
    "        \n",
    "    f1_score = []\n",
    "    \n",
    "    for c in c_list:\n",
    "        if kernel == \"LinearSVC\":\n",
    "            svm_model = svm.LinearSVC(C=c, max_iter=10000)\n",
    "        elif kernel == \"poly\":\n",
    "            svm_model = svm.SVC(kernel=kernel, C=c, degree=2, gamma=1)\n",
    "        elif kernel == \"rbf\":\n",
    "            svm_model = svm.SVC(kernel=kernel, C=c, gamma=0.7)\n",
    "        else:\n",
    "            svm_model = svm.SVC(kernel=kernel, C=c,)\n",
    "        \n",
    "        svm_model.fit(train_data, train_labels)\n",
    "        f1_score.append(metrics.f1_score(dev_labels, svm_model.predict(dev_data), average=\"weighted\"))\n",
    "\n",
    "    return(f1_score)\n",
    "\n",
    "def SVM_models(train_data, Y_train, dev_data):\n",
    "    df_SVM =pd.DataFrame()\n",
    "    kernel_list = [\"linear\", \"rbf\", \"poly\", \"LinearSVC\"]\n",
    "    c_list = [0.5, 1, 1.5, 2, 2.5, 3, 4, 5, 10, 20]\n",
    "    df_SVM[\"C\"] = c_list\n",
    "\n",
    "    for kernel in kernel_list:\n",
    "        df_SVM[kernel] = SVM_model(train_data, Y_train, dev_data, Y_dev, kernel, c_list)\n",
    "    print(df_SVM)\n",
    "    print(\"df_SVM\")\n",
    "\n",
    "    return(df_SVM)"
   ]
  },
  {
   "cell_type": "markdown",
   "metadata": {},
   "source": [
    "### Neural Network\n",
    "\n",
    "**hidden_layer_sizestuple, length = n_layers - 2, default=(100,)**  \n",
    "The ith element represents the number of neurons in the ith hidden layer.\n",
    "\n",
    "**activation{‘identity’, ‘logistic’, ‘tanh’, ‘relu’}, default=’relu’**  \n",
    "Activation function for the hidden layer.  \n",
    "\n",
    "- ‘identity’, no-op activation, useful to implement linear bottleneck, returns f(x) = x  \n",
    "- ‘logistic’, the logistic sigmoid function, returns f(x) = 1 / (1 + exp(-x)).  \n",
    "- ‘tanh’, the hyperbolic tan function, returns f(x) = tanh(x).   \n",
    "- ‘relu’, the rectified linear unit function, returns f(x) = max(0, x)  \n",
    "\n",
    "**solver{‘lbfgs’, ‘sgd’, ‘adam’}, default=’adam’**  \n",
    "The solver for weight optimization.  \n",
    "\n",
    "- ‘lbfgs’ is an optimizer in the family of quasi-Newton methods.\n",
    "- ‘sgd’ refers to stochastic gradient descent.\n",
    "- ‘adam’ refers to a stochastic gradient-based optimizer proposed by Kingma, Diederik, and Jimmy Ba\n",
    "\n",
    "Note: The default solver ‘adam’ works pretty well on relatively large datasets (with thousands of training samples or more) in terms of both training time and validation score. For small datasets, however, ‘lbfgs’ can converge faster and perform better.\n",
    "\n",
    "**alphafloat, default=0.0001**\n",
    "L2 penalty (regularization term) parameter."
   ]
  },
  {
   "cell_type": "code",
   "execution_count": null,
   "metadata": {},
   "outputs": [],
   "source": [
    "def NN_model(train_data, train_labels, dev_data, dev_labels, activation, solver_list, alpha_list, layer_list, choice):\n",
    "        \n",
    "    f1_score = []\n",
    "    \n",
    "    if choice == \"A\":\n",
    "        for alpha in alpha_list:\n",
    "            NN_model = MLPClassifier(hidden_layer_sizes=(10, 10, 10), max_iter=1000, activation=activation, alpha=alpha)\n",
    "            NN_model.fit(train_data, train_labels)\n",
    "            f1_score.append(metrics.f1_score(dev_labels, NN_model.predict(dev_data), average=\"weighted\"))\n",
    "    elif choice == \"L\":\n",
    "        for layer in layer_list:\n",
    "            NN_model = MLPClassifier(hidden_layer_sizes=layer, max_iter=1000, activation=activation)\n",
    "            NN_model.fit(train_data, train_labels)\n",
    "            f1_score.append(metrics.f1_score(dev_labels, NN_model.predict(dev_data), average=\"weighted\"))    \n",
    "    else:\n",
    "        for solver in solver_list:\n",
    "            NN_model = MLPClassifier(hidden_layer_sizes=(10, 10, 10), max_iter=8000, activation=activation, solver=solver)\n",
    "            NN_model.fit(train_data, train_labels)\n",
    "            f1_score.append(metrics.f1_score(dev_labels, NN_model.predict(dev_data), average=\"weighted\"))\n",
    "                \n",
    "    return(f1_score)\n",
    "\n",
    "#Note: Changing Alpha is not creating any variation in the f1_score.  Try first with L and then with S\n",
    "def NN_models(train_data, Y_train, dev_data, Y_dev, choice):\n",
    "    \n",
    "    df_NN =pd.DataFrame()\n",
    "    activation_list = [\"identity\", \"logistic\", \"tanh\", \"relu\"]\n",
    "    layer_list = [(10,10,10), (5,5,5), (3,3,3), (20, 20, 20)]\n",
    "    solver_list = [\"lbfgs\", \"sgd\", \"adam\"]\n",
    "    alpha_list = [0.0001, 0.001, 0.01, 0.1, 0.2, 0.3, 0.5]\n",
    "\n",
    "    for activation in activation_list:\n",
    "        df_NN[activation] = NN_model(train_data, Y_train, dev_data, Y_dev, activation, solver_list, alpha_list, layer_list, choice)\n",
    "\n",
    "    if choice == \"A\":\n",
    "        df_NN[\"Alpha\"] = alpha_list\n",
    "    elif choice == \"L\":\n",
    "        df_NN[\"Layers\"] = layer_list\n",
    "    else:\n",
    "        df_NN[\"Solver\"] = solver_list\n",
    "    \n",
    "    print(df_NN)\n",
    "    print(\"df_NN\")\n",
    "    return(df_NN)"
   ]
  },
  {
   "cell_type": "code",
   "execution_count": null,
   "metadata": {},
   "outputs": [],
   "source": [
    "scale_list = [2, 3, 4, 5, 10, 100]\n",
    "file_name = \"model_summary.xlsx\"\n",
    "for scale in scale_list:\n",
    "    print(scale)\n",
    "    Y_train, Y_dev = assign_y(scale)\n",
    "    df_knn = knn_models(train_data, Y_train, dev_data, Y_dev)\n",
    "    df_NB = NB_models(train_data, Y_train, dev_data, Y_dev)\n",
    "    df_MNB = MNB_models(train_data, Y_train, dev_data, Y_dev)\n",
    "    df_GNB = GNB_models(train_data, Y_train, dev_data, Y_dev)\n",
    "    df_logR = LogR_models(train_data, Y_train, dev_data, Y_dev)\n",
    "    df_DT = DT_models(train_data, Y_train, dev_data, Y_dev)\n",
    "    df_RF = RF_models(train_data, Y_train, dev_data, Y_dev)\n",
    "    df_AdaB = AdaB_models(train_data, Y_train, dev_data, Y_dev)\n",
    "    df_SVM = SVM_models(train_data, Y_train, dev_data)\n",
    "    df_NN1 = NN_models(train_data, Y_train, dev_data, Y_dev, \"L\")\n",
    "    df_NN2 = NN_models(train_data, Y_train, dev_data, Y_dev, \"S\")\n",
    "\n",
    "    wrt_excel(file_name, \"knn-\"+str(scale), df_knn)\n",
    "    wrt_excel(file_name, \"NB-\"+str(scale), df_NB)    \n",
    "    wrt_excel(file_name, \"MNB-\"+str(scale), df_MNB)\n",
    "    wrt_excel(file_name, \"GNB-\"+str(scale), df_GNB)\n",
    "    wrt_excel(file_name, \"logR-\"+str(scale), df_logR)\n",
    "    wrt_excel(file_name, \"DT-\"+str(scale), df_DT)\n",
    "    wrt_excel(file_name, \"RF-\"+str(scale), df_RF)\n",
    "    wrt_excel(file_name, \"AdaB-\"+str(scale), df_AdaB)\n",
    "    wrt_excel(file_name, \"SVM-\"+str(scale), df_SVM)\n",
    "    wrt_excel(file_name, \"NN-\"+str(scale)+\"L\", df_NN1)\n",
    "    wrt_excel(file_name, \"NN-\"+str(scale)+\"S\", df_NN2)"
   ]
  },
  {
   "cell_type": "markdown",
   "metadata": {},
   "source": [
    "### Exploring Model Model"
   ]
  },
  {
   "cell_type": "code",
   "execution_count": null,
   "metadata": {},
   "outputs": [],
   "source": [
    "scale = 100\n",
    "Y_train, Y_dev = assign_y(scale)"
   ]
  },
  {
   "cell_type": "code",
   "execution_count": null,
   "metadata": {},
   "outputs": [],
   "source": [
    "df_knn = knn_models(train_data, Y_train, dev_data, Y_dev)"
   ]
  },
  {
   "cell_type": "code",
   "execution_count": null,
   "metadata": {},
   "outputs": [],
   "source": [
    "print(train_data.shape)\n",
    "print(dev_data.shape)"
   ]
  },
  {
   "cell_type": "code",
   "execution_count": null,
   "metadata": {},
   "outputs": [],
   "source": []
  },
  {
   "cell_type": "markdown",
   "metadata": {},
   "source": [
    "#### Further Exploring KDD"
   ]
  },
  {
   "cell_type": "markdown",
   "metadata": {},
   "source": [
    "### KNN a single model: Options\n",
    "**n_neighbors:**  integer, default=5\n",
    "\n",
    "**weights: {‘uniform’, ‘distance’} or callable, default=’uniform’. Weight function used in prediction. Possible values**:    \n",
    "(a) ‘uniform’ : uniform weights. All points in each neighborhood are weighted equally.  \n",
    "(b) ‘distance’ : weight points by the inverse of their distance. in this case, closer neighbors of a query point will have a greater influence than neighbors which are further away.  \n",
    "(b) [callable] : a user-defined function which accepts an array of distances, and returns an array of the same shape containing the weights.  \n",
    "\n",
    "**algorithm{‘auto’, ‘ball_tree’, ‘kd_tree’, ‘brute’}, default=’auto’**\n",
    "Algorithm used to compute the nearest neighbors:\n",
    "(a) ‘ball_tree’ will use BallTree  \n",
    "(b) ‘kd_tree’ will use KDTree  \n",
    "(c) ‘brute’ will use a brute-force search.  \n",
    "(d) ‘auto’ will attempt to decide the most appropriate algorithm based on the values passed to fit method.  \n",
    "\n",
    "**metric - str or callable, default=’minkowski’**  \n",
    "“euclidean”, “manhattan”, “chebyshev”, “minkowski”, “wminkowski”, “seuclidean”, “mahalanobis”\n",
    "\n"
   ]
  },
  {
   "cell_type": "code",
   "execution_count": 79,
   "metadata": {},
   "outputs": [
    {
     "name": "stdout",
     "output_type": "stream",
     "text": [
      "For K:  6 ,for scale  2 , accuracy:  0.7914798206278026\n",
      "For K:  6 ,for scale  2 , f1_score:  0.70336606443429\n",
      "For K:  6 ,for scale  2 , MSME:  0.45664009829645635\n",
      "For K:  6 ,for scale  2 , MSME(100):  20.52180470741892\n"
     ]
    },
    {
     "data": {
      "image/png": "[encoded data removed]",
      "text/plain": [
       "<Figure size 72x72 with 1 Axes>"
      ]
     },
     "metadata": {
      "needs_background": "light"
     },
     "output_type": "display_data"
    }
   ],
   "source": [
    "scale = 2\n",
    "Y_train, Y_dev = assign_y(scale)\n",
    "k = 6\n",
    "\n",
    "metric_list = ['euclidean', 'manhattan', 'chebyshev', 'minkowski', 'wminkowski', 'seuclidean', 'mahalanobis']\n",
    "metric = metric_list[2]\n",
    "\n",
    "weights = [\"uniform\", \"distance\"]\n",
    "algorithm_list = [\"auto\", \"ball_tree\", \"kd_tree\", \"brute\"]\n",
    "\n",
    "knn_mod = KNeighborsClassifier(n_neighbors=k, algorithm=algorithm_list[0], weights=weights[0],  metric = metric)\n",
    "knn_mod.fit(train_data, Y_train)\n",
    "pred_knn = knn_mod.predict(dev_data)\n",
    "accuracy =  knn_mod.score(dev_data, Y_dev)\n",
    "f1_score = metrics.f1_score(Y_dev, knn_mod.predict(dev_data), average=\"weighted\")\n",
    "rmse = np.sqrt(mean_squared_error(knn_mod.predict(dev_data), Y_dev))\n",
    "\n",
    "print(\"For K: \",k,\",for scale \",scale,\", accuracy: \",accuracy)\n",
    "print(\"For K: \",k,\",for scale \",scale,\", f1_score: \",f1_score)\n",
    "print(\"For K: \",k,\",for scale \",scale,\", MSME: \",rmse)\n",
    "\n",
    "means = mean_scale1(scale, Y_train, train_labels)\n",
    "pre_scale = predict_scale(pred_knn, means)\n",
    "rmse = np.sqrt(mean_squared_error(pre_scale, dev_labels))\n",
    "print(\"For K: \",k,\",for scale \",scale,\", MSME(100): \",rmse)\n",
    "\n",
    "#Generate and create dataframe of Confusion Matrix\n",
    "print_confusion_matrix(Y_dev, pred_knn, \"KNN\")\n"
   ]
  },
  {
   "cell_type": "markdown",
   "metadata": {},
   "source": [
    "### Naive Bayes"
   ]
  },
  {
   "cell_type": "code",
   "execution_count": 87,
   "metadata": {},
   "outputs": [
    {
     "name": "stdout",
     "output_type": "stream",
     "text": [
      "Bernoulli - For alpha:  0.0001 ,for scale  2 , accuracy:  0.7948430493273543\n",
      "Bernoulli - For alpha:  0.0001 ,for scale  2 , f1_score:  0.7039896589295368\n",
      "Bernoulli - For alpha:  0.0001 ,for scale  2 , RMSE:  0.45294254676796014\n",
      "For K:  6 ,for scale  2 , MSME(100):  20.456176449800733\n",
      "MNB - For alpha:  0.0001 ,for scale  2 , accuracy:  0.7948430493273543\n",
      "MNB - For alpha:  0.0001 ,for scale  2 , f1_score:  0.7039896589295368\n",
      "MNB - For alpha:  0.0001 ,for scale  2 , RMSE:  0.45294254676796014\n",
      "For K:  6 ,for scale  2 , MSME(100):  20.456176449800733\n",
      "GNB - For alpha:  0.0001 ,for scale  2 , accuracy:  0.7948430493273543\n",
      "GNB - For alpha:  0.0001 ,for scale  2 , f1_score:  0.7039896589295368\n",
      "GNB - For alpha:  0.0001 ,for scale  2 , RMSE:  42.79497345907845\n",
      "For K:  6 ,for scale  2 , MSME(100):  20.456176449800733\n"
     ]
    },
    {
     "data": {
      "image/png": "[encoded data removed]",
      "text/plain": [
       "<Figure size 72x72 with 1 Axes>"
      ]
     },
     "metadata": {
      "needs_background": "light"
     },
     "output_type": "display_data"
    },
    {
     "data": {
      "image/png": "[encoded data removed]",
      "text/plain": [
       "<Figure size 72x72 with 1 Axes>"
      ]
     },
     "metadata": {
      "needs_background": "light"
     },
     "output_type": "display_data"
    },
    {
     "data": {
      "image/png": "[encoded data removed]",
      "text/plain": [
       "<Figure size 72x72 with 1 Axes>"
      ]
     },
     "metadata": {
      "needs_background": "light"
     },
     "output_type": "display_data"
    }
   ],
   "source": [
    "scale = 2\n",
    "\n",
    "Y_train, Y_dev = assign_y(scale)\n",
    "\n",
    "alpha_list = [1.0e-10, 0.0001, 0.001, 0.01, 0.1, 0.5, 1.0, 2.0, 10.0]\n",
    "smoothing_list = [1.0e-10, 0.0001, 0.001, 0.01, 0.1, 0.5, 1.0, 2.0, 10.0]\n",
    "i = 1\n",
    "\n",
    "NB_mod = BernoulliNB(alpha=alpha_list[i])\n",
    "NB_mod.fit(train_data, Y_train)\n",
    "pred_NB = NB_mod.predict(dev_data)\n",
    "accuracy =  NB_mod.score(dev_data, Y_dev)\n",
    "f1_score = metrics.f1_score(Y_dev, NB_mod.predict(dev_data), average=\"weighted\")\n",
    "rmse = np.sqrt(mean_squared_error(NB_mod.predict(dev_data), Y_dev))\n",
    "\n",
    "print(\"Bernoulli - For alpha: \",alpha_list[i],\",for scale \",scale,\", accuracy: \",accuracy)\n",
    "print(\"Bernoulli - For alpha: \",alpha_list[i],\",for scale \",scale,\", f1_score: \",f1_score)\n",
    "print(\"Bernoulli - For alpha: \",alpha_list[i],\",for scale \",scale,\", RMSE: \",rmse)\n",
    "\n",
    "means = mean_scale1(scale, Y_train, train_labels)\n",
    "\n",
    "# means[0] = 35.42\n",
    "# means[1] = 62.08\n",
    "\n",
    "pre_scale = predict_scale(pred_NB, means)\n",
    "rmse2 = np.sqrt(mean_squared_error(pre_scale, dev_labels))\n",
    "print(\"For K: \",k,\",for scale \",scale,\", MSME(100): \",rmse2)\n",
    "\n",
    "print_confusion_matrix(Y_dev, pred_NB, \"NB\")\n",
    "\n",
    "MNB_mod = MultinomialNB(alpha=alpha_list[i])\n",
    "MNB_mod.fit(train_data, Y_train)\n",
    "pred_MNB = MNB_mod.predict(dev_data)\n",
    "accuracy =  MNB_mod.score(dev_data, Y_dev)\n",
    "f1_score = metrics.f1_score(Y_dev, MNB_mod.predict(dev_data), average=\"weighted\")\n",
    "rmse = np.sqrt(mean_squared_error(MNB_mod.predict(dev_data), Y_dev))\n",
    "\n",
    "print(\"MNB - For alpha: \",alpha_list[i],\",for scale \",scale,\", accuracy: \",accuracy)\n",
    "print(\"MNB - For alpha: \",alpha_list[i],\",for scale \",scale,\", f1_score: \",f1_score)\n",
    "print(\"MNB - For alpha: \",alpha_list[i],\",for scale \",scale,\", RMSE: \",rmse)\n",
    "\n",
    "pre_scale = predict_scale(pred_MNB, means)\n",
    "rmse2 = np.sqrt(mean_squared_error(pre_scale, dev_labels))\n",
    "print(\"For K: \",k,\",for scale \",scale,\", MSME(100): \",rmse2)\n",
    "\n",
    "print_confusion_matrix(Y_dev, pred_MNB, \"MNB\")\n",
    "\n",
    "GNB_mod = GaussianNB(var_smoothing=smoothing_list[i])\n",
    "GNB_mod.fit(train_data, Y_train)\n",
    "pred_GNB = GNB_mod.predict(dev_data)\n",
    "accuracy =  GNB_mod.score(dev_data, Y_dev)\n",
    "f1_score = metrics.f1_score(Y_dev, GNB_mod.predict(dev_data), average=\"weighted\")\n",
    "rmse = np.sqrt(mean_squared_error(GNB_mod.predict(dev_data), dev_labels))\n",
    "\n",
    "print(\"GNB - For alpha: \",alpha_list[i],\",for scale \",scale,\", accuracy: \",accuracy)\n",
    "print(\"GNB - For alpha: \",alpha_list[i],\",for scale \",scale,\", f1_score: \",f1_score)\n",
    "print(\"GNB - For alpha: \",alpha_list[i],\",for scale \",scale,\", RMSE: \",rmse)\n",
    "\n",
    "pre_scale = predict_scale(pred_GNB, means)\n",
    "rmse2 = np.sqrt(mean_squared_error(pre_scale, dev_labels))\n",
    "print(\"For K: \",k,\",for scale \",scale,\", MSME(100): \",rmse2)\n",
    "\n",
    "print_confusion_matrix(Y_dev, pred_GNB, \"GNB\")"
   ]
  },
  {
   "cell_type": "markdown",
   "metadata": {},
   "source": [
    "### Logistic Regression\n",
    "\n",
    "**multi_class{‘auto’, ‘ovr’, ‘multinomial’}, default=’auto’**  \n",
    "If the option chosen is ‘ovr’, then a binary problem is fit for each label. For ‘multinomial’ the loss minimised is the multinomial loss fit across the entire probability distribution, even when the data is binary. ‘multinomial’ is unavailable when solver=’liblinear’. ‘auto’ selects ‘ovr’ if the data is binary, or if solver=’liblinear’, and otherwise selects ‘multinomial’."
   ]
  },
  {
   "cell_type": "code",
   "execution_count": 90,
   "metadata": {},
   "outputs": [
    {
     "name": "stdout",
     "output_type": "stream",
     "text": [
      "accuracy:  0.7948430493273543\n",
      "F1_score:  0.7039896589295368\n",
      "RMSE:  0.45294254676796014\n",
      "For K:  6 ,for scale  2 , MSME(100):  20.456176449800733\n"
     ]
    },
    {
     "data": {
      "image/png": "[encoded data removed]",
      "text/plain": [
       "<Figure size 72x72 with 1 Axes>"
      ]
     },
     "metadata": {
      "needs_background": "light"
     },
     "output_type": "display_data"
    }
   ],
   "source": [
    "scale = 2\n",
    "Y_train, Y_dev = assign_y(scale)\n",
    "c_list = [0.1, 0.2, 0.3, 0.4, 0.5, 0.6, 0.7, 0.8, 0.9, 1, 1.1, 1.2, 1.3, 1.4, 1.5, 100]\n",
    "solver_list = [\"liblinear\", \"newton-cg\", \"sag\", \"lbfgs\"]\n",
    "c_list = [1, 2, 3, 4, 5, 6, 7, 8, 9, 10, 11, 12, 13, 14, 15]\n",
    "penalty = [\"l1\", \"l2\"]\n",
    "\n",
    "logR_mod = LogisticRegression(C=c_list[8], solver=solver_list[2], multi_class='multinomial', penalty=penalty[1], max_iter=200)\n",
    "logR_mod.fit(train_data, Y_train)\n",
    "pred_logR = logR_mod.predict(dev_data)\n",
    "accuracy =  logR_mod.score(dev_data, Y_dev)\n",
    "f1_score = metrics.f1_score(Y_dev, logR_mod.predict(dev_data), average=\"weighted\")\n",
    "rmse = np.sqrt(mean_squared_error(logR_mod.predict(dev_data), Y_dev))\n",
    "\n",
    "print(\"accuracy: \", accuracy)\n",
    "print(\"F1_score: \", f1_score)\n",
    "print(\"RMSE: \", rmse)\n",
    "\n",
    "means = mean_scale1(scale, Y_train, train_labels)\n",
    "pre_scale = predict_scale(pred_logR, means)\n",
    "rmse2 = np.sqrt(mean_squared_error(pre_scale, dev_labels))\n",
    "print(\"For K: \",k,\",for scale \",scale,\", MSME(100): \",rmse2)\n",
    "\n",
    "print_confusion_matrix(Y_dev, pred_logR, \"Logistic Regression\")\n"
   ]
  },
  {
   "cell_type": "markdown",
   "metadata": {},
   "source": [
    "### Desicion Tress - Random Forest"
   ]
  },
  {
   "cell_type": "code",
   "execution_count": 93,
   "metadata": {},
   "outputs": [
    {
     "name": "stdout",
     "output_type": "stream",
     "text": [
      "Accuracy Decision Tree:  0.7942825112107623\n",
      "F1_score Decision Tree:  0.7037129652588948\n",
      "RMSE Decision Tree:  0.4535608986555584\n",
      "For K:  6 ,for scale  2 , MSME(100):  20.457213559023053\n",
      "Accuracy Random Forest:  0.7931614349775785\n",
      "F1_score Random Forest:  0.7031590589548022\n",
      "RMSE Random Forest:  0.4547950802530976\n",
      "For K:  6 ,for scale  2 , MSME(100):  20.493826604758947\n",
      "Accuracy AdaBoost:  0.7948430493273543\n",
      "F1_score AdaBoost:  0.7039896589295368\n",
      "RMSE AdaBoost:  0.45294254676796014\n",
      "For K:  6 ,for scale  2 , MSME(100):  20.456176449800733\n"
     ]
    },
    {
     "data": {
      "image/png": "[encoded data removed]",
      "text/plain": [
       "<Figure size 72x72 with 1 Axes>"
      ]
     },
     "metadata": {
      "needs_background": "light"
     },
     "output_type": "display_data"
    },
    {
     "data": {
      "image/png": "[encoded data removed]",
      "text/plain": [
       "<Figure size 72x72 with 1 Axes>"
      ]
     },
     "metadata": {
      "needs_background": "light"
     },
     "output_type": "display_data"
    },
    {
     "data": {
      "image/png": "[encoded data removed]",
      "text/plain": [
       "<Figure size 72x72 with 1 Axes>"
      ]
     },
     "metadata": {
      "needs_background": "light"
     },
     "output_type": "display_data"
    }
   ],
   "source": [
    "scale = 2\n",
    "Y_train, Y_dev = assign_y(scale)\n",
    "criterion_list = [\"entropy\", \"gini\"]\n",
    "max_depth_list = [1, 2, 3, 4, 5, 6, 7, 8, 9, 10, 11, 12]\n",
    "n_estimators_list = [5, 10, 15, 20, 25, 30]\n",
    "algorithm_list = [\"SAMME\", \"SAMME.R\"]\n",
    "\n",
    "means = mean_scale1(scale, Y_train, train_labels)\n",
    "\n",
    "dt_model = DecisionTreeClassifier(criterion=criterion_list[0], min_samples_split=10, max_depth=max_depth_list[5])\n",
    "dt_model.fit(train_data, Y_train)\n",
    "pred_dt = dt_model.predict(dev_data)\n",
    "accuracy =  dt_model.score(dev_data, Y_dev)\n",
    "f1_score = metrics.f1_score(Y_dev, dt_model.predict(dev_data), average=\"weighted\")\n",
    "rmse = np.sqrt(mean_squared_error(dt_model.predict(dev_data), Y_dev))\n",
    "print(\"Accuracy Decision Tree: \", accuracy)\n",
    "print(\"F1_score Decision Tree: \", f1_score)\n",
    "print(\"RMSE Decision Tree: \", rmse)\n",
    "\n",
    "pre_scale = predict_scale(pred_dt, means)\n",
    "rmse2 = np.sqrt(mean_squared_error(pre_scale, dev_labels))\n",
    "print(\"For K: \",k,\",for scale \",scale,\", MSME(100): \",rmse2)\n",
    "\n",
    "print_confusion_matrix(Y_dev, pred_dt, \"Decision Tree\")\n",
    "\n",
    "RF_model = RandomForestClassifier(n_estimators=n_estimators_list[3],criterion=criterion_list[0], min_samples_split=10)\n",
    "RF_model.fit(train_data, Y_train)\n",
    "pred_RF = RF_model.predict(dev_data)\n",
    "accuracy =  RF_model.score(dev_data, Y_dev)\n",
    "f1_score = metrics.f1_score(Y_dev, RF_model.predict(dev_data), average=\"weighted\")\n",
    "rmse = np.sqrt(mean_squared_error(RF_model.predict(dev_data), Y_dev))\n",
    "print(\"Accuracy Random Forest: \", accuracy)\n",
    "print(\"F1_score Random Forest: \", f1_score)\n",
    "print(\"RMSE Random Forest: \", rmse)\n",
    "\n",
    "pre_scale = predict_scale(pred_RF, means)\n",
    "rmse2 = np.sqrt(mean_squared_error(pre_scale, dev_labels))\n",
    "print(\"For K: \",k,\",for scale \",scale,\", MSME(100): \",rmse2)\n",
    "\n",
    "print_confusion_matrix(Y_dev, pred_RF, \"Random Forest\")\n",
    "\n",
    "AdaB_model = AdaBoostClassifier(n_estimators=n_estimators_list[3],algorithm=algorithm_list[0], learning_rate=1.2)\n",
    "AdaB_model.fit(train_data, Y_train)\n",
    "pred_AdaB = AdaB_model.predict(dev_data)\n",
    "accuracy =  AdaB_model.score(dev_data, Y_dev)\n",
    "f1_score = metrics.f1_score(Y_dev, AdaB_model.predict(dev_data), average=\"weighted\")\n",
    "rmse = np.sqrt(mean_squared_error(AdaB_model.predict(dev_data), Y_dev))\n",
    "print(\"Accuracy AdaBoost: \", accuracy)\n",
    "print(\"F1_score AdaBoost: \", f1_score)\n",
    "print(\"RMSE AdaBoost: \", rmse)\n",
    "\n",
    "pre_scale = predict_scale(pred_AdaB, means)\n",
    "rmse2 = np.sqrt(mean_squared_error(pre_scale, dev_labels))\n",
    "print(\"For K: \",k,\",for scale \",scale,\", MSME(100): \",rmse2)\n",
    "print_confusion_matrix(Y_dev, pred_AdaB, \"Ada Boooster\")"
   ]
  },
  {
   "cell_type": "markdown",
   "metadata": {},
   "source": [
    "### SVM"
   ]
  },
  {
   "cell_type": "code",
   "execution_count": null,
   "metadata": {},
   "outputs": [],
   "source": [
    "train_data.shape"
   ]
  },
  {
   "cell_type": "code",
   "execution_count": 94,
   "metadata": {},
   "outputs": [
    {
     "name": "stdout",
     "output_type": "stream",
     "text": [
      "accuracy LinearSVC:  0.7948430493273543\n",
      "F1_score LinearSVC:  0.7039896589295368\n",
      "RMSE LinearSVC:  0.45294254676796014\n",
      "For K:  6 ,for scale  2 , MSME(100):  20.456176449800733\n",
      "accuracy SVC poly:  0.7948430493273543\n",
      "F1_score SVC poly:  0.7039896589295368\n",
      "RMSE SVC poly:  0.45294254676796014\n",
      "For K:  6 ,for scale  2 , MSME(100):  20.456176449800733\n",
      "accuracy SVC rbf:  0.7937219730941704\n",
      "F1_score SVC rbf:  0.7044878900724904\n",
      "RMSE SVC rbf:  0.45417840867420106\n",
      "For K:  6 ,for scale  2 , MSME(100):  20.461997070030435\n",
      "accuracy SVD linear:  0.7937219730941704\n",
      "F1_score SVD linear:  0.7039896589295368\n",
      "RMSE SVD linear:  0.45294254676796014\n",
      "For K:  6 ,for scale  2 , MSME(100):  20.456176449800733\n"
     ]
    },
    {
     "data": {
      "image/png": "[encoded data removed]",
      "text/plain": [
       "<Figure size 72x72 with 1 Axes>"
      ]
     },
     "metadata": {
      "needs_background": "light"
     },
     "output_type": "display_data"
    },
    {
     "data": {
      "image/png": "[encoded data removed]",
      "text/plain": [
       "<Figure size 72x72 with 1 Axes>"
      ]
     },
     "metadata": {
      "needs_background": "light"
     },
     "output_type": "display_data"
    },
    {
     "data": {
      "image/png": "[encoded data removed]",
      "text/plain": [
       "<Figure size 72x72 with 1 Axes>"
      ]
     },
     "metadata": {
      "needs_background": "light"
     },
     "output_type": "display_data"
    },
    {
     "data": {
      "image/png": "[encoded data removed]",
      "text/plain": [
       "<Figure size 72x72 with 1 Axes>"
      ]
     },
     "metadata": {
      "needs_background": "light"
     },
     "output_type": "display_data"
    }
   ],
   "source": [
    "scale = 2\n",
    "Y_train, Y_dev = assign_y(scale)\n",
    "kernel_list = [\"linear\", \"rbf\", \"poly\", \"LinearSVC\"]\n",
    "c_list = [0.5, 1, 1.5, 2, 2.5, 3, 4, 5, 10, 20]\n",
    "means = mean_scale1(scale, Y_train, train_labels)\n",
    "\n",
    "svm_LSVC = svm.LinearSVC(C=c_list[5], max_iter=10000)\n",
    "svm_LSVC.fit(train_data, Y_train)\n",
    "pred_LSVC = svm_LSVC.predict(dev_data)\n",
    "accuracy =  svm_LSVC.score(dev_data, Y_dev)\n",
    "f1_score = metrics.f1_score(Y_dev, svm_LSVC.predict(dev_data), average=\"weighted\")\n",
    "rmse = np.sqrt(mean_squared_error(svm_LSVC.predict(dev_data), Y_dev))\n",
    "print(\"accuracy LinearSVC: \", accuracy)\n",
    "print(\"F1_score LinearSVC: \", f1_score)\n",
    "print(\"RMSE LinearSVC: \", rmse)\n",
    "\n",
    "pre_scale = predict_scale(pred_LSVC, means)\n",
    "rmse2 = np.sqrt(mean_squared_error(pre_scale, dev_labels))\n",
    "print(\"For K: \",k,\",for scale \",scale,\", MSME(100): \",rmse2)\n",
    "\n",
    "print_confusion_matrix(Y_dev, pred_LSVC, \"SVM LinearSVC\")\n",
    "\n",
    "svm_poly = svm.SVC(kernel=\"poly\", C=c_list[5], degree=2, gamma=1)\n",
    "svm_poly.fit(train_data, Y_train)\n",
    "pred_poly = svm_poly.predict(dev_data)\n",
    "accuracy =  svm_poly.score(dev_data, Y_dev)\n",
    "f1_score = metrics.f1_score(Y_dev, svm_poly.predict(dev_data), average=\"weighted\")\n",
    "rmse = np.sqrt(mean_squared_error(svm_poly.predict(dev_data), Y_dev))\n",
    "print(\"accuracy SVC poly: \", accuracy)\n",
    "print(\"F1_score SVC poly: \", f1_score)\n",
    "print(\"RMSE SVC poly: \", rmse)\n",
    "\n",
    "pre_scale = predict_scale(pred_poly, means)\n",
    "rmse2 = np.sqrt(mean_squared_error(pre_scale, dev_labels))\n",
    "print(\"For K: \",k,\",for scale \",scale,\", MSME(100): \",rmse2)\n",
    "\n",
    "print_confusion_matrix(Y_dev, pred_poly, \"SVM Poly\")\n",
    "\n",
    "svm_rbf = svm.SVC(kernel=\"rbf\", C=c_list[5], gamma=0.7)\n",
    "svm_rbf.fit(train_data, Y_train)\n",
    "pred_rbf = svm_rbf.predict(dev_data)\n",
    "accuracy =  svm_rbf.score(dev_data, Y_dev)\n",
    "f1_score = metrics.f1_score(Y_dev, svm_rbf.predict(dev_data), average=\"weighted\")\n",
    "rmse = np.sqrt(mean_squared_error(svm_rbf.predict(dev_data), Y_dev))\n",
    "print(\"accuracy SVC rbf: \", accuracy)\n",
    "print(\"F1_score SVC rbf: \", f1_score)\n",
    "print(\"RMSE SVC rbf: \", rmse)\n",
    "\n",
    "pre_scale = predict_scale(pred_rbf, means)\n",
    "rmse2 = np.sqrt(mean_squared_error(pre_scale, dev_labels))\n",
    "print(\"For K: \",k,\",for scale \",scale,\", MSME(100): \",rmse2)\n",
    "\n",
    "print_confusion_matrix(Y_dev, pred_rbf, \"SVM rbf\")\n",
    "\n",
    "svm_lin = svm.SVC(kernel=\"linear\", C=c_list[5])\n",
    "svm_lin.fit(train_data, Y_train)\n",
    "pred_lin = svm_lin.predict(dev_data)\n",
    "accuracy =  svm_rbf.score(dev_data, Y_dev)\n",
    "f1_score = metrics.f1_score(Y_dev, svm_lin.predict(dev_data), average=\"weighted\")\n",
    "rmse = np.sqrt(mean_squared_error(svm_lin.predict(dev_data), Y_dev))\n",
    "print(\"accuracy SVD linear: \", accuracy)\n",
    "print(\"F1_score SVD linear: \", f1_score)\n",
    "print(\"RMSE SVD linear: \", rmse)\n",
    "\n",
    "pre_scale = predict_scale(pred_lin, means)\n",
    "rmse2 = np.sqrt(mean_squared_error(pre_scale, dev_labels))\n",
    "print(\"For K: \",k,\",for scale \",scale,\", MSME(100): \",rmse2)\n",
    "\n",
    "print_confusion_matrix(Y_dev, pred_lin, \"SVM linear\")"
   ]
  },
  {
   "cell_type": "code",
   "execution_count": null,
   "metadata": {},
   "outputs": [],
   "source": [
    "#SIMPLE SVM\n"
   ]
  },
  {
   "cell_type": "markdown",
   "metadata": {},
   "source": [
    "#### Neural Networks"
   ]
  },
  {
   "cell_type": "code",
   "execution_count": null,
   "metadata": {},
   "outputs": [],
   "source": [
    "def NN_model1(train_data, train_labels, dev_data, dev_labels, activation, solver_list, alpha_list, layer_list, choice):\n",
    "        \n",
    "    f1_score = []\n",
    "    rmse_score = []\n",
    "    \n",
    "    if choice == \"A\":\n",
    "        for alpha in alpha_list:\n",
    "            NN_model = MLPClassifier(hidden_layer_sizes=(10, 10, 10), max_iter=1000, activation=activation, alpha=alpha)\n",
    "            NN_model.fit(train_data, train_labels)\n",
    "            f1_score.append(metrics.f1_score(dev_labels, NN_model.predict(dev_data), average=\"weighted\"))\n",
    "            rmse_score.append( np.sqrt(mean_squared_error(NN_model.predict(dev_data), Y_dev)) )\n",
    "    elif choice == \"L\":\n",
    "        for layer in layer_list:\n",
    "            NN_model = MLPClassifier(hidden_layer_sizes=layer, max_iter=1000, activation=activation)\n",
    "            NN_model.fit(train_data, train_labels)\n",
    "            f1_score.append(metrics.f1_score(dev_labels, NN_model.predict(dev_data), average=\"weighted\"))    \n",
    "            rmse_score.append( np.sqrt(mean_squared_error(NN_model.predict(dev_data), Y_dev)) )\n",
    "    else:\n",
    "        for solver in solver_list:\n",
    "            NN_model = MLPClassifier(hidden_layer_sizes=(10, 10, 10), max_iter=8000, activation=activation, solver=solver)\n",
    "            NN_model.fit(train_data, train_labels)\n",
    "            f1_score.append(metrics.f1_score(dev_labels, NN_model.predict(dev_data), average=\"weighted\"))\n",
    "            rmse_score.append( np.sqrt(mean_squared_error(NN_model.predict(dev_data), Y_dev)) )\n",
    "                \n",
    "    return(f1_score, rmse_score)\n",
    "\n",
    "#Note: Changing Alpha is not creating any variation in the f1_score.  Try first with L and then with S\n",
    "def NN_models1(train_data, Y_train, dev_data, Y_dev, choice):\n",
    "    \n",
    "    df_NN =pd.DataFrame()\n",
    "    #activation_list = [\"identity\", \"logistic\", \"tanh\", \"relu\"]\n",
    "    #layer_list = [(10,10,10), (5,5,5), (3,3,3), (20, 20, 20)]\n",
    "    #solver_list = [\"lbfgs\", \"sgd\", \"adam\"]\n",
    "    #alpha_list = [0.0001, 0.001, 0.01, 0.1, 0.2, 0.3, 0.5]\n",
    "\n",
    "    activation_list = [\"identity\"]\n",
    "    layer_list = [(10,10,10)]\n",
    "    solver_list = [\"lbfgs\"]\n",
    "    alpha_list = [0.0001]\n",
    "\n",
    "    for activation in activation_list:\n",
    "        f1 , rmse = NN_model1(train_data, Y_train, dev_data, Y_dev, activation, solver_list, alpha_list, layer_list, choice)\n",
    "        df_NN[activation+\"-\"+\"f1\"] = f1 \n",
    "        df_NN[activation+\"-\"+\"RMSE\"] = rmse \n",
    "\n",
    "    if choice == \"A\":\n",
    "        df_NN[\"Alpha\"] = alpha_list\n",
    "    elif choice == \"L\":\n",
    "        df_NN[\"Layers\"] = layer_list\n",
    "    else:\n",
    "        df_NN[\"Solver\"] = solver_list\n",
    "    \n",
    "    print(df_NN)\n",
    "    print(\"df_NN\")\n",
    "    return(df_NN)\n",
    "\n",
    "scale = 100\n",
    "Y_train, Y_dev = assign_y(scale)\n",
    "\n",
    "df_NN1 = NN_models1(train_data, Y_train, dev_data, Y_dev, \"L\")\n",
    "df_NN1"
   ]
  },
  {
   "cell_type": "code",
   "execution_count": 96,
   "metadata": {},
   "outputs": [
    {
     "name": "stdout",
     "output_type": "stream",
     "text": [
      "accuracy:  0.7909192825112108\n",
      "F1-score:  0.7041095780166501\n",
      "RMSE:  0.4572534499473888\n",
      "For K:  6 ,for scale  2 , MSME(100):  20.48763562557936\n"
     ]
    },
    {
     "data": {
      "image/png": "[encoded data removed]",
      "text/plain": [
       "<Figure size 72x72 with 1 Axes>"
      ]
     },
     "metadata": {
      "needs_background": "light"
     },
     "output_type": "display_data"
    }
   ],
   "source": [
    "#SIMPLE NEURAL NETWORK\n",
    "scale = 2\n",
    "layer_list = [(10,10,10), (5,5,5), (3,3,3), (20, 20, 20), (100, 100, 100), (1000,1000,1000)]\n",
    "activation_list = [\"identity\", \"logistic\", \"tanh\", \"relu\"]\n",
    "Y_train, Y_dev = assign_y(scale)\n",
    "\n",
    "NN_model = MLPClassifier(hidden_layer_sizes=layer_list[4], max_iter=1000, activation=activation_list[3])\n",
    "NN_model.fit(train_data, Y_train)\n",
    "pred_NN = NN_model.predict(dev_data)\n",
    "accuracy =  NN_model.score(dev_data, Y_dev)\n",
    "f1_score = metrics.f1_score(Y_dev, pred_NN, average=\"weighted\")\n",
    "rmse = np.sqrt(mean_squared_error(pred_NN, Y_dev))\n",
    "\n",
    "print(\"accuracy: \",accuracy)\n",
    "print(\"F1-score: \",f1_score)\n",
    "print(\"RMSE: \",rmse)\n",
    "\n",
    "means = mean_scale1(scale, Y_train, train_labels)\n",
    "pre_scale = predict_scale(pred_NN, means)\n",
    "rmse2 = np.sqrt(mean_squared_error(pre_scale, dev_labels))\n",
    "print(\"For K: \",k,\",for scale \",scale,\", MSME(100): \",rmse2)\n",
    "\n",
    "print_confusion_matrix(Y_dev, NN_model.predict(dev_data), \"Neural Network\")"
   ]
  },
  {
   "cell_type": "markdown",
   "metadata": {},
   "source": [
    "### Keras - Tensorflow\n",
    "\n",
    "- For X values: using StandardScaler ->  X_scaler = StandardScaler().fit(traind_data):  \n",
    "> train_data -> X_train_scaled  \n",
    "> dev_data => X_test_scaled  \n",
    "\n",
    "- For Y values: usig label_encoder.transform(Y_train):\n",
    "> Y_train -> encoded_y_train  \n",
    "> Y_dev -> encoded_y_dev  \n",
    "\n",
    "- Then convert to one-hot-encoding:\n",
    "> y_train_categorical = to_catergorical(encoded_y_train)  \n",
    "> y_test_categorical = to_categorical(encoded_y_dev)  \n",
    "\n",
    "**Useful References:**  \n",
    "- https://towardsdatascience.com/3-ways-to-create-a-machine-learning-model-with-keras-and-tensorflow-2-0-de09323af4d3#:~:text=Sequential%20Model%20is%20the%20easiest%20way%20to%20get,implement%20our%20own%20custom%20forward-pass%20of%20the%20model"
   ]
  },
  {
   "cell_type": "code",
   "execution_count": 97,
   "metadata": {},
   "outputs": [],
   "source": [
    "from sklearn.preprocessing import LabelEncoder, StandardScaler\n",
    "from tensorflow import keras\n",
    "from tensorflow.keras.utils import to_categorical\n",
    "\n",
    "#For saving and loading created models and labelencoders\n",
    "import joblib\n",
    "from joblib import dump, load\n",
    "\n",
    "#For CREATING NEURAL NETWORK MODEL\n",
    "from tensorflow.keras.models import Sequential\n",
    "from tensorflow.keras.layers import Dense"
   ]
  },
  {
   "cell_type": "code",
   "execution_count": null,
   "metadata": {},
   "outputs": [],
   "source": [
    "def plot_metric(history, metric):\n",
    "    train_metrics = history.history[metric]\n",
    "    #val_metrics = history.history['val_'+metric]\n",
    "    val_metrics = history.history[metric]\n",
    "    epochs = range(1, len(train_metrics) + 1)\n",
    "    plt.plot(epochs, train_metrics, 'bo--')\n",
    "    plt.plot(epochs, val_metrics, 'ro-')\n",
    "    plt.title('Training and validation '+ metric)\n",
    "    plt.xlabel(\"Epochs\")\n",
    "    plt.ylabel(metric)\n",
    "    plt.legend([\"train_\"+metric, 'val_'+metric])\n",
    "    plt.show()"
   ]
  },
  {
   "cell_type": "code",
   "execution_count": 98,
   "metadata": {},
   "outputs": [],
   "source": [
    "scale = 2\n",
    "Y_train, Y_dev = assign_y(scale)\n",
    "\n",
    "# Step 0: SCALE THE DATA - TO BRING THEM TO THE SAME SCALE (MAY NOT BE NEEDED HERE AS IT IS ZEROS AND ONES)\n",
    "X_scaler = StandardScaler().fit(train_data)\n",
    "X_train_scaled = X_scaler.transform(train_data)\n",
    "X_test_scaled = X_scaler.transform(dev_data)\n",
    "#print(X_test_scaled)\n",
    "\n",
    "# Step 1: Label-encode data set (NOT NEEDED AS Y IS ALREADY CODED AS NUMERIC)\n",
    "label_encoder = LabelEncoder()\n",
    "label_encoder.fit(Y_train)\n",
    "\n",
    "encoded_y_train = label_encoder.transform(Y_train)\n",
    "encoded_y_dev = label_encoder.transform(Y_dev)\n",
    "\n",
    "# Step 2: Convert encoded labels to one-hot-encoding\n",
    "y_train_categorical = to_categorical(Y_train)\n",
    "y_test_categorical = to_categorical(Y_dev)"
   ]
  },
  {
   "cell_type": "code",
   "execution_count": null,
   "metadata": {},
   "outputs": [],
   "source": [
    "#Saving the label_encoder - When using encoded, it could be saved for being uploaded later for use with model\n",
    "#from sklearn.externals.joblib import dump, load  - THIS DID NOT WORK - USED THE CODE BELOW\n",
    "\n",
    "#dump(label_encoder, 'Project_1_NN_label_encoder.bin', compress=True)"
   ]
  },
  {
   "cell_type": "code",
   "execution_count": 100,
   "metadata": {},
   "outputs": [
    {
     "name": "stdout",
     "output_type": "stream",
     "text": [
      "12\n",
      "(7930, 12)\n",
      "2\n",
      "Epoch 1/60\n",
      "248/248 - 1s - loss: 0.5312 - accuracy: 0.7818\n",
      "Epoch 2/60\n",
      "248/248 - 0s - loss: 0.5214 - accuracy: 0.7847\n",
      "Epoch 3/60\n",
      "248/248 - 0s - loss: 0.5218 - accuracy: 0.7845\n",
      "Epoch 4/60\n",
      "248/248 - 0s - loss: 0.5206 - accuracy: 0.7847\n",
      "Epoch 5/60\n",
      "248/248 - 0s - loss: 0.5203 - accuracy: 0.7847\n",
      "Epoch 6/60\n",
      "248/248 - 0s - loss: 0.5189 - accuracy: 0.7847\n",
      "Epoch 7/60\n",
      "248/248 - 0s - loss: 0.5182 - accuracy: 0.7850\n",
      "Epoch 8/60\n",
      "248/248 - 0s - loss: 0.5183 - accuracy: 0.7847\n",
      "Epoch 9/60\n",
      "248/248 - 0s - loss: 0.5180 - accuracy: 0.7852\n",
      "Epoch 10/60\n",
      "248/248 - 0s - loss: 0.5167 - accuracy: 0.7850\n",
      "Epoch 11/60\n",
      "248/248 - 0s - loss: 0.5172 - accuracy: 0.7852\n",
      "Epoch 12/60\n",
      "248/248 - 0s - loss: 0.5174 - accuracy: 0.7850\n",
      "Epoch 13/60\n",
      "248/248 - 0s - loss: 0.5169 - accuracy: 0.7844\n",
      "Epoch 14/60\n",
      "248/248 - 0s - loss: 0.5151 - accuracy: 0.7856\n",
      "Epoch 15/60\n",
      "248/248 - 0s - loss: 0.5157 - accuracy: 0.7851\n",
      "Epoch 16/60\n",
      "248/248 - 0s - loss: 0.5152 - accuracy: 0.7852\n",
      "Epoch 17/60\n",
      "248/248 - 0s - loss: 0.5155 - accuracy: 0.7858\n",
      "Epoch 18/60\n",
      "248/248 - 0s - loss: 0.5150 - accuracy: 0.7856\n",
      "Epoch 19/60\n",
      "248/248 - 0s - loss: 0.5142 - accuracy: 0.7854\n",
      "Epoch 20/60\n",
      "248/248 - 0s - loss: 0.5145 - accuracy: 0.7855\n",
      "Epoch 21/60\n",
      "248/248 - 0s - loss: 0.5140 - accuracy: 0.7855\n",
      "Epoch 22/60\n",
      "248/248 - 0s - loss: 0.5134 - accuracy: 0.7850\n",
      "Epoch 23/60\n",
      "248/248 - 0s - loss: 0.5131 - accuracy: 0.7854\n",
      "Epoch 24/60\n",
      "248/248 - 0s - loss: 0.5129 - accuracy: 0.7854\n",
      "Epoch 25/60\n",
      "248/248 - 0s - loss: 0.5132 - accuracy: 0.7855\n",
      "Epoch 26/60\n",
      "248/248 - 0s - loss: 0.5126 - accuracy: 0.7858\n",
      "Epoch 27/60\n",
      "248/248 - 0s - loss: 0.5119 - accuracy: 0.7852\n",
      "Epoch 28/60\n",
      "248/248 - 0s - loss: 0.5121 - accuracy: 0.7861\n",
      "Epoch 29/60\n",
      "248/248 - 0s - loss: 0.5113 - accuracy: 0.7851\n",
      "Epoch 30/60\n",
      "248/248 - 0s - loss: 0.5114 - accuracy: 0.7850\n",
      "Epoch 31/60\n",
      "248/248 - 0s - loss: 0.5114 - accuracy: 0.7861\n",
      "Epoch 32/60\n",
      "248/248 - 0s - loss: 0.5112 - accuracy: 0.7850\n",
      "Epoch 33/60\n",
      "248/248 - 0s - loss: 0.5113 - accuracy: 0.7851\n",
      "Epoch 34/60\n",
      "248/248 - 0s - loss: 0.5103 - accuracy: 0.7851\n",
      "Epoch 35/60\n",
      "248/248 - 0s - loss: 0.5104 - accuracy: 0.7858\n",
      "Epoch 36/60\n",
      "248/248 - 0s - loss: 0.5102 - accuracy: 0.7858\n",
      "Epoch 37/60\n",
      "248/248 - 0s - loss: 0.5105 - accuracy: 0.7858\n",
      "Epoch 38/60\n",
      "248/248 - 0s - loss: 0.5095 - accuracy: 0.7863\n",
      "Epoch 39/60\n",
      "248/248 - 0s - loss: 0.5102 - accuracy: 0.7864\n",
      "Epoch 40/60\n",
      "248/248 - 0s - loss: 0.5099 - accuracy: 0.7863\n",
      "Epoch 41/60\n",
      "248/248 - 0s - loss: 0.5094 - accuracy: 0.7864\n",
      "Epoch 42/60\n",
      "248/248 - 0s - loss: 0.5102 - accuracy: 0.7863\n",
      "Epoch 43/60\n",
      "248/248 - 0s - loss: 0.5098 - accuracy: 0.7863\n",
      "Epoch 44/60\n",
      "248/248 - 0s - loss: 0.5089 - accuracy: 0.7865\n",
      "Epoch 45/60\n",
      "248/248 - 0s - loss: 0.5089 - accuracy: 0.7863\n",
      "Epoch 46/60\n",
      "248/248 - 0s - loss: 0.5085 - accuracy: 0.7861\n",
      "Epoch 47/60\n",
      "248/248 - 0s - loss: 0.5093 - accuracy: 0.7864\n",
      "Epoch 48/60\n",
      "248/248 - 0s - loss: 0.5089 - accuracy: 0.7864\n",
      "Epoch 49/60\n",
      "248/248 - 0s - loss: 0.5086 - accuracy: 0.7865\n",
      "Epoch 50/60\n",
      "248/248 - 0s - loss: 0.5086 - accuracy: 0.7871\n",
      "Epoch 51/60\n",
      "248/248 - 0s - loss: 0.5081 - accuracy: 0.7866\n",
      "Epoch 52/60\n",
      "248/248 - 0s - loss: 0.5083 - accuracy: 0.7858\n",
      "Epoch 53/60\n",
      "248/248 - 0s - loss: 0.5077 - accuracy: 0.7863\n",
      "Epoch 54/60\n",
      "248/248 - 0s - loss: 0.5075 - accuracy: 0.7863\n",
      "Epoch 55/60\n",
      "248/248 - 0s - loss: 0.5085 - accuracy: 0.7860\n",
      "Epoch 56/60\n",
      "248/248 - 0s - loss: 0.5084 - accuracy: 0.7865\n",
      "Epoch 57/60\n",
      "248/248 - 0s - loss: 0.5077 - accuracy: 0.7861\n",
      "Epoch 58/60\n",
      "248/248 - 0s - loss: 0.5082 - accuracy: 0.7864\n",
      "Epoch 59/60\n",
      "248/248 - 0s - loss: 0.5079 - accuracy: 0.7865\n",
      "Epoch 60/60\n",
      "248/248 - 0s - loss: 0.5077 - accuracy: 0.7869\n"
     ]
    }
   ],
   "source": [
    "#Scale = numer of output units (depending on scale being used)\n",
    "#input_dim = number of features being used for the model\n",
    "\n",
    "input_dim = len(X_test_scaled[0])\n",
    "print(input_dim)\n",
    "print(X_train_scaled.shape)\n",
    "print(scale)\n",
    "\n",
    "units = [200, 200]\n",
    "\n",
    "# Create model and add layers\n",
    "model = Sequential()\n",
    "model.add(Dense(units=units[0], activation='relu', input_dim=input_dim))\n",
    "model.add(Dense(units=units[1], activation='relu'))\n",
    "#DID NOT WORK WITH SCALE + 1 WHEN SCALE EQUAL TO TWO\n",
    "model.add(Dense(units=scale, activation='softmax'))\n",
    "\n",
    "# Compile and fit the model\n",
    "model.compile(optimizer='adam',\n",
    "              loss='categorical_crossentropy',\n",
    "              metrics=['accuracy'])\n",
    "history = model.fit(\n",
    "    X_train_scaled,\n",
    "    y_train_categorical,\n",
    "    epochs=60,\n",
    "    shuffle=True,\n",
    "    verbose=2\n",
    ")"
   ]
  },
  {
   "cell_type": "code",
   "execution_count": 101,
   "metadata": {},
   "outputs": [
    {
     "name": "stdout",
     "output_type": "stream",
     "text": [
      "56/56 - 0s - loss: 0.5267 - accuracy: 0.7909\n",
      "Normal Neural Network - Loss: 0.5266503691673279, Accuracy: 0.790919303894043\n"
     ]
    }
   ],
   "source": [
    "model_loss, model_accuracy = model.evaluate(X_test_scaled, y_test_categorical, verbose=2)\n",
    "print(f\"Normal Neural Network - Loss: {model_loss}, Accuracy: {model_accuracy}\")"
   ]
  },
  {
   "cell_type": "code",
   "execution_count": 103,
   "metadata": {},
   "outputs": [],
   "source": [
    "#history.history['loss']"
   ]
  },
  {
   "cell_type": "code",
   "execution_count": null,
   "metadata": {},
   "outputs": [],
   "source": [
    "plot_metric(history, 'accuracy')"
   ]
  },
  {
   "cell_type": "code",
   "execution_count": null,
   "metadata": {},
   "outputs": [],
   "source": [
    "plot_metric(history, 'loss')"
   ]
  },
  {
   "cell_type": "code",
   "execution_count": 105,
   "metadata": {},
   "outputs": [
    {
     "name": "stdout",
     "output_type": "stream",
     "text": [
      "[[0.74511725 0.25488275]\n",
      " [0.7783727  0.22162728]\n",
      " [0.7318664  0.26813358]\n",
      " ...\n",
      " [0.74511725 0.25488275]\n",
      " [0.79013103 0.20986895]\n",
      " [0.7318664  0.26813358]]\n"
     ]
    }
   ],
   "source": [
    "encoded_predictions = model.predict(X_test_scaled)\n",
    "print(encoded_predictions)"
   ]
  },
  {
   "cell_type": "code",
   "execution_count": 106,
   "metadata": {},
   "outputs": [
    {
     "ename": "ValueError",
     "evalue": "Classification metrics can't handle a mix of binary and continuous-multioutput targets",
     "output_type": "error",
     "traceback": [
      "\u001b[1;31m---------------------------------------------------------------------------\u001b[0m",
      "\u001b[1;31mValueError\u001b[0m                                Traceback (most recent call last)",
      "\u001b[1;32m<ipython-input-106-cf6070cff53c>\u001b[0m in \u001b[0;36m<module>\u001b[1;34m\u001b[0m\n\u001b[1;32m----> 1\u001b[1;33m \u001b[0mprint_confusion_matrix\u001b[0m\u001b[1;33m(\u001b[0m\u001b[0mY_dev\u001b[0m\u001b[1;33m,\u001b[0m \u001b[0mencoded_predictions\u001b[0m\u001b[1;33m,\u001b[0m \u001b[1;34m\"Keras-Neural Network\"\u001b[0m\u001b[1;33m)\u001b[0m\u001b[1;33m\u001b[0m\u001b[1;33m\u001b[0m\u001b[0m\n\u001b[0m",
      "\u001b[1;32m<ipython-input-11-2d52d2330222>\u001b[0m in \u001b[0;36mprint_confusion_matrix\u001b[1;34m(Y_dev, Prediction, title)\u001b[0m\n\u001b[0;32m      1\u001b[0m \u001b[1;32mdef\u001b[0m \u001b[0mprint_confusion_matrix\u001b[0m\u001b[1;33m(\u001b[0m\u001b[0mY_dev\u001b[0m\u001b[1;33m,\u001b[0m \u001b[0mPrediction\u001b[0m\u001b[1;33m,\u001b[0m \u001b[0mtitle\u001b[0m\u001b[1;33m)\u001b[0m\u001b[1;33m:\u001b[0m\u001b[1;33m\u001b[0m\u001b[1;33m\u001b[0m\u001b[0m\n\u001b[1;32m----> 2\u001b[1;33m     \u001b[0mcfm\u001b[0m \u001b[1;33m=\u001b[0m \u001b[0mconfusion_matrix\u001b[0m\u001b[1;33m(\u001b[0m\u001b[0mY_dev\u001b[0m\u001b[1;33m,\u001b[0m\u001b[0mPrediction\u001b[0m\u001b[1;33m)\u001b[0m\u001b[1;33m\u001b[0m\u001b[1;33m\u001b[0m\u001b[0m\n\u001b[0m\u001b[0;32m      3\u001b[0m     \u001b[1;32mif\u001b[0m \u001b[0mnp\u001b[0m\u001b[1;33m.\u001b[0m\u001b[0munique\u001b[0m\u001b[1;33m(\u001b[0m\u001b[0mY_dev\u001b[0m\u001b[1;33m)\u001b[0m\u001b[1;33m.\u001b[0m\u001b[0mmax\u001b[0m\u001b[1;33m(\u001b[0m\u001b[1;33m)\u001b[0m \u001b[1;33m>\u001b[0m \u001b[1;36m5\u001b[0m\u001b[1;33m:\u001b[0m\u001b[1;33m\u001b[0m\u001b[1;33m\u001b[0m\u001b[0m\n\u001b[0;32m      4\u001b[0m         \u001b[0msize\u001b[0m \u001b[1;33m=\u001b[0m \u001b[1;36m6\u001b[0m\u001b[1;33m\u001b[0m\u001b[1;33m\u001b[0m\u001b[0m\n\u001b[0;32m      5\u001b[0m     \u001b[1;32melse\u001b[0m\u001b[1;33m:\u001b[0m\u001b[1;33m\u001b[0m\u001b[1;33m\u001b[0m\u001b[0m\n",
      "\u001b[1;32m~\\.conda\\envs\\w207\\lib\\site-packages\\sklearn\\utils\\validation.py\u001b[0m in \u001b[0;36minner_f\u001b[1;34m(*args, **kwargs)\u001b[0m\n\u001b[0;32m     61\u001b[0m             \u001b[0mextra_args\u001b[0m \u001b[1;33m=\u001b[0m \u001b[0mlen\u001b[0m\u001b[1;33m(\u001b[0m\u001b[0margs\u001b[0m\u001b[1;33m)\u001b[0m \u001b[1;33m-\u001b[0m \u001b[0mlen\u001b[0m\u001b[1;33m(\u001b[0m\u001b[0mall_args\u001b[0m\u001b[1;33m)\u001b[0m\u001b[1;33m\u001b[0m\u001b[1;33m\u001b[0m\u001b[0m\n\u001b[0;32m     62\u001b[0m             \u001b[1;32mif\u001b[0m \u001b[0mextra_args\u001b[0m \u001b[1;33m<=\u001b[0m \u001b[1;36m0\u001b[0m\u001b[1;33m:\u001b[0m\u001b[1;33m\u001b[0m\u001b[1;33m\u001b[0m\u001b[0m\n\u001b[1;32m---> 63\u001b[1;33m                 \u001b[1;32mreturn\u001b[0m \u001b[0mf\u001b[0m\u001b[1;33m(\u001b[0m\u001b[1;33m*\u001b[0m\u001b[0margs\u001b[0m\u001b[1;33m,\u001b[0m \u001b[1;33m**\u001b[0m\u001b[0mkwargs\u001b[0m\u001b[1;33m)\u001b[0m\u001b[1;33m\u001b[0m\u001b[1;33m\u001b[0m\u001b[0m\n\u001b[0m\u001b[0;32m     64\u001b[0m \u001b[1;33m\u001b[0m\u001b[0m\n\u001b[0;32m     65\u001b[0m             \u001b[1;31m# extra_args > 0\u001b[0m\u001b[1;33m\u001b[0m\u001b[1;33m\u001b[0m\u001b[1;33m\u001b[0m\u001b[0m\n",
      "\u001b[1;32m~\\.conda\\envs\\w207\\lib\\site-packages\\sklearn\\metrics\\_classification.py\u001b[0m in \u001b[0;36mconfusion_matrix\u001b[1;34m(y_true, y_pred, labels, sample_weight, normalize)\u001b[0m\n\u001b[0;32m    297\u001b[0m \u001b[1;33m\u001b[0m\u001b[0m\n\u001b[0;32m    298\u001b[0m     \"\"\"\n\u001b[1;32m--> 299\u001b[1;33m     \u001b[0my_type\u001b[0m\u001b[1;33m,\u001b[0m \u001b[0my_true\u001b[0m\u001b[1;33m,\u001b[0m \u001b[0my_pred\u001b[0m \u001b[1;33m=\u001b[0m \u001b[0m_check_targets\u001b[0m\u001b[1;33m(\u001b[0m\u001b[0my_true\u001b[0m\u001b[1;33m,\u001b[0m \u001b[0my_pred\u001b[0m\u001b[1;33m)\u001b[0m\u001b[1;33m\u001b[0m\u001b[1;33m\u001b[0m\u001b[0m\n\u001b[0m\u001b[0;32m    300\u001b[0m     \u001b[1;32mif\u001b[0m \u001b[0my_type\u001b[0m \u001b[1;32mnot\u001b[0m \u001b[1;32min\u001b[0m \u001b[1;33m(\u001b[0m\u001b[1;34m\"binary\"\u001b[0m\u001b[1;33m,\u001b[0m \u001b[1;34m\"multiclass\"\u001b[0m\u001b[1;33m)\u001b[0m\u001b[1;33m:\u001b[0m\u001b[1;33m\u001b[0m\u001b[1;33m\u001b[0m\u001b[0m\n\u001b[0;32m    301\u001b[0m         \u001b[1;32mraise\u001b[0m \u001b[0mValueError\u001b[0m\u001b[1;33m(\u001b[0m\u001b[1;34m\"%s is not supported\"\u001b[0m \u001b[1;33m%\u001b[0m \u001b[0my_type\u001b[0m\u001b[1;33m)\u001b[0m\u001b[1;33m\u001b[0m\u001b[1;33m\u001b[0m\u001b[0m\n",
      "\u001b[1;32m~\\.conda\\envs\\w207\\lib\\site-packages\\sklearn\\metrics\\_classification.py\u001b[0m in \u001b[0;36m_check_targets\u001b[1;34m(y_true, y_pred)\u001b[0m\n\u001b[0;32m     91\u001b[0m     \u001b[1;32mif\u001b[0m \u001b[0mlen\u001b[0m\u001b[1;33m(\u001b[0m\u001b[0my_type\u001b[0m\u001b[1;33m)\u001b[0m \u001b[1;33m>\u001b[0m \u001b[1;36m1\u001b[0m\u001b[1;33m:\u001b[0m\u001b[1;33m\u001b[0m\u001b[1;33m\u001b[0m\u001b[0m\n\u001b[0;32m     92\u001b[0m         raise ValueError(\"Classification metrics can't handle a mix of {0} \"\n\u001b[1;32m---> 93\u001b[1;33m                          \"and {1} targets\".format(type_true, type_pred))\n\u001b[0m\u001b[0;32m     94\u001b[0m \u001b[1;33m\u001b[0m\u001b[0m\n\u001b[0;32m     95\u001b[0m     \u001b[1;31m# We can't have more than one value on y_type => The set is no more needed\u001b[0m\u001b[1;33m\u001b[0m\u001b[1;33m\u001b[0m\u001b[1;33m\u001b[0m\u001b[0m\n",
      "\u001b[1;31mValueError\u001b[0m: Classification metrics can't handle a mix of binary and continuous-multioutput targets"
     ]
    }
   ],
   "source": [
    "print_confusion_matrix(Y_dev, encoded_predictions, \"Keras-Neural Network\")"
   ]
  },
  {
   "cell_type": "code",
   "execution_count": null,
   "metadata": {},
   "outputs": [],
   "source": [
    "# Save the model\n",
    "#model.save(\"FP_NN_FDF1_scale_5.h5\")"
   ]
  },
  {
   "cell_type": "code",
   "execution_count": null,
   "metadata": {},
   "outputs": [],
   "source": []
  },
  {
   "cell_type": "markdown",
   "metadata": {},
   "source": [
    "### Other Neural Network - Keras"
   ]
  },
  {
   "cell_type": "code",
   "execution_count": null,
   "metadata": {},
   "outputs": [],
   "source": [
    "# 1D Convolutional Neural Networks in Keras for Time Sequences\n",
    "\n",
    "from tensorflow.keras.layers import Reshape\n",
    "from tensorflow.keras.layers import Conv1D\n",
    "from tensorflow.keras.layers import MaxPooling1D\n",
    "from tensorflow.keras.layers import GlobalAveragePooling1D\n",
    "from tensorflow.keras.layers import Dropout\n",
    "import tensorflow.keras\n",
    "\n",
    "TIME_PERIODS = 1\n",
    "num_sensors = input_dim\n",
    "input_shape = input_dim\n",
    "num_classes = scale+1"
   ]
  },
  {
   "cell_type": "code",
   "execution_count": null,
   "metadata": {},
   "outputs": [],
   "source": [
    "n = 500\n",
    "model_m = Sequential()\n",
    "model_m.add(Reshape((TIME_PERIODS, num_sensors), input_shape=(input_shape,)))\n",
    "model_m.add(Conv1D(n, 1, activation='relu', input_shape=(TIME_PERIODS, num_sensors)))\n",
    "model_m.add(Conv1D(n, 1, activation='relu'))\n",
    "model_m.add(MaxPooling1D(1))\n",
    "model_m.add(Conv1D(n, 1, activation='relu'))\n",
    "model_m.add(Conv1D(n, 1, activation='relu'))\n",
    "model_m.add(GlobalAveragePooling1D())\n",
    "model_m.add(Dropout(0.5))\n",
    "model_m.add(Dense(num_classes, activation='softmax'))\n",
    "print(model_m.summary())"
   ]
  },
  {
   "cell_type": "code",
   "execution_count": null,
   "metadata": {},
   "outputs": [],
   "source": [
    "callbacks_list = [keras.callbacks.ModelCheckpoint(filepath='best_model.{epoch:02d}-{val_loss:.2f}.h5',\n",
    "                                                  monitor='val_loss', save_best_only=True),\n",
    "                  keras.callbacks.EarlyStopping(monitor='acc', patience=1)]\n",
    "\n",
    "model_m.compile(loss='categorical_crossentropy', optimizer='adam', metrics=['accuracy'])\n",
    "\n",
    "BATCH_SIZE = 400\n",
    "EPOCHS = 50\n",
    "\n",
    "history = model_m.fit(X_train_scaled,\n",
    "                      y_train_categorical,\n",
    "                      batch_size=BATCH_SIZE,\n",
    "                      epochs=EPOCHS,\n",
    "                      callbacks=callbacks_list,\n",
    "                      validation_split=0.2,\n",
    "                      verbose=1)"
   ]
  },
  {
   "cell_type": "code",
   "execution_count": null,
   "metadata": {},
   "outputs": [],
   "source": [
    "model_loss, model_accuracy = model_m.evaluate(\n",
    "    X_test_scaled, y_test_categorical, verbose=2)\n",
    "print(\n",
    "    f\"Normal Neural Network - Loss: {model_loss}, Accuracy: {model_accuracy}\")"
   ]
  },
  {
   "cell_type": "code",
   "execution_count": null,
   "metadata": {},
   "outputs": [],
   "source": [
    "# Save the model\n",
    "model_m.save(\"FP_1DCNN_FDF_scale_5.h5\")"
   ]
  },
  {
   "cell_type": "code",
   "execution_count": null,
   "metadata": {},
   "outputs": [],
   "source": []
  }
 ],
 "metadata": {
  "kernelspec": {
   "display_name": "w207",
   "language": "python",
   "name": "w207"
  },
  "language_info": {
   "codemirror_mode": {
    "name": "ipython",
    "version": 3
   },
   "file_extension": ".py",
   "mimetype": "text/x-python",
   "name": "python",
   "nbconvert_exporter": "python",
   "pygments_lexer": "ipython3",
   "version": "3.6.13"
  }
 },
 "nbformat": 4,
 "nbformat_minor": 4
}
