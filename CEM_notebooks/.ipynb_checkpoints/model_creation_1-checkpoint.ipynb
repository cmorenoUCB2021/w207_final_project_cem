{
 "cells": [
  {
   "cell_type": "code",
   "execution_count": 1,
   "metadata": {},
   "outputs": [],
   "source": [
    "# This tells matplotlib not to try opening a new window for each plot.\n",
    "%matplotlib inline\n",
    "\n",
    "# General libraries.\n",
    "import re\n",
    "import numpy as np\n",
    "import pandas as pd\n",
    "import matplotlib.pyplot as plt\n",
    "\n",
    "# SK-learn libraries for learning.\n",
    "from sklearn.pipeline import Pipeline\n",
    "from sklearn.neighbors import KNeighborsClassifier\n",
    "from sklearn.linear_model import LogisticRegression\n",
    "from sklearn.linear_model import LinearRegression\n",
    "from sklearn.naive_bayes import BernoulliNB\n",
    "from sklearn.naive_bayes import MultinomialNB\n",
    "from sklearn.naive_bayes import GaussianNB\n",
    "from sklearn.tree import DecisionTreeClassifier\n",
    "from sklearn.ensemble import RandomForestClassifier \n",
    "from sklearn.ensemble import AdaBoostClassifier \n",
    "from sklearn import svm\n",
    "from sklearn.neural_network import MLPClassifier\n",
    "\n",
    "# SK-learn libraries for evaluation.\n",
    "from sklearn.metrics import confusion_matrix\n",
    "from sklearn import metrics\n",
    "from sklearn.metrics import classification_report\n",
    "\n",
    "# SK-learn library for importing the newsgroup data.\n",
    "from sklearn.datasets import fetch_20newsgroups\n",
    "\n",
    "# SK-learn libraries for feature extraction from text.\n",
    "from sklearn.feature_extraction.text import *\n",
    "\n",
    "import nltk\n",
    "import xlsxwriter\n",
    "import openpyxl\n",
    "import os.path\n",
    "from os.path import exists\n"
   ]
  },
  {
   "cell_type": "code",
   "execution_count": 2,
   "metadata": {},
   "outputs": [
    {
     "data": {
      "text/html": [
       "<div>\n",
       "<style scoped>\n",
       "    .dataframe tbody tr th:only-of-type {\n",
       "        vertical-align: middle;\n",
       "    }\n",
       "\n",
       "    .dataframe tbody tr th {\n",
       "        vertical-align: top;\n",
       "    }\n",
       "\n",
       "    .dataframe thead th {\n",
       "        text-align: right;\n",
       "    }\n",
       "</style>\n",
       "<table border=\"1\" class=\"dataframe\">\n",
       "  <thead>\n",
       "    <tr style=\"text-align: right;\">\n",
       "      <th></th>\n",
       "      <th>Id</th>\n",
       "      <th>Subject Focus</th>\n",
       "      <th>Eyes</th>\n",
       "      <th>Face</th>\n",
       "      <th>Near</th>\n",
       "      <th>Action</th>\n",
       "      <th>Accessory</th>\n",
       "      <th>Group</th>\n",
       "      <th>Collage</th>\n",
       "      <th>Human</th>\n",
       "      <th>Occlusion</th>\n",
       "      <th>Info</th>\n",
       "      <th>Blur</th>\n",
       "      <th>Pawpularity</th>\n",
       "    </tr>\n",
       "  </thead>\n",
       "  <tbody>\n",
       "    <tr>\n",
       "      <th>0</th>\n",
       "      <td>0007de18844b0dbbb5e1f607da0606e0</td>\n",
       "      <td>0</td>\n",
       "      <td>1</td>\n",
       "      <td>1</td>\n",
       "      <td>1</td>\n",
       "      <td>0</td>\n",
       "      <td>0</td>\n",
       "      <td>1</td>\n",
       "      <td>0</td>\n",
       "      <td>0</td>\n",
       "      <td>0</td>\n",
       "      <td>0</td>\n",
       "      <td>0</td>\n",
       "      <td>63</td>\n",
       "    </tr>\n",
       "    <tr>\n",
       "      <th>1</th>\n",
       "      <td>0009c66b9439883ba2750fb825e1d7db</td>\n",
       "      <td>0</td>\n",
       "      <td>1</td>\n",
       "      <td>1</td>\n",
       "      <td>0</td>\n",
       "      <td>0</td>\n",
       "      <td>0</td>\n",
       "      <td>0</td>\n",
       "      <td>0</td>\n",
       "      <td>0</td>\n",
       "      <td>0</td>\n",
       "      <td>0</td>\n",
       "      <td>0</td>\n",
       "      <td>42</td>\n",
       "    </tr>\n",
       "    <tr>\n",
       "      <th>2</th>\n",
       "      <td>0013fd999caf9a3efe1352ca1b0d937e</td>\n",
       "      <td>0</td>\n",
       "      <td>1</td>\n",
       "      <td>1</td>\n",
       "      <td>1</td>\n",
       "      <td>0</td>\n",
       "      <td>0</td>\n",
       "      <td>0</td>\n",
       "      <td>0</td>\n",
       "      <td>1</td>\n",
       "      <td>1</td>\n",
       "      <td>0</td>\n",
       "      <td>0</td>\n",
       "      <td>28</td>\n",
       "    </tr>\n",
       "    <tr>\n",
       "      <th>3</th>\n",
       "      <td>0018df346ac9c1d8413cfcc888ca8246</td>\n",
       "      <td>0</td>\n",
       "      <td>1</td>\n",
       "      <td>1</td>\n",
       "      <td>1</td>\n",
       "      <td>0</td>\n",
       "      <td>0</td>\n",
       "      <td>0</td>\n",
       "      <td>0</td>\n",
       "      <td>0</td>\n",
       "      <td>0</td>\n",
       "      <td>0</td>\n",
       "      <td>0</td>\n",
       "      <td>15</td>\n",
       "    </tr>\n",
       "    <tr>\n",
       "      <th>4</th>\n",
       "      <td>001dc955e10590d3ca4673f034feeef2</td>\n",
       "      <td>0</td>\n",
       "      <td>0</td>\n",
       "      <td>0</td>\n",
       "      <td>1</td>\n",
       "      <td>0</td>\n",
       "      <td>0</td>\n",
       "      <td>1</td>\n",
       "      <td>0</td>\n",
       "      <td>0</td>\n",
       "      <td>0</td>\n",
       "      <td>0</td>\n",
       "      <td>0</td>\n",
       "      <td>72</td>\n",
       "    </tr>\n",
       "  </tbody>\n",
       "</table>\n",
       "</div>"
      ],
      "text/plain": [
       "                                 Id  Subject Focus  Eyes  Face  Near  Action  \\\n",
       "0  0007de18844b0dbbb5e1f607da0606e0              0     1     1     1       0   \n",
       "1  0009c66b9439883ba2750fb825e1d7db              0     1     1     0       0   \n",
       "2  0013fd999caf9a3efe1352ca1b0d937e              0     1     1     1       0   \n",
       "3  0018df346ac9c1d8413cfcc888ca8246              0     1     1     1       0   \n",
       "4  001dc955e10590d3ca4673f034feeef2              0     0     0     1       0   \n",
       "\n",
       "   Accessory  Group  Collage  Human  Occlusion  Info  Blur  Pawpularity  \n",
       "0          0      1        0      0          0     0     0           63  \n",
       "1          0      0        0      0          0     0     0           42  \n",
       "2          0      0        0      1          1     0     0           28  \n",
       "3          0      0        0      0          0     0     0           15  \n",
       "4          0      1        0      0          0     0     0           72  "
      ]
     },
     "execution_count": 2,
     "metadata": {},
     "output_type": "execute_result"
    }
   ],
   "source": [
    "df_data = pd.read_csv(\"../data/train.csv\")\n",
    "df_data.head()"
   ]
  },
  {
   "cell_type": "code",
   "execution_count": 3,
   "metadata": {},
   "outputs": [
    {
     "data": {
      "text/html": [
       "<div>\n",
       "<style scoped>\n",
       "    .dataframe tbody tr th:only-of-type {\n",
       "        vertical-align: middle;\n",
       "    }\n",
       "\n",
       "    .dataframe tbody tr th {\n",
       "        vertical-align: top;\n",
       "    }\n",
       "\n",
       "    .dataframe thead th {\n",
       "        text-align: right;\n",
       "    }\n",
       "</style>\n",
       "<table border=\"1\" class=\"dataframe\">\n",
       "  <thead>\n",
       "    <tr style=\"text-align: right;\">\n",
       "      <th></th>\n",
       "      <th>Subject Focus</th>\n",
       "      <th>Eyes</th>\n",
       "      <th>Face</th>\n",
       "      <th>Near</th>\n",
       "      <th>Action</th>\n",
       "      <th>Accessory</th>\n",
       "      <th>Group</th>\n",
       "      <th>Collage</th>\n",
       "      <th>Human</th>\n",
       "      <th>Occlusion</th>\n",
       "      <th>Info</th>\n",
       "      <th>Blur</th>\n",
       "      <th>Pawpularity</th>\n",
       "    </tr>\n",
       "  </thead>\n",
       "  <tbody>\n",
       "    <tr>\n",
       "      <th>count</th>\n",
       "      <td>9912.000000</td>\n",
       "      <td>9912.000000</td>\n",
       "      <td>9912.000000</td>\n",
       "      <td>9912.000000</td>\n",
       "      <td>9912.000000</td>\n",
       "      <td>9912.000000</td>\n",
       "      <td>9912.000000</td>\n",
       "      <td>9912.000000</td>\n",
       "      <td>9912.000000</td>\n",
       "      <td>9912.000000</td>\n",
       "      <td>9912.000000</td>\n",
       "      <td>9912.000000</td>\n",
       "      <td>9912.000000</td>\n",
       "    </tr>\n",
       "    <tr>\n",
       "      <th>mean</th>\n",
       "      <td>0.027643</td>\n",
       "      <td>0.772599</td>\n",
       "      <td>0.903955</td>\n",
       "      <td>0.861582</td>\n",
       "      <td>0.009988</td>\n",
       "      <td>0.067797</td>\n",
       "      <td>0.129338</td>\n",
       "      <td>0.049637</td>\n",
       "      <td>0.166263</td>\n",
       "      <td>0.172014</td>\n",
       "      <td>0.061239</td>\n",
       "      <td>0.070420</td>\n",
       "      <td>38.039044</td>\n",
       "    </tr>\n",
       "    <tr>\n",
       "      <th>std</th>\n",
       "      <td>0.163957</td>\n",
       "      <td>0.419175</td>\n",
       "      <td>0.294668</td>\n",
       "      <td>0.345356</td>\n",
       "      <td>0.099444</td>\n",
       "      <td>0.251409</td>\n",
       "      <td>0.335591</td>\n",
       "      <td>0.217204</td>\n",
       "      <td>0.372335</td>\n",
       "      <td>0.377411</td>\n",
       "      <td>0.239780</td>\n",
       "      <td>0.255866</td>\n",
       "      <td>20.591990</td>\n",
       "    </tr>\n",
       "    <tr>\n",
       "      <th>min</th>\n",
       "      <td>0.000000</td>\n",
       "      <td>0.000000</td>\n",
       "      <td>0.000000</td>\n",
       "      <td>0.000000</td>\n",
       "      <td>0.000000</td>\n",
       "      <td>0.000000</td>\n",
       "      <td>0.000000</td>\n",
       "      <td>0.000000</td>\n",
       "      <td>0.000000</td>\n",
       "      <td>0.000000</td>\n",
       "      <td>0.000000</td>\n",
       "      <td>0.000000</td>\n",
       "      <td>1.000000</td>\n",
       "    </tr>\n",
       "    <tr>\n",
       "      <th>25%</th>\n",
       "      <td>0.000000</td>\n",
       "      <td>1.000000</td>\n",
       "      <td>1.000000</td>\n",
       "      <td>1.000000</td>\n",
       "      <td>0.000000</td>\n",
       "      <td>0.000000</td>\n",
       "      <td>0.000000</td>\n",
       "      <td>0.000000</td>\n",
       "      <td>0.000000</td>\n",
       "      <td>0.000000</td>\n",
       "      <td>0.000000</td>\n",
       "      <td>0.000000</td>\n",
       "      <td>25.000000</td>\n",
       "    </tr>\n",
       "    <tr>\n",
       "      <th>50%</th>\n",
       "      <td>0.000000</td>\n",
       "      <td>1.000000</td>\n",
       "      <td>1.000000</td>\n",
       "      <td>1.000000</td>\n",
       "      <td>0.000000</td>\n",
       "      <td>0.000000</td>\n",
       "      <td>0.000000</td>\n",
       "      <td>0.000000</td>\n",
       "      <td>0.000000</td>\n",
       "      <td>0.000000</td>\n",
       "      <td>0.000000</td>\n",
       "      <td>0.000000</td>\n",
       "      <td>33.000000</td>\n",
       "    </tr>\n",
       "    <tr>\n",
       "      <th>75%</th>\n",
       "      <td>0.000000</td>\n",
       "      <td>1.000000</td>\n",
       "      <td>1.000000</td>\n",
       "      <td>1.000000</td>\n",
       "      <td>0.000000</td>\n",
       "      <td>0.000000</td>\n",
       "      <td>0.000000</td>\n",
       "      <td>0.000000</td>\n",
       "      <td>0.000000</td>\n",
       "      <td>0.000000</td>\n",
       "      <td>0.000000</td>\n",
       "      <td>0.000000</td>\n",
       "      <td>46.000000</td>\n",
       "    </tr>\n",
       "    <tr>\n",
       "      <th>max</th>\n",
       "      <td>1.000000</td>\n",
       "      <td>1.000000</td>\n",
       "      <td>1.000000</td>\n",
       "      <td>1.000000</td>\n",
       "      <td>1.000000</td>\n",
       "      <td>1.000000</td>\n",
       "      <td>1.000000</td>\n",
       "      <td>1.000000</td>\n",
       "      <td>1.000000</td>\n",
       "      <td>1.000000</td>\n",
       "      <td>1.000000</td>\n",
       "      <td>1.000000</td>\n",
       "      <td>100.000000</td>\n",
       "    </tr>\n",
       "  </tbody>\n",
       "</table>\n",
       "</div>"
      ],
      "text/plain": [
       "       Subject Focus         Eyes         Face         Near       Action  \\\n",
       "count    9912.000000  9912.000000  9912.000000  9912.000000  9912.000000   \n",
       "mean        0.027643     0.772599     0.903955     0.861582     0.009988   \n",
       "std         0.163957     0.419175     0.294668     0.345356     0.099444   \n",
       "min         0.000000     0.000000     0.000000     0.000000     0.000000   \n",
       "25%         0.000000     1.000000     1.000000     1.000000     0.000000   \n",
       "50%         0.000000     1.000000     1.000000     1.000000     0.000000   \n",
       "75%         0.000000     1.000000     1.000000     1.000000     0.000000   \n",
       "max         1.000000     1.000000     1.000000     1.000000     1.000000   \n",
       "\n",
       "         Accessory        Group      Collage        Human    Occlusion  \\\n",
       "count  9912.000000  9912.000000  9912.000000  9912.000000  9912.000000   \n",
       "mean      0.067797     0.129338     0.049637     0.166263     0.172014   \n",
       "std       0.251409     0.335591     0.217204     0.372335     0.377411   \n",
       "min       0.000000     0.000000     0.000000     0.000000     0.000000   \n",
       "25%       0.000000     0.000000     0.000000     0.000000     0.000000   \n",
       "50%       0.000000     0.000000     0.000000     0.000000     0.000000   \n",
       "75%       0.000000     0.000000     0.000000     0.000000     0.000000   \n",
       "max       1.000000     1.000000     1.000000     1.000000     1.000000   \n",
       "\n",
       "              Info         Blur  Pawpularity  \n",
       "count  9912.000000  9912.000000  9912.000000  \n",
       "mean      0.061239     0.070420    38.039044  \n",
       "std       0.239780     0.255866    20.591990  \n",
       "min       0.000000     0.000000     1.000000  \n",
       "25%       0.000000     0.000000    25.000000  \n",
       "50%       0.000000     0.000000    33.000000  \n",
       "75%       0.000000     0.000000    46.000000  \n",
       "max       1.000000     1.000000   100.000000  "
      ]
     },
     "execution_count": 3,
     "metadata": {},
     "output_type": "execute_result"
    }
   ],
   "source": [
    "df_data.describe()"
   ]
  },
  {
   "cell_type": "code",
   "execution_count": 4,
   "metadata": {},
   "outputs": [],
   "source": [
    "#Helper functions to create Scales for testing models\n",
    "def scale10(n):\n",
    "    val = 0\n",
    "    if n <=10: \n",
    "        val = 1\n",
    "    elif n >10 and n<=20:\n",
    "        val = 2\n",
    "    elif n >20 and n <=30:\n",
    "        val = 3\n",
    "    elif n>30 and n <=40:\n",
    "        val = 4\n",
    "    elif n > 40 and n<=50:\n",
    "        val = 5\n",
    "    elif n>50 and n<=60:\n",
    "        val = 6\n",
    "    elif n>60 and n<=70:\n",
    "        val = 7\n",
    "    elif n>70 and n<=80:\n",
    "        val = 8\n",
    "    elif n>80 and n<=90:\n",
    "        val = 9\n",
    "    else: \n",
    "        val = 10\n",
    "    return(val)\n",
    "\n",
    "def scale5(n):\n",
    "    val = 0\n",
    "    if n <=20: \n",
    "        val = 1\n",
    "    elif n >20 and n<=40:\n",
    "        val = 2\n",
    "    elif n >40 and n <=60:\n",
    "        val = 3\n",
    "    elif n>60 and n <=80:\n",
    "        val = 4\n",
    "    else: val = 5\n",
    "\n",
    "    return(val)\n",
    "\n",
    "def scale4(n):\n",
    "    val = 0\n",
    "    if n <=25: \n",
    "        val = 1\n",
    "    elif n >25 and n<=50:\n",
    "        val = 2\n",
    "    elif n >50 and n <=75:\n",
    "        val = 3\n",
    "    else: \n",
    "        val = 4\n",
    "\n",
    "    return(val)\n",
    "\n",
    "def scale3(n):\n",
    "    val = 0\n",
    "    if n <=34: \n",
    "        val = 1\n",
    "    elif n >34 and n<=68:\n",
    "        val = 2\n",
    "    else:\n",
    "        val = 3\n",
    "\n",
    "    return(val)\n",
    "\n",
    "def scale2(n):\n",
    "    val = 0\n",
    "    if n <=50: \n",
    "        val = 1\n",
    "    else:\n",
    "        val = 2\n",
    "\n",
    "    return(val)"
   ]
  },
  {
   "cell_type": "code",
   "execution_count": 5,
   "metadata": {},
   "outputs": [
    {
     "data": {
      "text/html": [
       "<div>\n",
       "<style scoped>\n",
       "    .dataframe tbody tr th:only-of-type {\n",
       "        vertical-align: middle;\n",
       "    }\n",
       "\n",
       "    .dataframe tbody tr th {\n",
       "        vertical-align: top;\n",
       "    }\n",
       "\n",
       "    .dataframe thead th {\n",
       "        text-align: right;\n",
       "    }\n",
       "</style>\n",
       "<table border=\"1\" class=\"dataframe\">\n",
       "  <thead>\n",
       "    <tr style=\"text-align: right;\">\n",
       "      <th></th>\n",
       "      <th>Id</th>\n",
       "      <th>Subject Focus</th>\n",
       "      <th>Eyes</th>\n",
       "      <th>Face</th>\n",
       "      <th>Near</th>\n",
       "      <th>Action</th>\n",
       "      <th>Accessory</th>\n",
       "      <th>Group</th>\n",
       "      <th>Collage</th>\n",
       "      <th>Human</th>\n",
       "      <th>Occlusion</th>\n",
       "      <th>Info</th>\n",
       "      <th>Blur</th>\n",
       "      <th>Pawpularity</th>\n",
       "      <th>Scale10</th>\n",
       "      <th>Scale5</th>\n",
       "      <th>Scale4</th>\n",
       "      <th>Scale3</th>\n",
       "      <th>Scale2</th>\n",
       "    </tr>\n",
       "  </thead>\n",
       "  <tbody>\n",
       "    <tr>\n",
       "      <th>0</th>\n",
       "      <td>0007de18844b0dbbb5e1f607da0606e0</td>\n",
       "      <td>0</td>\n",
       "      <td>1</td>\n",
       "      <td>1</td>\n",
       "      <td>1</td>\n",
       "      <td>0</td>\n",
       "      <td>0</td>\n",
       "      <td>1</td>\n",
       "      <td>0</td>\n",
       "      <td>0</td>\n",
       "      <td>0</td>\n",
       "      <td>0</td>\n",
       "      <td>0</td>\n",
       "      <td>63</td>\n",
       "      <td>7</td>\n",
       "      <td>4</td>\n",
       "      <td>3</td>\n",
       "      <td>2</td>\n",
       "      <td>2</td>\n",
       "    </tr>\n",
       "    <tr>\n",
       "      <th>1</th>\n",
       "      <td>0009c66b9439883ba2750fb825e1d7db</td>\n",
       "      <td>0</td>\n",
       "      <td>1</td>\n",
       "      <td>1</td>\n",
       "      <td>0</td>\n",
       "      <td>0</td>\n",
       "      <td>0</td>\n",
       "      <td>0</td>\n",
       "      <td>0</td>\n",
       "      <td>0</td>\n",
       "      <td>0</td>\n",
       "      <td>0</td>\n",
       "      <td>0</td>\n",
       "      <td>42</td>\n",
       "      <td>5</td>\n",
       "      <td>3</td>\n",
       "      <td>2</td>\n",
       "      <td>2</td>\n",
       "      <td>1</td>\n",
       "    </tr>\n",
       "    <tr>\n",
       "      <th>2</th>\n",
       "      <td>0013fd999caf9a3efe1352ca1b0d937e</td>\n",
       "      <td>0</td>\n",
       "      <td>1</td>\n",
       "      <td>1</td>\n",
       "      <td>1</td>\n",
       "      <td>0</td>\n",
       "      <td>0</td>\n",
       "      <td>0</td>\n",
       "      <td>0</td>\n",
       "      <td>1</td>\n",
       "      <td>1</td>\n",
       "      <td>0</td>\n",
       "      <td>0</td>\n",
       "      <td>28</td>\n",
       "      <td>3</td>\n",
       "      <td>2</td>\n",
       "      <td>2</td>\n",
       "      <td>1</td>\n",
       "      <td>1</td>\n",
       "    </tr>\n",
       "    <tr>\n",
       "      <th>3</th>\n",
       "      <td>0018df346ac9c1d8413cfcc888ca8246</td>\n",
       "      <td>0</td>\n",
       "      <td>1</td>\n",
       "      <td>1</td>\n",
       "      <td>1</td>\n",
       "      <td>0</td>\n",
       "      <td>0</td>\n",
       "      <td>0</td>\n",
       "      <td>0</td>\n",
       "      <td>0</td>\n",
       "      <td>0</td>\n",
       "      <td>0</td>\n",
       "      <td>0</td>\n",
       "      <td>15</td>\n",
       "      <td>2</td>\n",
       "      <td>1</td>\n",
       "      <td>1</td>\n",
       "      <td>1</td>\n",
       "      <td>1</td>\n",
       "    </tr>\n",
       "    <tr>\n",
       "      <th>4</th>\n",
       "      <td>001dc955e10590d3ca4673f034feeef2</td>\n",
       "      <td>0</td>\n",
       "      <td>0</td>\n",
       "      <td>0</td>\n",
       "      <td>1</td>\n",
       "      <td>0</td>\n",
       "      <td>0</td>\n",
       "      <td>1</td>\n",
       "      <td>0</td>\n",
       "      <td>0</td>\n",
       "      <td>0</td>\n",
       "      <td>0</td>\n",
       "      <td>0</td>\n",
       "      <td>72</td>\n",
       "      <td>8</td>\n",
       "      <td>4</td>\n",
       "      <td>3</td>\n",
       "      <td>3</td>\n",
       "      <td>2</td>\n",
       "    </tr>\n",
       "  </tbody>\n",
       "</table>\n",
       "</div>"
      ],
      "text/plain": [
       "                                 Id  Subject Focus  Eyes  Face  Near  Action  \\\n",
       "0  0007de18844b0dbbb5e1f607da0606e0              0     1     1     1       0   \n",
       "1  0009c66b9439883ba2750fb825e1d7db              0     1     1     0       0   \n",
       "2  0013fd999caf9a3efe1352ca1b0d937e              0     1     1     1       0   \n",
       "3  0018df346ac9c1d8413cfcc888ca8246              0     1     1     1       0   \n",
       "4  001dc955e10590d3ca4673f034feeef2              0     0     0     1       0   \n",
       "\n",
       "   Accessory  Group  Collage  Human  Occlusion  Info  Blur  Pawpularity  \\\n",
       "0          0      1        0      0          0     0     0           63   \n",
       "1          0      0        0      0          0     0     0           42   \n",
       "2          0      0        0      1          1     0     0           28   \n",
       "3          0      0        0      0          0     0     0           15   \n",
       "4          0      1        0      0          0     0     0           72   \n",
       "\n",
       "   Scale10  Scale5  Scale4  Scale3  Scale2  \n",
       "0        7       4       3       2       2  \n",
       "1        5       3       2       2       1  \n",
       "2        3       2       2       1       1  \n",
       "3        2       1       1       1       1  \n",
       "4        8       4       3       3       2  "
      ]
     },
     "execution_count": 5,
     "metadata": {},
     "output_type": "execute_result"
    }
   ],
   "source": [
    "#CREATE NEW SCALES FOR TESTING MODELS\n",
    "df_data[\"Scale10\"] = df_data.apply(lambda row: scale10(row.Pawpularity), axis=1)\n",
    "df_data[\"Scale5\"] = df_data.apply(lambda row: scale5(row.Pawpularity), axis=1)\n",
    "df_data[\"Scale4\"] = df_data.apply(lambda row: scale4(row.Pawpularity), axis=1)\n",
    "df_data[\"Scale3\"] = df_data.apply(lambda row: scale3(row.Pawpularity), axis=1)\n",
    "df_data[\"Scale2\"] = df_data.apply(lambda row: scale2(row.Pawpularity), axis=1)\n",
    "df_data.head()"
   ]
  },
  {
   "cell_type": "markdown",
   "metadata": {},
   "source": [
    "### Splitting Data"
   ]
  },
  {
   "cell_type": "code",
   "execution_count": 6,
   "metadata": {},
   "outputs": [
    {
     "data": {
      "text/plain": [
       "Index(['Id', 'Subject Focus', 'Eyes', 'Face', 'Near', 'Action', 'Accessory',\n",
       "       'Group', 'Collage', 'Human', 'Occlusion', 'Info', 'Blur', 'Pawpularity',\n",
       "       'Scale10', 'Scale5', 'Scale4', 'Scale3', 'Scale2'],\n",
       "      dtype='object')"
      ]
     },
     "execution_count": 6,
     "metadata": {},
     "output_type": "execute_result"
    }
   ],
   "source": [
    "columnsL = df_data.columns\n",
    "columnsL"
   ]
  },
  {
   "cell_type": "code",
   "execution_count": 7,
   "metadata": {},
   "outputs": [],
   "source": [
    "#Get X and Y data - shuffle data.\n",
    "X_cols = ['Subject Focus','Eyes', 'Face','Near','Action','Accessory','Group','Collage','Human','Occlusion','Info','Blur',]\n",
    "X = np.array(df_data[X_cols])\n",
    "Y = df_data['Pawpularity'].values[:]\n",
    "\n",
    "id_image = df_data['Id'].values[:]\n",
    "\n",
    "Y10 = df_data['Scale10'].values[:]\n",
    "Y5 = df_data['Scale5'].values[:]\n",
    "Y4 = df_data['Scale4'].values[:]\n",
    "Y3 = df_data['Scale3'].values[:]\n",
    "Y2 = df_data['Scale2'].values[:]\n",
    "\n",
    "\n",
    "shuffle = np.random.permutation(np.arange(X.shape[0]))\n",
    "X, Y, id_image = X[shuffle], Y[shuffle], id_image[shuffle]\n",
    "Y10, Y5, Y4, Y3, Y2 = Y10[shuffle], Y5[shuffle], Y4[shuffle], Y3[shuffle], Y2[shuffle]"
   ]
  },
  {
   "cell_type": "code",
   "execution_count": 8,
   "metadata": {},
   "outputs": [],
   "source": [
    "# Define sizes for train, development and test data (0.5, 0.2, 0.3)\n",
    "per_train = 0.5\n",
    "per_dev = 0.2\n",
    "\n",
    "num_images = len(Y)\n",
    "train_size = int(round(num_images * per_train,0))\n",
    "dev_size = int(round(num_images * per_dev,0))"
   ]
  },
  {
   "cell_type": "code",
   "execution_count": 9,
   "metadata": {},
   "outputs": [
    {
     "name": "stdout",
     "output_type": "stream",
     "text": [
      "9912\n",
      "(4956, 12) (4956,) (4956,)\n",
      "(1982, 12) (1982,) (1982,)\n",
      "(2974, 12) (2974,) (2974,)\n",
      "(2974,) (1982,) (4956,)\n",
      "(2974,) (1982,) (4956,)\n",
      "(2974,) (1982,) (4956,)\n",
      "(2974,) (1982,) (4956,)\n",
      "(2974,) (1982,) (4956,)\n"
     ]
    }
   ],
   "source": [
    "# Split data based on defined sizes\n",
    "test_data, test_labels, id_test = X[train_size+dev_size:], Y[train_size+dev_size:], id_image[train_size+dev_size:]\n",
    "test_y10 = Y10[train_size+dev_size:]\n",
    "test_y5 = Y5[train_size+dev_size:]\n",
    "test_y4 = Y4[train_size+dev_size:]\n",
    "test_y3 = Y3[train_size+dev_size:]\n",
    "test_y2 = Y2[train_size+dev_size:]\n",
    "\n",
    "dev_data, dev_labels, id_dev = X[train_size:train_size+dev_size], Y[train_size:train_size+dev_size], id_image[train_size:train_size+dev_size]\n",
    "dev_y10 = Y10[train_size:train_size+dev_size]\n",
    "dev_y5 = Y5[train_size:train_size+dev_size]\n",
    "dev_y4 = Y4[train_size:train_size+dev_size]\n",
    "dev_y3 = Y3[train_size:train_size+dev_size]\n",
    "dev_y2 = Y2[train_size:train_size+dev_size]\n",
    "\n",
    "train_data, train_labels, id_train = X[:train_size], Y[:train_size], id_image[:train_size]\n",
    "train_y10 =  Y10[:train_size]\n",
    "train_y5 =  Y5[:train_size]\n",
    "train_y4 =  Y4[:train_size]\n",
    "train_y3 =  Y3[:train_size]\n",
    "train_y2 =  Y2[:train_size]\n",
    "\n",
    "print(num_images)\n",
    "print(train_data.shape, train_labels.shape, id_train.shape)\n",
    "print(dev_data.shape, dev_labels.shape, id_dev.shape)\n",
    "print(test_data.shape, test_labels.shape, id_test.shape)\n",
    "print(test_y10.shape, dev_y10.shape, train_y10.shape)\n",
    "print(test_y5.shape, dev_y5.shape, train_y5.shape)\n",
    "print(test_y4.shape, dev_y4.shape, train_y4.shape)\n",
    "print(test_y3.shape, dev_y3.shape, train_y3.shape)\n",
    "print(test_y2.shape, dev_y2.shape, train_y2.shape)"
   ]
  },
  {
   "cell_type": "code",
   "execution_count": 10,
   "metadata": {},
   "outputs": [],
   "source": [
    "def wrt_excel(file, sheet_name, df):\n",
    "    if os.path.exists(file):\n",
    "        with pd.ExcelWriter(file, engine=\"openpyxl\", mode='a') as writer:\n",
    "            df.to_excel(writer, sheet_name=sheet_name)\n",
    "    else:\n",
    "        with pd.ExcelWriter(file, engine=\"openpyxl\") as writer:\n",
    "            df.to_excel(writer, sheet_name=sheet_name)"
   ]
  },
  {
   "cell_type": "markdown",
   "metadata": {},
   "source": [
    "### KNN Classifier"
   ]
  },
  {
   "cell_type": "code",
   "execution_count": 29,
   "metadata": {},
   "outputs": [],
   "source": [
    "def knn_model(train_data, train_labels, dev_data, dev_labels, algorithm, weigth, klist):\n",
    "    \n",
    "    f1_score = []\n",
    "    \n",
    "    for k in klist:\n",
    "        knn_mod = KNeighborsClassifier(n_neighbors=k, algorithm=algorithm, weights=weigth, p=1)\n",
    "        knn_mod.fit(train_data, train_labels)\n",
    "        acc = knn_mod.score(dev_data, dev_labels)\n",
    "        f1_score.append(metrics.f1_score(dev_labels, knn_mod.predict(dev_data), average=\"weighted\"))\n",
    "    \n",
    "    return(f1_score)\n",
    "    \n",
    "def knn_models(train_data, Y_train, dev_data, Y_dev):\n",
    "    df_knn = pd.DataFrame()\n",
    "    klist = [1, 2, 3, 4, 5, 6, 7,8,9, 10, 11, 12, 13, 14, 15]\n",
    "    algorithm_list = [\"auto\", \"ball_tree\", \"kd_tree\", \"brute\"]\n",
    "\n",
    "    weights = [\"uniform\", \"distance\"]\n",
    "    df_knn[\"K\"] = klist\n",
    "\n",
    "    for algorithm in algorithm_list:\n",
    "        df_knn[algorithm] = knn_model(train_data, Y_train, dev_data, Y_dev, algorithm, weights[1], klist)\n",
    "    print(df_knn)\n",
    "    print(\"df_knn\")\n",
    "    return(df_knn)"
   ]
  },
  {
   "cell_type": "markdown",
   "metadata": {},
   "source": [
    "### NB Classifier"
   ]
  },
  {
   "cell_type": "code",
   "execution_count": 218,
   "metadata": {},
   "outputs": [],
   "source": [
    "def NB_model(train_data, train_labels, dev_data, dev_labels, alpha_list):\n",
    "    \n",
    "    f1_score = []\n",
    "    for alpha in alpha_list:\n",
    "        NB_mod = BernoulliNB(alpha=alpha)\n",
    "        NB_mod.fit(train_data, train_labels)\n",
    "        acc = NB_mod.score(dev_data, dev_labels)\n",
    "        f1_score.append(metrics.f1_score(dev_labels, NB_mod.predict(dev_data), average=\"weighted\"))\n",
    "    return(f1_score)\n",
    "\n",
    "def NB_models(train_data, Y_train, dev_data, Y_dev):\n",
    "    alpha_list = [1.0e-10, 0.0001, 0.001, 0.01, 0.1, 0.5, 1.0, 2.0, 10.0]\n",
    "\n",
    "    df_NB = pd.DataFrame()\n",
    "    df_NB[\"Alpha\"] = alpha_list\n",
    "    df_NB[\"F1_score\"] = NB_model(train_data, Y_train, dev_data, Y_dev, alpha_list)\n",
    "\n",
    "    print(df_NB)\n",
    "    print(\"df_NB\")\n",
    "    return(df_NB)"
   ]
  },
  {
   "cell_type": "markdown",
   "metadata": {},
   "source": [
    "### Multinomial NB"
   ]
  },
  {
   "cell_type": "code",
   "execution_count": 219,
   "metadata": {},
   "outputs": [],
   "source": [
    "def MNB_model(train_data, train_labels, dev_data, dev_labels, alpha_list):\n",
    "    \n",
    "    f1_score = []\n",
    "    for alpha in alpha_list:\n",
    "        MNB_mod = MultinomialNB(alpha=alpha)\n",
    "        MNB_mod.fit(train_data, train_labels)\n",
    "        f1_score.append(metrics.f1_score(dev_labels, MNB_mod.predict(dev_data), average=\"weighted\"))\n",
    "    \n",
    "    return(f1_score)\n",
    "\n",
    "def MNB_models(train_data, Y_train, dev_data, Y_dev):\n",
    "    alpha_list = [1.0e-10, 0.0001, 0.001, 0.01, 0.1, 0.5, 1.0, 2.0, 10.0]\n",
    "\n",
    "    df_MNB = pd.DataFrame()\n",
    "    df_MNB[\"Alpha\"] = alpha_list\n",
    "    df_MNB[\"F1_score\"] = MNB_model(train_data, Y_train, dev_data, Y_dev, alpha_list)\n",
    "\n",
    "    print(df_MNB)\n",
    "    print(\"df_MNB\")\n",
    "    return(df_MNB)"
   ]
  },
  {
   "cell_type": "markdown",
   "metadata": {},
   "source": [
    "### Gaussian NB"
   ]
  },
  {
   "cell_type": "code",
   "execution_count": 220,
   "metadata": {},
   "outputs": [],
   "source": [
    "def GNB_model(train_data, train_labels, dev_data, dev_labels, smoothing_list):\n",
    "    \n",
    "    f1_score = []\n",
    "    for var_smoothing in smoothing_list:\n",
    "        GNB_mod = GaussianNB(var_smoothing=var_smoothing)\n",
    "        GNB_mod.fit(train_data, train_labels)\n",
    "        f1_score.append(metrics.f1_score(dev_labels, GNB_mod.predict(dev_data), average=\"weighted\"))\n",
    "    \n",
    "    return(f1_score)\n",
    "\n",
    "def GNB_models(train_data, Y_train, dev_data, Y_dev):\n",
    "    smoothing_list = [1.0e-10, 0.0001, 0.001, 0.01, 0.1, 0.5, 1.0, 2.0, 10.0]\n",
    "\n",
    "    df_GNB = pd.DataFrame()\n",
    "    df_GNB[\"Var Smooth\"] = smoothing_list\n",
    "    df_GNB[\"F1_score\"] = GNB_model(train_data, Y_train, dev_data, Y_dev, smoothing_list)\n",
    "\n",
    "    print(df_GNB)\n",
    "    print(\"df_GNB\")\n",
    "    return(df_GNB)"
   ]
  },
  {
   "cell_type": "markdown",
   "metadata": {},
   "source": [
    "### LogisticRegression\n",
    "Warning The choice of the algorithm depends on the penalty chosen: Supported penalties by solver:  \n",
    "- ‘newton-cg’ - [‘l2’, ‘none’]  \n",
    "- ‘lbfgs’ - [‘l2’, ‘none’]  \n",
    "- ‘liblinear’ - [‘l1’, ‘l2’]  \n",
    "- ‘sag’ - [‘l2’, ‘none’]  \n",
    "- ‘saga’ - [‘elasticnet’, ‘l1’, ‘l2’, ‘none’]\n",
    "\n",
    "**max_iter was increased to 200, so it would converge**\n",
    "- max_iter int, default=100\n",
    "- Maximum number of iterations taken for the solvers to converge."
   ]
  },
  {
   "cell_type": "code",
   "execution_count": 221,
   "metadata": {},
   "outputs": [],
   "source": [
    "def LogR_model(train_data, train_labels, dev_data, dev_labels, penalty, solver, c_list):\n",
    "    \n",
    "    \n",
    "    #c_list = [0.1, 0.2, 0.3, 0.4, 0.5, 0.6, 0.7, 0.8, 0.9, 1, 1.1, 1.2, 1.3, 1.4, 1.5]\n",
    "    \n",
    "    f1_score = []\n",
    "    for c in c_list:\n",
    "        logR_mod = LogisticRegression(C=c, solver=solver, multi_class=\"auto\", penalty=penalty, max_iter=200)\n",
    "        logR_mod.fit(train_data, train_labels)\n",
    "        acc = logR_mod.score(dev_data, dev_labels)\n",
    "        f1_score.append(metrics.f1_score(dev_labels, logR_mod.predict(dev_data), average=\"weighted\"))\n",
    "    return(f1_score)\n",
    "\n",
    "def LogR_models(train_data, Y_train, dev_data, Y_dev):\n",
    "    df_logR =pd.DataFrame()\n",
    "    solver_list = [\"liblinear\", \"newton-cg\", \"sag\", \"lbfgs\"]\n",
    "    c_list = [1, 2, 3, 4, 5, 6, 7, 8, 9, 10, 11, 12, 13, 14, 15]\n",
    "\n",
    "    df_logR[\"C\"] = c_list\n",
    "    for solver in solver_list:\n",
    "        df_logR[solver] = LogR_model(train_data, Y_train, dev_data, Y_dev, \"l2\", solver, c_list)\n",
    "\n",
    "    print(df_logR)\n",
    "    print(\"df_LogR\")\n",
    "    return(df_logR)"
   ]
  },
  {
   "cell_type": "markdown",
   "metadata": {},
   "source": [
    "### Tree"
   ]
  },
  {
   "cell_type": "code",
   "execution_count": 222,
   "metadata": {},
   "outputs": [],
   "source": [
    "def DT_model(train_data, train_labels, dev_data, dev_labels, criterion, max_depth_list):\n",
    "    \n",
    "    \n",
    "    #c_list = [0.1, 0.2, 0.3, 0.4, 0.5, 0.6, 0.7, 0.8, 0.9, 1, 1.1, 1.2, 1.3, 1.4, 1.5]\n",
    "    \n",
    "    f1_score = []\n",
    "    for max_depth in max_depth_list:\n",
    "        dt_model = DecisionTreeClassifier(criterion=criterion, min_samples_split=10, max_depth=max_depth)\n",
    "        dt_model.fit(train_data, train_labels)\n",
    "        f1_score.append(metrics.f1_score(dev_labels, dt_model.predict(dev_data), average=\"weighted\"))\n",
    "\n",
    "    return(f1_score)\n",
    "\n",
    "def DT_models(train_data, Y_train, dev_data, Y_dev):\n",
    "    df_DT =pd.DataFrame()\n",
    "    criterion_list = [\"entropy\", \"gini\"]\n",
    "    max_depth_list = [1, 2, 3, 4, 5, 6, 7, 8, 9, 10, 11, 12]\n",
    "    df_DT[\"max_depth\"] = max_depth_list\n",
    "\n",
    "    for criterion in criterion_list:\n",
    "        df_DT[criterion] = DT_model(train_data, Y_train, dev_data, Y_dev, criterion, max_depth_list)\n",
    "\n",
    "    print(df_DT)\n",
    "    print(\"df_DT\")\n",
    "    return(df_DT)"
   ]
  },
  {
   "cell_type": "markdown",
   "metadata": {},
   "source": [
    "### Random Forest"
   ]
  },
  {
   "cell_type": "code",
   "execution_count": 224,
   "metadata": {},
   "outputs": [],
   "source": [
    "def RF_model(train_data, train_labels, dev_data, dev_labels, criterion, n_estimators_list):\n",
    "        \n",
    "    f1_score = []\n",
    "    for n_estimators in n_estimators_list:\n",
    "        RF_model = RandomForestClassifier(n_estimators=n_estimators,criterion=criterion, min_samples_split=10)\n",
    "        RF_model.fit(train_data, train_labels)\n",
    "        f1_score.append(metrics.f1_score(dev_labels, RF_model.predict(dev_data), average=\"weighted\"))\n",
    "\n",
    "    return(f1_score)\n",
    "\n",
    "def RF_models(train_data, Y_train, dev_data, Y_dev):\n",
    "    df_RF =pd.DataFrame()\n",
    "    criterion_list = [\"entropy\", \"gini\"]\n",
    "    n_estimators_list = [5, 10, 15, 20, 25, 30]\n",
    "    df_RF[\"n_estimators\"] = n_estimators_list\n",
    "\n",
    "    for criterion in criterion_list:\n",
    "        df_RF[criterion] = RF_model(train_data, Y_train, dev_data, Y_dev, criterion, n_estimators_list)\n",
    "\n",
    "    print(df_RF)\n",
    "    print(\"df_RF\")\n",
    "    return(df_RF)"
   ]
  },
  {
   "cell_type": "markdown",
   "metadata": {},
   "source": [
    "### AdaBoost"
   ]
  },
  {
   "cell_type": "code",
   "execution_count": 225,
   "metadata": {},
   "outputs": [],
   "source": [
    "def AdaB_model(train_data, train_labels, dev_data, dev_labels, algorithm, n_estimators_list):\n",
    "        \n",
    "    f1_score = []\n",
    "    for n_estimators in n_estimators_list:\n",
    "        AdaB_model = AdaBoostClassifier(n_estimators=n_estimators,algorithm=algorithm, learning_rate=1.2)\n",
    "        AdaB_model.fit(train_data, train_labels)\n",
    "        f1_score.append(metrics.f1_score(dev_labels, AdaB_model.predict(dev_data), average=\"weighted\"))\n",
    "\n",
    "    return(f1_score)\n",
    "\n",
    "def AdaB_models(train_data, Y_train, dev_data, Y_dev):\n",
    "    df_AdaB =pd.DataFrame()\n",
    "    algorithm_list = [\"SAMME\", \"SAMME.R\"]\n",
    "    n_estimators_list = [5, 10, 15, 20, 25, 30]\n",
    "    df_AdaB[\"n_estimators\"] = n_estimators_list\n",
    "\n",
    "    for algorithm in algorithm_list:\n",
    "        df_AdaB[algorithm] = AdaB_model(train_data, Y_train, dev_data, Y_dev, algorithm, n_estimators_list)\n",
    "\n",
    "    print(df_AdaB)\n",
    "    print(\"df_AdaB\")\n",
    "    return(df_AdaB)"
   ]
  },
  {
   "cell_type": "markdown",
   "metadata": {},
   "source": [
    "### SVM"
   ]
  },
  {
   "cell_type": "code",
   "execution_count": 226,
   "metadata": {},
   "outputs": [],
   "source": [
    "def SVM_model(train_data, train_labels, dev_data, dev_labels, kernel, c_list):\n",
    "        \n",
    "    f1_score = []\n",
    "    \n",
    "    for c in c_list:\n",
    "        if kernel == \"LinearSVC\":\n",
    "            svm_model = svm.LinearSVC(C=c, max_iter=10000)\n",
    "        elif kernel == \"poly\":\n",
    "            svm_model = svm.SVC(kernel=kernel, C=c, degree=2, gamma=1)\n",
    "        elif kernel == \"rbf\":\n",
    "            svm_model = svm.SVC(kernel=kernel, C=c, gamma=0.7)\n",
    "        else:\n",
    "            svm_model = svm.SVC(kernel=kernel, C=c,)\n",
    "        \n",
    "        svm_model.fit(train_data, train_labels)\n",
    "        f1_score.append(metrics.f1_score(dev_labels, svm_model.predict(dev_data), average=\"weighted\"))\n",
    "\n",
    "    return(f1_score)\n",
    "\n",
    "def SVM_models(train_data, Y_train, dev_data):\n",
    "    df_SVM =pd.DataFrame()\n",
    "    kernel_list = [\"linear\", \"rbf\", \"poly\", \"LinearSVC\"]\n",
    "    c_list = [0.5, 1, 1.5, 2, 2.5, 3, 4, 5, 10, 20]\n",
    "    df_SVM[\"C\"] = c_list\n",
    "\n",
    "    for kernel in kernel_list:\n",
    "        df_SVM[kernel] = SVM_model(train_data, Y_train, dev_data, Y_dev, kernel, c_list)\n",
    "    print(df_SVM)\n",
    "    print(\"df_SVM\")\n",
    "\n",
    "    return(df_SVM)"
   ]
  },
  {
   "cell_type": "markdown",
   "metadata": {},
   "source": [
    "### Neural Network\n",
    "\n",
    "**hidden_layer_sizestuple, length = n_layers - 2, default=(100,)**  \n",
    "The ith element represents the number of neurons in the ith hidden layer.\n",
    "\n",
    "**activation{‘identity’, ‘logistic’, ‘tanh’, ‘relu’}, default=’relu’**  \n",
    "Activation function for the hidden layer.  \n",
    "\n",
    "- ‘identity’, no-op activation, useful to implement linear bottleneck, returns f(x) = x  \n",
    "- ‘logistic’, the logistic sigmoid function, returns f(x) = 1 / (1 + exp(-x)).  \n",
    "- ‘tanh’, the hyperbolic tan function, returns f(x) = tanh(x).   \n",
    "- ‘relu’, the rectified linear unit function, returns f(x) = max(0, x)  \n",
    "\n",
    "**solver{‘lbfgs’, ‘sgd’, ‘adam’}, default=’adam’**  \n",
    "The solver for weight optimization.  \n",
    "\n",
    "- ‘lbfgs’ is an optimizer in the family of quasi-Newton methods.\n",
    "- ‘sgd’ refers to stochastic gradient descent.\n",
    "- ‘adam’ refers to a stochastic gradient-based optimizer proposed by Kingma, Diederik, and Jimmy Ba\n",
    "\n",
    "Note: The default solver ‘adam’ works pretty well on relatively large datasets (with thousands of training samples or more) in terms of both training time and validation score. For small datasets, however, ‘lbfgs’ can converge faster and perform better.\n",
    "\n",
    "**alphafloat, default=0.0001**\n",
    "L2 penalty (regularization term) parameter."
   ]
  },
  {
   "cell_type": "code",
   "execution_count": 227,
   "metadata": {},
   "outputs": [],
   "source": [
    "def NN_model(train_data, train_labels, dev_data, dev_labels, activation, solver_list, alpha_list, layer_list, choice):\n",
    "        \n",
    "    f1_score = []\n",
    "    \n",
    "    if choice == \"A\":\n",
    "        for alpha in alpha_list:\n",
    "            NN_model = MLPClassifier(hidden_layer_sizes=(10, 10, 10), max_iter=1000, activation=activation, alpha=alpha)\n",
    "            NN_model.fit(train_data, train_labels)\n",
    "            f1_score.append(metrics.f1_score(dev_labels, NN_model.predict(dev_data), average=\"weighted\"))\n",
    "    elif choice == \"L\":\n",
    "        for layer in layer_list:\n",
    "            NN_model = MLPClassifier(hidden_layer_sizes=layer, max_iter=1000, activation=activation)\n",
    "            NN_model.fit(train_data, train_labels)\n",
    "            f1_score.append(metrics.f1_score(dev_labels, NN_model.predict(dev_data), average=\"weighted\"))    \n",
    "    else:\n",
    "        for solver in solver_list:\n",
    "            NN_model = MLPClassifier(hidden_layer_sizes=(10, 10, 10), max_iter=8000, activation=activation, solver=solver)\n",
    "            NN_model.fit(train_data, train_labels)\n",
    "            f1_score.append(metrics.f1_score(dev_labels, NN_model.predict(dev_data), average=\"weighted\"))\n",
    "                \n",
    "    return(f1_score)\n",
    "\n",
    "#Note: Changing Alpha is not creating any variation in the f1_score.  Try first with L and then with S\n",
    "def NN_models(train_data, Y_train, dev_data, Y_dev, choice):\n",
    "    \n",
    "    df_NN =pd.DataFrame()\n",
    "    activation_list = [\"identity\", \"logistic\", \"tanh\", \"relu\"]\n",
    "    layer_list = [(10,10,10), (5,5,5), (3,3,3), (20, 20, 20)]\n",
    "    solver_list = [\"lbfgs\", \"sgd\", \"adam\"]\n",
    "    alpha_list = [0.0001, 0.001, 0.01, 0.1, 0.2, 0.3, 0.5]\n",
    "\n",
    "    for activation in activation_list:\n",
    "        df_NN[activation] = NN_model(train_data, Y_train, dev_data, Y_dev, activation, solver_list, alpha_list, layer_list, choice)\n",
    "\n",
    "    if choice == \"A\":\n",
    "        df_NN[\"Alpha\"] = alpha_list\n",
    "    elif choice == \"L\":\n",
    "        df_NN[\"Layers\"] = layer_list\n",
    "    else:\n",
    "        df_NN[\"Solver\"] = solver_list\n",
    "    \n",
    "    print(df_NN)\n",
    "    print(\"df_NN\")\n",
    "    return(df_NN)"
   ]
  },
  {
   "cell_type": "code",
   "execution_count": 13,
   "metadata": {},
   "outputs": [],
   "source": [
    "def assign_y(scale):\n",
    "    if scale == 2:\n",
    "        Y_train = train_y2\n",
    "        Y_dev = dev_y2\n",
    "    elif scale == 3:\n",
    "        Y_train = train_y3\n",
    "        Y_dev = dev_y3\n",
    "    elif scale == 4:\n",
    "        Y_train = train_y4\n",
    "        Y_dev = dev_y4\n",
    "    elif scale == 5:\n",
    "        Y_train = train_y5\n",
    "        Y_dev = dev_y5\n",
    "    elif scale == 10:\n",
    "        Y_train = train_y10\n",
    "        Y_dev = dev_y10\n",
    "    elif scale == 100:\n",
    "        Y_train = train_labels\n",
    "        Y_dev = dev_labels\n",
    "    else:\n",
    "        Y_train = train_labels\n",
    "        Y_dev = dev_labels\n",
    "    return(Y_train, Y_dev)        "
   ]
  },
  {
   "cell_type": "code",
   "execution_count": 12,
   "metadata": {},
   "outputs": [
    {
     "name": "stdout",
     "output_type": "stream",
     "text": [
      "ERROR! Session/line number was not unique in database. History logging moved to new session 413\n"
     ]
    }
   ],
   "source": [
    "def print_confusion_matrix(Y_dev, Prediction, title):\n",
    "    cfm = confusion_matrix(Y_dev,Prediction)\n",
    "    if np.unique(Y_dev).max() > 5:\n",
    "        size = 6\n",
    "    else: \n",
    "        size = np.unique(Y_dev).max()\n",
    "    fig, ax = plt.subplots(figsize=(size, size))\n",
    "    ax.matshow(cfm, cmap=plt.cm.Blues, alpha=0.3)\n",
    "    for i in range(cfm.shape[0]):\n",
    "        for j in range(cfm.shape[1]):\n",
    "            ax.text(x=j, y=i,s=cfm[i, j], va='center', ha='center', size='xx-large')\n",
    "    ax.set_title(title)"
   ]
  },
  {
   "cell_type": "code",
   "execution_count": null,
   "metadata": {},
   "outputs": [],
   "source": [
    "scale_list = [2, 3, 4, 5, 10, 100]\n",
    "file_name = \"model_summary.xlsx\"\n",
    "for scale in scale_list:\n",
    "    print(scale)\n",
    "    Y_train, Y_dev = assign_y(scale)\n",
    "    df_knn = knn_models(train_data, Y_train, dev_data, Y_dev)\n",
    "    df_NB = NB_models(train_data, Y_train, dev_data, Y_dev)\n",
    "    df_MNB = MNB_models(train_data, Y_train, dev_data, Y_dev)\n",
    "    df_GNB = GNB_models(train_data, Y_train, dev_data, Y_dev)\n",
    "    df_logR = LogR_models(train_data, Y_train, dev_data, Y_dev)\n",
    "    df_DT = DT_models(train_data, Y_train, dev_data, Y_dev)\n",
    "    df_RF = RF_models(train_data, Y_train, dev_data, Y_dev)\n",
    "    df_AdaB = AdaB_models(train_data, Y_train, dev_data, Y_dev)\n",
    "    df_SVM = SVM_models(train_data, Y_train, dev_data)\n",
    "    df_NN1 = NN_models(train_data, Y_train, dev_data, Y_dev, \"L\")\n",
    "    df_NN2 = NN_models(train_data, Y_train, dev_data, Y_dev, \"S\")\n",
    "\n",
    "    wrt_excel(file_name, \"knn-\"+str(scale), df_knn)\n",
    "    wrt_excel(file_name, \"NB-\"+str(scale), df_NB)    \n",
    "    wrt_excel(file_name, \"MNB-\"+str(scale), df_MNB)\n",
    "    wrt_excel(file_name, \"GNB-\"+str(scale), df_GNB)\n",
    "    wrt_excel(file_name, \"logR-\"+str(scale), df_logR)\n",
    "    wrt_excel(file_name, \"DT-\"+str(scale), df_DT)\n",
    "    wrt_excel(file_name, \"RF-\"+str(scale), df_RF)\n",
    "    wrt_excel(file_name, \"AdaB-\"+str(scale), df_AdaB)\n",
    "    wrt_excel(file_name, \"SVM-\"+str(scale), df_SVM)\n",
    "    wrt_excel(file_name, \"NN-\"+str(scale)+\"L\", df_NN1)\n",
    "    wrt_excel(file_name, \"NN-\"+str(scale)+\"S\", df_NN2)"
   ]
  },
  {
   "cell_type": "markdown",
   "metadata": {},
   "source": [
    "### Exploring Model Model"
   ]
  },
  {
   "cell_type": "code",
   "execution_count": 33,
   "metadata": {},
   "outputs": [],
   "source": [
    "scale = 10\n",
    "Y_train, Y_dev = assign_y(scale)"
   ]
  },
  {
   "cell_type": "code",
   "execution_count": 34,
   "metadata": {},
   "outputs": [
    {
     "name": "stdout",
     "output_type": "stream",
     "text": [
      "     K      auto  ball_tree   kd_tree     brute\n",
      "0    1  0.140019   0.141522  0.140019  0.115860\n",
      "1    2  0.149185   0.149145  0.149185  0.115802\n",
      "2    3  0.117183   0.117133  0.117183  0.119765\n",
      "3    4  0.140660   0.142080  0.140660  0.163788\n",
      "4    5  0.144825   0.144831  0.144825  0.173883\n",
      "5    6  0.161736   0.160022  0.161736  0.175366\n",
      "6    7  0.161215   0.161502  0.161215  0.176458\n",
      "7    8  0.159534   0.159809  0.159534  0.173806\n",
      "8    9  0.163219   0.163512  0.163219  0.175470\n",
      "9   10  0.163479   0.163479  0.163479  0.183449\n",
      "10  11  0.140593   0.141094  0.140593  0.179121\n",
      "11  12  0.172808   0.172808  0.172808  0.179637\n",
      "12  13  0.158651   0.158651  0.158651  0.174403\n",
      "13  14  0.159288   0.159288  0.159288  0.179451\n",
      "14  15  0.159041   0.159014  0.159041  0.171752\n",
      "df_knn\n"
     ]
    }
   ],
   "source": [
    "df_knn = knn_models(train_data, Y_train, dev_data, Y_dev)"
   ]
  },
  {
   "cell_type": "markdown",
   "metadata": {},
   "source": [
    "#### Further Exploring KDD"
   ]
  },
  {
   "cell_type": "markdown",
   "metadata": {},
   "source": [
    "### KNN a single model: Options\n",
    "**n_neighbors:**  integer, default=5\n",
    "\n",
    "**weights: {‘uniform’, ‘distance’} or callable, default=’uniform’. Weight function used in prediction. Possible values**:    \n",
    "(a) ‘uniform’ : uniform weights. All points in each neighborhood are weighted equally.  \n",
    "(b) ‘distance’ : weight points by the inverse of their distance. in this case, closer neighbors of a query point will have a greater influence than neighbors which are further away.  \n",
    "(b) [callable] : a user-defined function which accepts an array of distances, and returns an array of the same shape containing the weights.  \n",
    "\n",
    "**algorithm{‘auto’, ‘ball_tree’, ‘kd_tree’, ‘brute’}, default=’auto’**\n",
    "Algorithm used to compute the nearest neighbors:\n",
    "(a) ‘ball_tree’ will use BallTree  \n",
    "(b) ‘kd_tree’ will use KDTree  \n",
    "(c) ‘brute’ will use a brute-force search.  \n",
    "(d) ‘auto’ will attempt to decide the most appropriate algorithm based on the values passed to fit method.  \n",
    "\n",
    "**metric - str or callable, default=’minkowski’**  \n",
    "“euclidean”, “manhattan”, “chebyshev”, “minkowski”, “wminkowski”, “seuclidean”, “mahalanobis”\n",
    "\n"
   ]
  },
  {
   "cell_type": "code",
   "execution_count": 36,
   "metadata": {},
   "outputs": [
    {
     "name": "stdout",
     "output_type": "stream",
     "text": [
      "For K:  9 ,for scale  4 , f1_score:  0.39056058777994507\n"
     ]
    },
    {
     "data": {
      "image/png": "[encoded data removed]",
      "text/plain": [
       "<Figure size 288x288 with 1 Axes>"
      ]
     },
     "metadata": {
      "needs_background": "light"
     },
     "output_type": "display_data"
    }
   ],
   "source": [
    "scale = 4\n",
    "Y_train, Y_dev = assign_y(scale)\n",
    "k = 9\n",
    "\n",
    "metric_list = ['euclidean', 'manhattan', 'chebyshev', 'minkowski', 'wminkowski', 'seuclidean', 'mahalanobis']\n",
    "metric = metric_list[1]\n",
    "\n",
    "weights = [\"uniform\", \"distance\"]\n",
    "algorithm_list = [\"auto\", \"ball_tree\", \"kd_tree\", \"brute\"]\n",
    "\n",
    "knn_mod = KNeighborsClassifier(n_neighbors=k, algorithm=algorithm_list[0], weights=weights[0],  metric = metric)\n",
    "knn_mod.fit(train_data, Y_train)\n",
    "pred_knn = knn_mod.predict(dev_data)\n",
    "f1_score = metrics.f1_score(Y_dev, knn_mod.predict(dev_data), average=\"weighted\")\n",
    "print(\"For K: \",k,\",for scale \",scale,\", f1_score: \",f1_score)\n",
    "\n",
    "#Generate and create dataframe of Confusion Matrix\n",
    "print_confusion_matrix(Y_dev, pred_knn, \"KNN\")\n"
   ]
  },
  {
   "cell_type": "markdown",
   "metadata": {},
   "source": [
    "### Naive Bayes"
   ]
  },
  {
   "cell_type": "code",
   "execution_count": 301,
   "metadata": {},
   "outputs": [
    {
     "name": "stdout",
     "output_type": "stream",
     "text": [
      "For alpha:  0.01 ,for scale  5 , f1_score:  0.33445513826115714\n",
      "For alpha:  0.01 ,for scale  5 , f1_score:  0.33445513826115714\n",
      "For alpha:  0.01 ,for scale  5 , f1_score:  0.3570378527470726\n"
     ]
    },
    {
     "data": {
      "image/png": "[encoded data removed]",
      "text/plain": [
       "<Figure size 360x360 with 1 Axes>"
      ]
     },
     "metadata": {
      "needs_background": "light"
     },
     "output_type": "display_data"
    },
    {
     "data": {
      "image/png": "[encoded data removed]",
      "text/plain": [
       "<Figure size 360x360 with 1 Axes>"
      ]
     },
     "metadata": {
      "needs_background": "light"
     },
     "output_type": "display_data"
    },
    {
     "data": {
      "image/png": "[encoded data removed]",
      "text/plain": [
       "<Figure size 360x360 with 1 Axes>"
      ]
     },
     "metadata": {
      "needs_background": "light"
     },
     "output_type": "display_data"
    }
   ],
   "source": [
    "scale = 5\n",
    "Y_train, Y_dev = assign_y(scale)\n",
    "\n",
    "alpha_list = [1.0e-10, 0.0001, 0.001, 0.01, 0.1, 0.5, 1.0, 2.0, 10.0]\n",
    "smoothing_list = [1.0e-10, 0.0001, 0.001, 0.01, 0.1, 0.5, 1.0, 2.0, 10.0]\n",
    "i = 3\n",
    "\n",
    "NB_mod = BernoulliNB(alpha=alpha_list[i])\n",
    "NB_mod.fit(train_data, Y_train)\n",
    "pred_NB = NB_mod.predict(dev_data)\n",
    "f1_score = metrics.f1_score(Y_dev, NB_mod.predict(dev_data), average=\"weighted\")\n",
    "print(\"For alpha: \",alpha_list[i],\",for scale \",scale,\", f1_score: \",f1_score)\n",
    "print_confusion_matrix(Y_dev, pred_NB, \"NB\")\n",
    "\n",
    "MNB_mod = MultinomialNB(alpha=alpha_list[i])\n",
    "MNB_mod.fit(train_data, Y_train)\n",
    "pred_MNB = MNB_mod.predict(dev_data)\n",
    "f1_score = metrics.f1_score(Y_dev, MNB_mod.predict(dev_data), average=\"weighted\")\n",
    "print(\"For alpha: \",alpha_list[i],\",for scale \",scale,\", f1_score: \",f1_score)\n",
    "print_confusion_matrix(Y_dev, pred_MNB, \"MNB\")\n",
    "\n",
    "GNB_mod = GaussianNB(var_smoothing=smoothing_list[i])\n",
    "GNB_mod.fit(train_data, Y_train)\n",
    "pred_GNB = GNB_mod.predict(dev_data)\n",
    "f1_score = metrics.f1_score(Y_dev, GNB_mod.predict(dev_data), average=\"weighted\")\n",
    "print(\"For alpha: \",alpha_list[i],\",for scale \",scale,\", f1_score: \",f1_score)\n",
    "print_confusion_matrix(Y_dev, pred_GNB, \"GNB\")"
   ]
  },
  {
   "cell_type": "markdown",
   "metadata": {},
   "source": [
    "### Logistic Regression\n",
    "\n",
    "**multi_class{‘auto’, ‘ovr’, ‘multinomial’}, default=’auto’**  \n",
    "If the option chosen is ‘ovr’, then a binary problem is fit for each label. For ‘multinomial’ the loss minimised is the multinomial loss fit across the entire probability distribution, even when the data is binary. ‘multinomial’ is unavailable when solver=’liblinear’. ‘auto’ selects ‘ovr’ if the data is binary, or if solver=’liblinear’, and otherwise selects ‘multinomial’."
   ]
  },
  {
   "cell_type": "code",
   "execution_count": 308,
   "metadata": {},
   "outputs": [
    {
     "name": "stdout",
     "output_type": "stream",
     "text": [
      "F1_score:  0.33445513826115714\n"
     ]
    },
    {
     "data": {
      "image/png": "[encoded data removed]",
      "text/plain": [
       "<Figure size 360x360 with 1 Axes>"
      ]
     },
     "metadata": {
      "needs_background": "light"
     },
     "output_type": "display_data"
    }
   ],
   "source": [
    "scale = 5\n",
    "Y_train, Y_dev = assign_y(scale)\n",
    "c_list = [0.1, 0.2, 0.3, 0.4, 0.5, 0.6, 0.7, 0.8, 0.9, 1, 1.1, 1.2, 1.3, 1.4, 1.5]\n",
    "solver_list = [\"liblinear\", \"newton-cg\", \"sag\", \"lbfgs\"]\n",
    "c_list = [1, 2, 3, 4, 5, 6, 7, 8, 9, 10, 11, 12, 13, 14, 15]\n",
    "penalty = [\"l1\", \"l2\"]\n",
    "\n",
    "logR_mod = LogisticRegression(C=c_list[8], solver=solver_list[2], multi_class='multinomial', penalty=penalty[1], max_iter=200)\n",
    "logR_mod.fit(train_data, Y_train)\n",
    "pred_logR = logR_mod.predict(dev_data)\n",
    "f1_score = metrics.f1_score(Y_dev, logR_mod.predict(dev_data), average=\"weighted\")\n",
    "print(\"F1_score: \", f1_score)\n",
    "print_confusion_matrix(Y_dev, pred_logR, \"Logistic Regression\")\n"
   ]
  },
  {
   "cell_type": "markdown",
   "metadata": {},
   "source": [
    "### Desicion Tress - Random Forest"
   ]
  },
  {
   "cell_type": "code",
   "execution_count": 310,
   "metadata": {},
   "outputs": [
    {
     "name": "stdout",
     "output_type": "stream",
     "text": [
      "F1_score:  0.3439860194748306\n",
      "F1_score:  0.3456554095233331\n",
      "F1_score:  0.33445513826115714\n"
     ]
    },
    {
     "data": {
      "image/png": "[encoded data removed]",
      "text/plain": [
       "<Figure size 360x360 with 1 Axes>"
      ]
     },
     "metadata": {
      "needs_background": "light"
     },
     "output_type": "display_data"
    },
    {
     "data": {
      "image/png": "[encoded data removed]",
      "text/plain": [
       "<Figure size 360x360 with 1 Axes>"
      ]
     },
     "metadata": {
      "needs_background": "light"
     },
     "output_type": "display_data"
    },
    {
     "data": {
      "image/png": "[encoded data removed]",
      "text/plain": [
       "<Figure size 360x360 with 1 Axes>"
      ]
     },
     "metadata": {
      "needs_background": "light"
     },
     "output_type": "display_data"
    }
   ],
   "source": [
    "scale = 5\n",
    "Y_train, Y_dev = assign_y(scale)\n",
    "criterion_list = [\"entropy\", \"gini\"]\n",
    "max_depth_list = [1, 2, 3, 4, 5, 6, 7, 8, 9, 10, 11, 12]\n",
    "n_estimators_list = [5, 10, 15, 20, 25, 30]\n",
    "algorithm_list = [\"SAMME\", \"SAMME.R\"]\n",
    "\n",
    "\n",
    "dt_model = DecisionTreeClassifier(criterion=criterion_list[0], min_samples_split=10, max_depth=max_depth_list[5])\n",
    "dt_model.fit(train_data, Y_train)\n",
    "pred_dt = dt_model.predict(dev_data)\n",
    "f1_score = metrics.f1_score(Y_dev, dt_model.predict(dev_data), average=\"weighted\")\n",
    "print(\"F1_score: \", f1_score)\n",
    "print_confusion_matrix(Y_dev, pred_dt, \"Decision Tree\")\n",
    "\n",
    "RF_model = RandomForestClassifier(n_estimators=n_estimators_list[3],criterion=criterion_list[0], min_samples_split=10)\n",
    "RF_model.fit(train_data, Y_train)\n",
    "pred_RF = RF_model.predict(dev_data)\n",
    "f1_score = metrics.f1_score(Y_dev, RF_model.predict(dev_data), average=\"weighted\")\n",
    "print(\"F1_score: \", f1_score)\n",
    "print_confusion_matrix(Y_dev, pred_RF, \"Random Forest\")\n",
    "\n",
    "AdaB_model = AdaBoostClassifier(n_estimators=n_estimators_list[3],algorithm=algorithm_list[0], learning_rate=1.2)\n",
    "AdaB_model.fit(train_data, Y_train)\n",
    "pred_AdaB = AdaB_model.predict(dev_data)\n",
    "f1_score = metrics.f1_score(Y_dev, AdaB_model.predict(dev_data), average=\"weighted\")\n",
    "print(\"F1_score: \", f1_score)\n",
    "print_confusion_matrix(Y_dev, pred_AdaB, \"Ada Boooster\")"
   ]
  },
  {
   "cell_type": "markdown",
   "metadata": {},
   "source": [
    "### SVM"
   ]
  },
  {
   "cell_type": "code",
   "execution_count": 311,
   "metadata": {},
   "outputs": [
    {
     "name": "stdout",
     "output_type": "stream",
     "text": [
      "F1_score:  0.33445513826115714\n",
      "F1_score:  0.34150511839182013\n",
      "F1_score:  0.3456520312426025\n",
      "F1_score:  0.33445513826115714\n"
     ]
    },
    {
     "data": {
      "image/png": "[encoded data removed]",
      "text/plain": [
       "<Figure size 360x360 with 1 Axes>"
      ]
     },
     "metadata": {
      "needs_background": "light"
     },
     "output_type": "display_data"
    },
    {
     "data": {
      "image/png": "[encoded data removed]",
      "text/plain": [
       "<Figure size 360x360 with 1 Axes>"
      ]
     },
     "metadata": {
      "needs_background": "light"
     },
     "output_type": "display_data"
    },
    {
     "data": {
      "image/png": "[encoded data removed]",
      "text/plain": [
       "<Figure size 360x360 with 1 Axes>"
      ]
     },
     "metadata": {
      "needs_background": "light"
     },
     "output_type": "display_data"
    },
    {
     "data": {
      "image/png": "[encoded data removed]",
      "text/plain": [
       "<Figure size 360x360 with 1 Axes>"
      ]
     },
     "metadata": {
      "needs_background": "light"
     },
     "output_type": "display_data"
    }
   ],
   "source": [
    "scale = 5\n",
    "Y_train, Y_dev = assign_y(scale)\n",
    "kernel_list = [\"linear\", \"rbf\", \"poly\", \"LinearSVC\"]\n",
    "c_list = [0.5, 1, 1.5, 2, 2.5, 3, 4, 5, 10, 20]\n",
    "\n",
    "svm_LSVC = svm.LinearSVC(C=c_list[5], max_iter=10000)\n",
    "svm_LSVC.fit(train_data, Y_train)\n",
    "pred_LSVC = svm_LSVC.predict(dev_data)\n",
    "f1_score = metrics.f1_score(Y_dev, svm_LSVC.predict(dev_data), average=\"weighted\")\n",
    "print(\"F1_score: \", f1_score)\n",
    "print_confusion_matrix(Y_dev, pred_LSVC, \"SVM LinearSVC\")\n",
    "\n",
    "svm_poly = svm.SVC(kernel=\"poly\", C=c_list[5], degree=2, gamma=1)\n",
    "svm_poly.fit(train_data, Y_train)\n",
    "pred_poly = svm_poly.predict(dev_data)\n",
    "f1_score = metrics.f1_score(Y_dev, svm_poly.predict(dev_data), average=\"weighted\")\n",
    "print(\"F1_score: \", f1_score)\n",
    "print_confusion_matrix(Y_dev, pred_poly, \"SVM Poly\")\n",
    "\n",
    "svm_rbf = svm.SVC(kernel=\"rbf\", C=c_list[5], gamma=0.7)\n",
    "svm_rbf.fit(train_data, Y_train)\n",
    "pred_rbf = svm_rbf.predict(dev_data)\n",
    "f1_score = metrics.f1_score(Y_dev, svm_rbf.predict(dev_data), average=\"weighted\")\n",
    "print(\"F1_score: \", f1_score)\n",
    "print_confusion_matrix(Y_dev, pred_rbf, \"SVM rbf\")\n",
    "\n",
    "svm_lin = svm.SVC(kernel=\"linear\", C=c_list[5])\n",
    "svm_lin.fit(train_data, Y_train)\n",
    "pred_lin = svm_lin.predict(dev_data)\n",
    "f1_score = metrics.f1_score(Y_dev, svm_lin.predict(dev_data), average=\"weighted\")\n",
    "print(\"F1_score: \", f1_score)\n",
    "print_confusion_matrix(Y_dev, pred_lin, \"SVM linear\")\n",
    "\n"
   ]
  },
  {
   "cell_type": "markdown",
   "metadata": {},
   "source": [
    "#### Neural Networks"
   ]
  },
  {
   "cell_type": "code",
   "execution_count": 313,
   "metadata": {},
   "outputs": [
    {
     "name": "stdout",
     "output_type": "stream",
     "text": [
      "   identity  logistic      tanh      relu        Layers\n",
      "0  0.334455  0.334455  0.334455  0.340589  (10, 10, 10)\n",
      "1  0.334455  0.334455  0.334455  0.334118     (5, 5, 5)\n",
      "2  0.334455  0.334455  0.334455  0.334455     (3, 3, 3)\n",
      "3  0.334455  0.334455  0.335995  0.346628  (20, 20, 20)\n",
      "df_NN\n"
     ]
    },
    {
     "data": {
      "text/html": [
       "<div>\n",
       "<style scoped>\n",
       "    .dataframe tbody tr th:only-of-type {\n",
       "        vertical-align: middle;\n",
       "    }\n",
       "\n",
       "    .dataframe tbody tr th {\n",
       "        vertical-align: top;\n",
       "    }\n",
       "\n",
       "    .dataframe thead th {\n",
       "        text-align: right;\n",
       "    }\n",
       "</style>\n",
       "<table border=\"1\" class=\"dataframe\">\n",
       "  <thead>\n",
       "    <tr style=\"text-align: right;\">\n",
       "      <th></th>\n",
       "      <th>identity</th>\n",
       "      <th>logistic</th>\n",
       "      <th>tanh</th>\n",
       "      <th>relu</th>\n",
       "      <th>Layers</th>\n",
       "    </tr>\n",
       "  </thead>\n",
       "  <tbody>\n",
       "    <tr>\n",
       "      <th>0</th>\n",
       "      <td>0.334455</td>\n",
       "      <td>0.334455</td>\n",
       "      <td>0.334455</td>\n",
       "      <td>0.340589</td>\n",
       "      <td>(10, 10, 10)</td>\n",
       "    </tr>\n",
       "    <tr>\n",
       "      <th>1</th>\n",
       "      <td>0.334455</td>\n",
       "      <td>0.334455</td>\n",
       "      <td>0.334455</td>\n",
       "      <td>0.334118</td>\n",
       "      <td>(5, 5, 5)</td>\n",
       "    </tr>\n",
       "    <tr>\n",
       "      <th>2</th>\n",
       "      <td>0.334455</td>\n",
       "      <td>0.334455</td>\n",
       "      <td>0.334455</td>\n",
       "      <td>0.334455</td>\n",
       "      <td>(3, 3, 3)</td>\n",
       "    </tr>\n",
       "    <tr>\n",
       "      <th>3</th>\n",
       "      <td>0.334455</td>\n",
       "      <td>0.334455</td>\n",
       "      <td>0.335995</td>\n",
       "      <td>0.346628</td>\n",
       "      <td>(20, 20, 20)</td>\n",
       "    </tr>\n",
       "  </tbody>\n",
       "</table>\n",
       "</div>"
      ],
      "text/plain": [
       "   identity  logistic      tanh      relu        Layers\n",
       "0  0.334455  0.334455  0.334455  0.340589  (10, 10, 10)\n",
       "1  0.334455  0.334455  0.334455  0.334118     (5, 5, 5)\n",
       "2  0.334455  0.334455  0.334455  0.334455     (3, 3, 3)\n",
       "3  0.334455  0.334455  0.335995  0.346628  (20, 20, 20)"
      ]
     },
     "execution_count": 313,
     "metadata": {},
     "output_type": "execute_result"
    }
   ],
   "source": [
    "def NN_model1(train_data, train_labels, dev_data, dev_labels, activation, solver_list, alpha_list, layer_list, choice):\n",
    "        \n",
    "    f1_score = []\n",
    "    \n",
    "    if choice == \"A\":\n",
    "        for alpha in alpha_list:\n",
    "            NN_model = MLPClassifier(hidden_layer_sizes=(10, 10, 10), max_iter=1000, activation=activation, alpha=alpha)\n",
    "            NN_model.fit(train_data, train_labels)\n",
    "            f1_score.append(metrics.f1_score(dev_labels, NN_model.predict(dev_data), average=\"weighted\"))\n",
    "    elif choice == \"L\":\n",
    "        for layer in layer_list:\n",
    "            NN_model = MLPClassifier(hidden_layer_sizes=layer, max_iter=1000, activation=activation)\n",
    "            NN_model.fit(train_data, train_labels)\n",
    "            f1_score.append(metrics.f1_score(dev_labels, NN_model.predict(dev_data), average=\"weighted\"))    \n",
    "    else:\n",
    "        for solver in solver_list:\n",
    "            NN_model = MLPClassifier(hidden_layer_sizes=(10, 10, 10), max_iter=8000, activation=activation, solver=solver)\n",
    "            NN_model.fit(train_data, train_labels)\n",
    "            f1_score.append(metrics.f1_score(dev_labels, NN_model.predict(dev_data), average=\"weighted\"))\n",
    "                \n",
    "    return(f1_score)\n",
    "\n",
    "#Note: Changing Alpha is not creating any variation in the f1_score.  Try first with L and then with S\n",
    "def NN_models1(train_data, Y_train, dev_data, Y_dev, choice):\n",
    "    \n",
    "    df_NN =pd.DataFrame()\n",
    "    activation_list = [\"identity\", \"logistic\", \"tanh\", \"relu\"]\n",
    "    layer_list = [(10,10,10), (5,5,5), (3,3,3), (20, 20, 20)]\n",
    "    solver_list = [\"lbfgs\", \"sgd\", \"adam\"]\n",
    "    alpha_list = [0.0001, 0.001, 0.01, 0.1, 0.2, 0.3, 0.5]\n",
    "\n",
    "    for activation in activation_list:\n",
    "        df_NN[activation] = NN_model1(train_data, Y_train, dev_data, Y_dev, activation, solver_list, alpha_list, layer_list, choice)\n",
    "\n",
    "    if choice == \"A\":\n",
    "        df_NN[\"Alpha\"] = alpha_list\n",
    "    elif choice == \"L\":\n",
    "        df_NN[\"Layers\"] = layer_list\n",
    "    else:\n",
    "        df_NN[\"Solver\"] = solver_list\n",
    "    \n",
    "    print(df_NN)\n",
    "    print(\"df_NN\")\n",
    "    return(df_NN)\n",
    "\n",
    "scale = 5\n",
    "Y_train, Y_dev = assign_y(scale)\n",
    "\n",
    "df_NN1 = NN_models1(train_data, Y_train, dev_data, Y_dev, \"L\")\n",
    "df_NN1"
   ]
  },
  {
   "cell_type": "markdown",
   "metadata": {},
   "source": [
    "### Keras - Tensorflow"
   ]
  },
  {
   "cell_type": "code",
   "execution_count": 11,
   "metadata": {},
   "outputs": [
    {
     "name": "stderr",
     "output_type": "stream",
     "text": [
      "Using TensorFlow backend.\n"
     ]
    }
   ],
   "source": [
    "from sklearn.preprocessing import LabelEncoder, StandardScaler\n",
    "from keras.utils import to_categorical"
   ]
  },
  {
   "cell_type": "code",
   "execution_count": 19,
   "metadata": {},
   "outputs": [],
   "source": [
    "scale = 5\n",
    "Y_train, Y_dev = assign_y(scale)"
   ]
  },
  {
   "cell_type": "code",
   "execution_count": 22,
   "metadata": {},
   "outputs": [],
   "source": [
    "# Step 0: SCALE THE DATA - TO BRING THEM TO THE SAME SCALE (MAY NOT BE NEEDED HERE AS IT IS ZEROS AND ONES)\n",
    "X_scaler = StandardScaler().fit(train_data)\n",
    "X_train_scaled = X_scaler.transform(train_data)\n",
    "X_test_scaled = X_scaler.transform(dev_data)"
   ]
  },
  {
   "cell_type": "code",
   "execution_count": 23,
   "metadata": {},
   "outputs": [
    {
     "name": "stdout",
     "output_type": "stream",
     "text": [
      "[[-0.16085571  0.53504246  0.32558121 ... -0.46336366 -0.26404024\n",
      "  -0.27268129]\n",
      " [-0.16085571 -1.86901053  0.32558121 ... -0.46336366 -0.26404024\n",
      "  -0.27268129]\n",
      " [-0.16085571  0.53504246  0.32558121 ... -0.46336366 -0.26404024\n",
      "  -0.27268129]\n",
      " ...\n",
      " [-0.16085571  0.53504246  0.32558121 ... -0.46336366 -0.26404024\n",
      "  -0.27268129]\n",
      " [-0.16085571  0.53504246  0.32558121 ...  2.15813212 -0.26404024\n",
      "  -0.27268129]\n",
      " [-0.16085571  0.53504246  0.32558121 ...  2.15813212  3.78730158\n",
      "  -0.27268129]]\n"
     ]
    }
   ],
   "source": [
    "print(X_test_scaled)"
   ]
  },
  {
   "cell_type": "code",
   "execution_count": 24,
   "metadata": {},
   "outputs": [],
   "source": [
    "# Step 1: Label-encode data set (NOT NEEDED AS Y IS ALREADY CODED AS NUMERIC)\n",
    "label_encoder = LabelEncoder()\n",
    "label_encoder.fit(Y_train)\n",
    "\n",
    "encoded_y_train = label_encoder.transform(Y_train)\n",
    "encoded_y_dev = label_encoder.transform(Y_dev)"
   ]
  },
  {
   "cell_type": "code",
   "execution_count": 20,
   "metadata": {},
   "outputs": [],
   "source": [
    "# Step 2: Convert encoded labels to one-hot-encoding\n",
    "y_train_categorical = to_categorical(Y_train)\n",
    "y_test_categorical = to_categorical(Y_dev)"
   ]
  },
  {
   "cell_type": "code",
   "execution_count": 26,
   "metadata": {},
   "outputs": [
    {
     "data": {
      "text/plain": [
       "['Project_1_NN_label_encoder.bin']"
      ]
     },
     "execution_count": 26,
     "metadata": {},
     "output_type": "execute_result"
    }
   ],
   "source": [
    "#Saving the label_encoder - When using encoded, it could be saved for being uploaded later for use with model\n",
    "#from sklearn.externals.joblib import dump, load  - THIS DID NOT WORK - USED THE CODE BELOW\n",
    "import joblib\n",
    "from joblib import dump, load\n",
    "dump(label_encoder, 'Project_1_NN_label_encoder.bin', compress=True)"
   ]
  },
  {
   "cell_type": "code",
   "execution_count": 27,
   "metadata": {},
   "outputs": [],
   "source": [
    "#CREATING NEURAL NETWORK MODEL\n",
    "from keras.models import Sequential\n",
    "from keras.layers import Dense"
   ]
  },
  {
   "cell_type": "code",
   "execution_count": 29,
   "metadata": {},
   "outputs": [],
   "source": [
    "#Scale = numer of output units (depending on scale being used)\n",
    "#input_dim = number of features being used for the model\n",
    "\n",
    "input_dim = len(X_test_scaled[0])\n",
    "\n",
    "# Create model and add layers\n",
    "model = Sequential()\n",
    "model.add(Dense(units=100, activation='relu', input_dim=input_dim))\n",
    "model.add(Dense(units=100, activation='relu'))\n",
    "model.add(Dense(units=scale, activation='softmax'))"
   ]
  },
  {
   "cell_type": "code",
   "execution_count": 33,
   "metadata": {},
   "outputs": [
    {
     "name": "stderr",
     "output_type": "stream",
     "text": [
      "ERROR: Could not find a version that satisfies the requirement tensorflow-estimatior\n",
      "ERROR: No matching distribution found for tensorflow-estimatior\n"
     ]
    }
   ],
   "source": [
    "!pip install tensorflow-estimatior"
   ]
  },
  {
   "cell_type": "code",
   "execution_count": null,
   "metadata": {},
   "outputs": [
    {
     "name": "stderr",
     "output_type": "stream",
     "text": [
      "ERROR:root:Internal Python error in the inspect module.\n",
      "Below is the traceback from this internal error.\n",
      "\n",
      "ERROR:root:Internal Python error in the inspect module.\n",
      "Below is the traceback from this internal error.\n",
      "\n",
      "ERROR:root:Internal Python error in the inspect module.\n",
      "Below is the traceback from this internal error.\n",
      "\n"
     ]
    },
    {
     "name": "stdout",
     "output_type": "stream",
     "text": [
      "Traceback (most recent call last):\n",
      "  File \"C:\\Users\\asi40\\AppData\\Roaming\\Python\\Python36\\site-packages\\IPython\\core\\interactiveshell.py\", line 3343, in run_code\n",
      "    exec(code_obj, self.user_global_ns, self.user_ns)\n",
      "  File \"<ipython-input-30-4020195a75cb>\", line 10, in <module>\n",
      "    verbose=2\n",
      "  File \"C:\\Users\\asi40\\.conda\\envs\\w207\\lib\\site-packages\\keras\\engine\\training.py\", line 1154, in fit\n",
      "    batch_size=batch_size)\n",
      "  File \"C:\\Users\\asi40\\.conda\\envs\\w207\\lib\\site-packages\\keras\\engine\\training.py\", line 621, in _standardize_user_data\n",
      "    exception_prefix='target')\n",
      "  File \"C:\\Users\\asi40\\.conda\\envs\\w207\\lib\\site-packages\\keras\\engine\\training_utils.py\", line 145, in standardize_input_data\n",
      "    str(data_shape))\n",
      "ValueError: Error when checking target: expected dense_3 to have shape (5,) but got array with shape (6,)\n",
      "\n",
      "During handling of the above exception, another exception occurred:\n",
      "\n",
      "Traceback (most recent call last):\n",
      "  File \"C:\\Users\\asi40\\AppData\\Roaming\\Python\\Python36\\site-packages\\IPython\\core\\interactiveshell.py\", line 2044, in showtraceback\n",
      "    stb = value._render_traceback_()\n",
      "AttributeError: 'ValueError' object has no attribute '_render_traceback_'\n",
      "\n",
      "During handling of the above exception, another exception occurred:\n",
      "\n",
      "Traceback (most recent call last):\n",
      "  File \"C:\\Users\\asi40\\AppData\\Roaming\\Python\\Python36\\site-packages\\IPython\\core\\ultratb.py\", line 1169, in get_records\n",
      "    return _fixed_getinnerframes(etb, number_of_lines_of_context, tb_offset)\n",
      "  File \"C:\\Users\\asi40\\AppData\\Roaming\\Python\\Python36\\site-packages\\IPython\\core\\ultratb.py\", line 316, in wrapped\n",
      "    return f(*args, **kwargs)\n",
      "  File \"C:\\Users\\asi40\\AppData\\Roaming\\Python\\Python36\\site-packages\\IPython\\core\\ultratb.py\", line 350, in _fixed_getinnerframes\n",
      "    records = fix_frame_records_filenames(inspect.getinnerframes(etb, context))\n",
      "  File \"C:\\Users\\asi40\\.conda\\envs\\w207\\lib\\inspect.py\", line 1490, in getinnerframes\n",
      "    frameinfo = (tb.tb_frame,) + getframeinfo(tb, context)\n",
      "  File \"C:\\Users\\asi40\\.conda\\envs\\w207\\lib\\inspect.py\", line 1448, in getframeinfo\n",
      "    filename = getsourcefile(frame) or getfile(frame)\n",
      "  File \"C:\\Users\\asi40\\.conda\\envs\\w207\\lib\\inspect.py\", line 696, in getsourcefile\n",
      "    if getattr(getmodule(object, filename), '__loader__', None) is not None:\n",
      "  File \"C:\\Users\\asi40\\.conda\\envs\\w207\\lib\\inspect.py\", line 733, in getmodule\n",
      "    if ismodule(module) and hasattr(module, '__file__'):\n",
      "  File \"C:\\Users\\asi40\\.conda\\envs\\w207\\lib\\site-packages\\tensorflow\\__init__.py\", line 50, in __getattr__\n",
      "    module = self._load()\n",
      "  File \"C:\\Users\\asi40\\.conda\\envs\\w207\\lib\\site-packages\\tensorflow\\__init__.py\", line 44, in _load\n",
      "    module = _importlib.import_module(self.__name__)\n",
      "  File \"C:\\Users\\asi40\\.conda\\envs\\w207\\lib\\importlib\\__init__.py\", line 126, in import_module\n",
      "    return _bootstrap._gcd_import(name[level:], package, level)\n",
      "  File \"<frozen importlib._bootstrap>\", line 994, in _gcd_import\n",
      "  File \"<frozen importlib._bootstrap>\", line 971, in _find_and_load\n",
      "  File \"<frozen importlib._bootstrap>\", line 953, in _find_and_load_unlocked\n",
      "ModuleNotFoundError: No module named 'tensorflow_core.estimator'\n",
      "Traceback (most recent call last):\n",
      "  File \"C:\\Users\\asi40\\AppData\\Roaming\\Python\\Python36\\site-packages\\IPython\\core\\interactiveshell.py\", line 3343, in run_code\n",
      "    exec(code_obj, self.user_global_ns, self.user_ns)\n",
      "  File \"<ipython-input-30-4020195a75cb>\", line 10, in <module>\n",
      "    verbose=2\n",
      "  File \"C:\\Users\\asi40\\.conda\\envs\\w207\\lib\\site-packages\\keras\\engine\\training.py\", line 1154, in fit\n",
      "    batch_size=batch_size)\n",
      "  File \"C:\\Users\\asi40\\.conda\\envs\\w207\\lib\\site-packages\\keras\\engine\\training.py\", line 621, in _standardize_user_data\n",
      "    exception_prefix='target')\n",
      "  File \"C:\\Users\\asi40\\.conda\\envs\\w207\\lib\\site-packages\\keras\\engine\\training_utils.py\", line 145, in standardize_input_data\n",
      "    str(data_shape))\n",
      "ValueError: Error when checking target: expected dense_3 to have shape (5,) but got array with shape (6,)\n",
      "\n",
      "During handling of the above exception, another exception occurred:\n",
      "\n",
      "Traceback (most recent call last):\n",
      "  File \"C:\\Users\\asi40\\AppData\\Roaming\\Python\\Python36\\site-packages\\IPython\\core\\interactiveshell.py\", line 2044, in showtraceback\n",
      "    stb = value._render_traceback_()\n",
      "AttributeError: 'ValueError' object has no attribute '_render_traceback_'\n",
      "\n",
      "During handling of the above exception, another exception occurred:\n",
      "\n",
      "Traceback (most recent call last):\n",
      "  File \"C:\\Users\\asi40\\AppData\\Roaming\\Python\\Python36\\site-packages\\IPython\\core\\interactiveshell.py\", line 3263, in run_ast_nodes\n",
      "    if (await self.run_code(code, result,  async_=asy)):\n",
      "  File \"C:\\Users\\asi40\\AppData\\Roaming\\Python\\Python36\\site-packages\\IPython\\core\\interactiveshell.py\", line 3360, in run_code\n",
      "    self.showtraceback(running_compiled_code=True)\n",
      "  File \"C:\\Users\\asi40\\AppData\\Roaming\\Python\\Python36\\site-packages\\IPython\\core\\interactiveshell.py\", line 2047, in showtraceback\n",
      "    value, tb, tb_offset=tb_offset)\n",
      "  File \"C:\\Users\\asi40\\AppData\\Roaming\\Python\\Python36\\site-packages\\IPython\\core\\ultratb.py\", line 1436, in structured_traceback\n",
      "    self, etype, value, tb, tb_offset, number_of_lines_of_context)\n",
      "  File \"C:\\Users\\asi40\\AppData\\Roaming\\Python\\Python36\\site-packages\\IPython\\core\\ultratb.py\", line 1336, in structured_traceback\n",
      "    self, etype, value, tb, tb_offset, number_of_lines_of_context\n",
      "  File \"C:\\Users\\asi40\\AppData\\Roaming\\Python\\Python36\\site-packages\\IPython\\core\\ultratb.py\", line 1193, in structured_traceback\n",
      "    tb_offset)\n",
      "  File \"C:\\Users\\asi40\\AppData\\Roaming\\Python\\Python36\\site-packages\\IPython\\core\\ultratb.py\", line 1150, in format_exception_as_a_whole\n",
      "    last_unique, recursion_repeat = find_recursion(orig_etype, evalue, records)\n",
      "  File \"C:\\Users\\asi40\\AppData\\Roaming\\Python\\Python36\\site-packages\\IPython\\core\\ultratb.py\", line 451, in find_recursion\n",
      "    return len(records), 0\n",
      "TypeError: object of type 'NoneType' has no len()\n",
      "\n",
      "During handling of the above exception, another exception occurred:\n",
      "\n",
      "Traceback (most recent call last):\n",
      "  File \"C:\\Users\\asi40\\AppData\\Roaming\\Python\\Python36\\site-packages\\IPython\\core\\interactiveshell.py\", line 2044, in showtraceback\n",
      "    stb = value._render_traceback_()\n",
      "AttributeError: 'TypeError' object has no attribute '_render_traceback_'\n",
      "\n",
      "During handling of the above exception, another exception occurred:\n",
      "\n",
      "Traceback (most recent call last):\n",
      "  File \"C:\\Users\\asi40\\AppData\\Roaming\\Python\\Python36\\site-packages\\IPython\\core\\ultratb.py\", line 1169, in get_records\n",
      "    return _fixed_getinnerframes(etb, number_of_lines_of_context, tb_offset)\n",
      "  File \"C:\\Users\\asi40\\AppData\\Roaming\\Python\\Python36\\site-packages\\IPython\\core\\ultratb.py\", line 316, in wrapped\n",
      "    return f(*args, **kwargs)\n",
      "  File \"C:\\Users\\asi40\\AppData\\Roaming\\Python\\Python36\\site-packages\\IPython\\core\\ultratb.py\", line 350, in _fixed_getinnerframes\n",
      "    records = fix_frame_records_filenames(inspect.getinnerframes(etb, context))\n",
      "  File \"C:\\Users\\asi40\\.conda\\envs\\w207\\lib\\inspect.py\", line 1490, in getinnerframes\n",
      "    frameinfo = (tb.tb_frame,) + getframeinfo(tb, context)\n",
      "  File \"C:\\Users\\asi40\\.conda\\envs\\w207\\lib\\inspect.py\", line 1448, in getframeinfo\n",
      "    filename = getsourcefile(frame) or getfile(frame)\n",
      "  File \"C:\\Users\\asi40\\.conda\\envs\\w207\\lib\\inspect.py\", line 696, in getsourcefile\n",
      "    if getattr(getmodule(object, filename), '__loader__', None) is not None:\n",
      "  File \"C:\\Users\\asi40\\.conda\\envs\\w207\\lib\\inspect.py\", line 733, in getmodule\n",
      "    if ismodule(module) and hasattr(module, '__file__'):\n",
      "  File \"C:\\Users\\asi40\\.conda\\envs\\w207\\lib\\site-packages\\tensorflow\\__init__.py\", line 50, in __getattr__\n",
      "    module = self._load()\n",
      "  File \"C:\\Users\\asi40\\.conda\\envs\\w207\\lib\\site-packages\\tensorflow\\__init__.py\", line 44, in _load\n",
      "    module = _importlib.import_module(self.__name__)\n",
      "  File \"C:\\Users\\asi40\\.conda\\envs\\w207\\lib\\importlib\\__init__.py\", line 126, in import_module\n",
      "    return _bootstrap._gcd_import(name[level:], package, level)\n",
      "  File \"<frozen importlib._bootstrap>\", line 994, in _gcd_import\n",
      "  File \"<frozen importlib._bootstrap>\", line 971, in _find_and_load\n",
      "  File \"<frozen importlib._bootstrap>\", line 953, in _find_and_load_unlocked\n",
      "ModuleNotFoundError: No module named 'tensorflow_core.estimator'\n",
      "Traceback (most recent call last):\n",
      "  File \"C:\\Users\\asi40\\AppData\\Roaming\\Python\\Python36\\site-packages\\IPython\\core\\interactiveshell.py\", line 3343, in run_code\n",
      "    exec(code_obj, self.user_global_ns, self.user_ns)\n",
      "  File \"<ipython-input-30-4020195a75cb>\", line 10, in <module>\n",
      "    verbose=2\n",
      "  File \"C:\\Users\\asi40\\.conda\\envs\\w207\\lib\\site-packages\\keras\\engine\\training.py\", line 1154, in fit\n",
      "    batch_size=batch_size)\n",
      "  File \"C:\\Users\\asi40\\.conda\\envs\\w207\\lib\\site-packages\\keras\\engine\\training.py\", line 621, in _standardize_user_data\n",
      "    exception_prefix='target')\n",
      "  File \"C:\\Users\\asi40\\.conda\\envs\\w207\\lib\\site-packages\\keras\\engine\\training_utils.py\", line 145, in standardize_input_data\n",
      "    str(data_shape))\n",
      "ValueError: Error when checking target: expected dense_3 to have shape (5,) but got array with shape (6,)\n",
      "\n",
      "During handling of the above exception, another exception occurred:\n",
      "\n",
      "Traceback (most recent call last):\n",
      "  File \"C:\\Users\\asi40\\AppData\\Roaming\\Python\\Python36\\site-packages\\IPython\\core\\interactiveshell.py\", line 2044, in showtraceback\n",
      "    stb = value._render_traceback_()\n",
      "AttributeError: 'ValueError' object has no attribute '_render_traceback_'\n",
      "\n",
      "During handling of the above exception, another exception occurred:\n",
      "\n",
      "Traceback (most recent call last):\n",
      "  File \"C:\\Users\\asi40\\AppData\\Roaming\\Python\\Python36\\site-packages\\IPython\\core\\interactiveshell.py\", line 3263, in run_ast_nodes\n",
      "    if (await self.run_code(code, result,  async_=asy)):\n",
      "  File \"C:\\Users\\asi40\\AppData\\Roaming\\Python\\Python36\\site-packages\\IPython\\core\\interactiveshell.py\", line 3360, in run_code\n",
      "    self.showtraceback(running_compiled_code=True)\n",
      "  File \"C:\\Users\\asi40\\AppData\\Roaming\\Python\\Python36\\site-packages\\IPython\\core\\interactiveshell.py\", line 2047, in showtraceback\n",
      "    value, tb, tb_offset=tb_offset)\n",
      "  File \"C:\\Users\\asi40\\AppData\\Roaming\\Python\\Python36\\site-packages\\IPython\\core\\ultratb.py\", line 1436, in structured_traceback\n",
      "    self, etype, value, tb, tb_offset, number_of_lines_of_context)\n",
      "  File \"C:\\Users\\asi40\\AppData\\Roaming\\Python\\Python36\\site-packages\\IPython\\core\\ultratb.py\", line 1336, in structured_traceback\n",
      "    self, etype, value, tb, tb_offset, number_of_lines_of_context\n",
      "  File \"C:\\Users\\asi40\\AppData\\Roaming\\Python\\Python36\\site-packages\\IPython\\core\\ultratb.py\", line 1193, in structured_traceback\n",
      "    tb_offset)\n",
      "  File \"C:\\Users\\asi40\\AppData\\Roaming\\Python\\Python36\\site-packages\\IPython\\core\\ultratb.py\", line 1150, in format_exception_as_a_whole\n",
      "    last_unique, recursion_repeat = find_recursion(orig_etype, evalue, records)\n",
      "  File \"C:\\Users\\asi40\\AppData\\Roaming\\Python\\Python36\\site-packages\\IPython\\core\\ultratb.py\", line 451, in find_recursion\n",
      "    return len(records), 0\n",
      "TypeError: object of type 'NoneType' has no len()\n",
      "\n",
      "During handling of the above exception, another exception occurred:\n",
      "\n",
      "Traceback (most recent call last):\n",
      "  File \"C:\\Users\\asi40\\AppData\\Roaming\\Python\\Python36\\site-packages\\IPython\\core\\interactiveshell.py\", line 2044, in showtraceback\n",
      "    stb = value._render_traceback_()\n",
      "AttributeError: 'TypeError' object has no attribute '_render_traceback_'\n",
      "\n",
      "During handling of the above exception, another exception occurred:\n",
      "\n",
      "Traceback (most recent call last):\n",
      "  File \"C:\\Users\\asi40\\AppData\\Roaming\\Python\\Python36\\site-packages\\IPython\\core\\interactiveshell.py\", line 2895, in _run_cell\n",
      "    return runner(coro)\n",
      "  File \"C:\\Users\\asi40\\AppData\\Roaming\\Python\\Python36\\site-packages\\IPython\\core\\async_helpers.py\", line 68, in _pseudo_sync_runner\n",
      "    coro.send(None)\n",
      "  File \"C:\\Users\\asi40\\AppData\\Roaming\\Python\\Python36\\site-packages\\IPython\\core\\interactiveshell.py\", line 3072, in run_cell_async\n",
      "    interactivity=interactivity, compiler=compiler, result=result)\n",
      "  File \"C:\\Users\\asi40\\AppData\\Roaming\\Python\\Python36\\site-packages\\IPython\\core\\interactiveshell.py\", line 3282, in run_ast_nodes\n",
      "    self.showtraceback()\n",
      "  File \"C:\\Users\\asi40\\AppData\\Roaming\\Python\\Python36\\site-packages\\IPython\\core\\interactiveshell.py\", line 2047, in showtraceback\n",
      "    value, tb, tb_offset=tb_offset)\n",
      "  File \"C:\\Users\\asi40\\AppData\\Roaming\\Python\\Python36\\site-packages\\IPython\\core\\ultratb.py\", line 1436, in structured_traceback\n",
      "    self, etype, value, tb, tb_offset, number_of_lines_of_context)\n",
      "  File \"C:\\Users\\asi40\\AppData\\Roaming\\Python\\Python36\\site-packages\\IPython\\core\\ultratb.py\", line 1336, in structured_traceback\n",
      "    self, etype, value, tb, tb_offset, number_of_lines_of_context\n",
      "  File \"C:\\Users\\asi40\\AppData\\Roaming\\Python\\Python36\\site-packages\\IPython\\core\\ultratb.py\", line 1211, in structured_traceback\n",
      "    chained_exceptions_tb_offset)\n",
      "  File \"C:\\Users\\asi40\\AppData\\Roaming\\Python\\Python36\\site-packages\\IPython\\core\\ultratb.py\", line 1150, in format_exception_as_a_whole\n",
      "    last_unique, recursion_repeat = find_recursion(orig_etype, evalue, records)\n",
      "  File \"C:\\Users\\asi40\\AppData\\Roaming\\Python\\Python36\\site-packages\\IPython\\core\\ultratb.py\", line 451, in find_recursion\n",
      "    return len(records), 0\n",
      "TypeError: object of type 'NoneType' has no len()\n",
      "\n",
      "During handling of the above exception, another exception occurred:\n",
      "\n",
      "Traceback (most recent call last):\n",
      "  File \"C:\\Users\\asi40\\AppData\\Roaming\\Python\\Python36\\site-packages\\IPython\\core\\interactiveshell.py\", line 2044, in showtraceback\n",
      "    stb = value._render_traceback_()\n",
      "AttributeError: 'TypeError' object has no attribute '_render_traceback_'\n",
      "\n",
      "During handling of the above exception, another exception occurred:\n",
      "\n",
      "Traceback (most recent call last):\n",
      "  File \"C:\\Users\\asi40\\AppData\\Roaming\\Python\\Python36\\site-packages\\IPython\\core\\ultratb.py\", line 1169, in get_records\n",
      "    return _fixed_getinnerframes(etb, number_of_lines_of_context, tb_offset)\n",
      "  File \"C:\\Users\\asi40\\AppData\\Roaming\\Python\\Python36\\site-packages\\IPython\\core\\ultratb.py\", line 316, in wrapped\n",
      "    return f(*args, **kwargs)\n",
      "  File \"C:\\Users\\asi40\\AppData\\Roaming\\Python\\Python36\\site-packages\\IPython\\core\\ultratb.py\", line 350, in _fixed_getinnerframes\n",
      "    records = fix_frame_records_filenames(inspect.getinnerframes(etb, context))\n",
      "  File \"C:\\Users\\asi40\\.conda\\envs\\w207\\lib\\inspect.py\", line 1490, in getinnerframes\n",
      "    frameinfo = (tb.tb_frame,) + getframeinfo(tb, context)\n",
      "  File \"C:\\Users\\asi40\\.conda\\envs\\w207\\lib\\inspect.py\", line 1448, in getframeinfo\n",
      "    filename = getsourcefile(frame) or getfile(frame)\n",
      "  File \"C:\\Users\\asi40\\.conda\\envs\\w207\\lib\\inspect.py\", line 696, in getsourcefile\n",
      "    if getattr(getmodule(object, filename), '__loader__', None) is not None:\n",
      "  File \"C:\\Users\\asi40\\.conda\\envs\\w207\\lib\\inspect.py\", line 733, in getmodule\n",
      "    if ismodule(module) and hasattr(module, '__file__'):\n",
      "  File \"C:\\Users\\asi40\\.conda\\envs\\w207\\lib\\site-packages\\tensorflow\\__init__.py\", line 50, in __getattr__\n",
      "    module = self._load()\n",
      "  File \"C:\\Users\\asi40\\.conda\\envs\\w207\\lib\\site-packages\\tensorflow\\__init__.py\", line 44, in _load\n",
      "    module = _importlib.import_module(self.__name__)\n",
      "  File \"C:\\Users\\asi40\\.conda\\envs\\w207\\lib\\importlib\\__init__.py\", line 126, in import_module\n",
      "    return _bootstrap._gcd_import(name[level:], package, level)\n",
      "  File \"<frozen importlib._bootstrap>\", line 994, in _gcd_import\n",
      "  File \"<frozen importlib._bootstrap>\", line 971, in _find_and_load\n",
      "  File \"<frozen importlib._bootstrap>\", line 953, in _find_and_load_unlocked\n",
      "ModuleNotFoundError: No module named 'tensorflow_core.estimator'\n"
     ]
    }
   ],
   "source": [
    "# Compile and fit the model\n",
    "model.compile(optimizer='adam',\n",
    "              loss='categorical_crossentropy',\n",
    "              metrics=['accuracy'])\n",
    "model.fit(\n",
    "    X_train_scaled,\n",
    "    y_train_categorical,\n",
    "    epochs=60,\n",
    "    shuffle=True,\n",
    "    verbose=2\n",
    ")"
   ]
  },
  {
   "cell_type": "markdown",
   "metadata": {},
   "source": [
    "### Trying Transformations and/or Combinations"
   ]
  },
  {
   "cell_type": "code",
   "execution_count": 210,
   "metadata": {},
   "outputs": [],
   "source": [
    "#Get X and Y data - shuffle data.\n",
    "X_cols = ['Subject Focus','Eyes', 'Face','Near','Action','Accessory','Group','Collage','Human','Occlusion','Info','Blur']\n",
    "X = np.array(df_data[X_cols])\n"
   ]
  },
  {
   "cell_type": "code",
   "execution_count": 211,
   "metadata": {},
   "outputs": [
    {
     "data": {
      "text/plain": [
       "12"
      ]
     },
     "execution_count": 211,
     "metadata": {},
     "output_type": "execute_result"
    }
   ],
   "source": [
    "adj = [0.008395894, 0.234656044, 0.274551861, 0.261682243,0.003033553,0.02059139,0.039282978,0.015075839,\n",
    "     0.050497932,0.052244523,0.018599663,0.02138808]\n",
    "adj2 = [0,0.25055621,0.293155346,0.279413689,0.003239105,0.021986651,0.041944772,0,0.053919644,0.055784583,0,0]\n",
    "len(adj2)\n",
    "adj3 = [0,0.240296213,0.281150962,0.26797201,0.003106467,0.021086322,0.04022718,0,\n",
    "        0.051711695,0.053500267,0.019046723,0.021902162]\n",
    "len(adj3)"
   ]
  },
  {
   "cell_type": "code",
   "execution_count": 204,
   "metadata": {},
   "outputs": [],
   "source": [
    "X = X * adj"
   ]
  },
  {
   "cell_type": "code",
   "execution_count": 212,
   "metadata": {},
   "outputs": [
    {
     "data": {
      "text/plain": [
       "array([[0, 1, 1, ..., 0, 0, 0],\n",
       "       [0, 1, 1, ..., 0, 0, 0],\n",
       "       [0, 1, 1, ..., 1, 0, 0],\n",
       "       ...,\n",
       "       [0, 1, 1, ..., 1, 0, 0],\n",
       "       [0, 1, 1, ..., 0, 0, 0],\n",
       "       [0, 1, 1, ..., 0, 0, 0]], dtype=int64)"
      ]
     },
     "execution_count": 212,
     "metadata": {},
     "output_type": "execute_result"
    }
   ],
   "source": [
    "X"
   ]
  },
  {
   "cell_type": "code",
   "execution_count": 213,
   "metadata": {},
   "outputs": [],
   "source": [
    "np.random.seed(0)\n",
    "\n",
    "Y = df_data['Pawpularity'].values[:]\n",
    "\n",
    "id_image = df_data['Id'].values[:]\n",
    "\n",
    "Y10 = df_data['Scale10'].values[:]\n",
    "Y5 = df_data['Scale5'].values[:]\n",
    "Y4 = df_data['Scale4'].values[:]\n",
    "Y3 = df_data['Scale3'].values[:]\n",
    "Y2 = df_data['Scale2'].values[:]\n",
    "\n",
    "\n",
    "shuffle = np.random.permutation(np.arange(X.shape[0]))\n",
    "X, Y, id_image = X[shuffle], Y[shuffle], id_image[shuffle]\n",
    "Y10, Y5, Y4, Y3, Y2 = Y10[shuffle], Y5[shuffle], Y4[shuffle], Y3[shuffle], Y2[shuffle]"
   ]
  },
  {
   "cell_type": "code",
   "execution_count": 214,
   "metadata": {},
   "outputs": [],
   "source": [
    "# Define sizes for train, development and test data (0.5, 0.2, 0.3)\n",
    "per_train = 0.5\n",
    "per_dev = 0.2\n",
    "\n",
    "num_images = len(Y)\n",
    "train_size = int(round(num_images * per_train,0))\n",
    "dev_size = int(round(num_images * per_dev,0))"
   ]
  },
  {
   "cell_type": "code",
   "execution_count": 215,
   "metadata": {},
   "outputs": [
    {
     "name": "stdout",
     "output_type": "stream",
     "text": [
      "9912\n",
      "(4956, 12) (4956,) (4956,)\n",
      "(1982, 12) (1982,) (1982,)\n",
      "(2974, 12) (2974,) (2974,)\n",
      "(2974,) (1982,) (4956,)\n",
      "(2974,) (1982,) (4956,)\n",
      "(2974,) (1982,) (4956,)\n",
      "(2974,) (1982,) (4956,)\n",
      "(2974,) (1982,) (4956,)\n"
     ]
    }
   ],
   "source": [
    "# Split data based on defined sizes\n",
    "test_data, test_labels, id_test = X[train_size+dev_size:], Y[train_size+dev_size:], id_image[train_size+dev_size:]\n",
    "test_y10 = Y10[train_size+dev_size:]\n",
    "test_y5 = Y5[train_size+dev_size:]\n",
    "test_y4 = Y4[train_size+dev_size:]\n",
    "test_y3 = Y3[train_size+dev_size:]\n",
    "test_y2 = Y2[train_size+dev_size:]\n",
    "\n",
    "dev_data, dev_labels, id_dev = X[train_size:train_size+dev_size], Y[train_size:train_size+dev_size], id_image[train_size:train_size+dev_size]\n",
    "dev_y10 = Y10[train_size:train_size+dev_size]\n",
    "dev_y5 = Y5[train_size:train_size+dev_size]\n",
    "dev_y4 = Y4[train_size:train_size+dev_size]\n",
    "dev_y3 = Y3[train_size:train_size+dev_size]\n",
    "dev_y2 = Y2[train_size:train_size+dev_size]\n",
    "\n",
    "train_data, train_labels, id_train = X[:train_size], Y[:train_size], id_image[:train_size]\n",
    "train_y10 =  Y10[:train_size]\n",
    "train_y5 =  Y5[:train_size]\n",
    "train_y4 =  Y4[:train_size]\n",
    "train_y3 =  Y3[:train_size]\n",
    "train_y2 =  Y2[:train_size]\n",
    "\n",
    "print(num_images)\n",
    "print(train_data.shape, train_labels.shape, id_train.shape)\n",
    "print(dev_data.shape, dev_labels.shape, id_dev.shape)\n",
    "print(test_data.shape, test_labels.shape, id_test.shape)\n",
    "print(test_y10.shape, dev_y10.shape, train_y10.shape)\n",
    "print(test_y5.shape, dev_y5.shape, train_y5.shape)\n",
    "print(test_y4.shape, dev_y4.shape, train_y4.shape)\n",
    "print(test_y3.shape, dev_y3.shape, train_y3.shape)\n",
    "print(test_y2.shape, dev_y2.shape, train_y2.shape)"
   ]
  },
  {
   "cell_type": "code",
   "execution_count": 216,
   "metadata": {},
   "outputs": [
    {
     "name": "stdout",
     "output_type": "stream",
     "text": [
      "For K:  9 ,for scale  2 , f1_score:  0.6993674504266799\n"
     ]
    },
    {
     "data": {
      "image/png": "[encoded data removed]",
      "text/plain": [
       "<Figure size 540x540 with 1 Axes>"
      ]
     },
     "metadata": {
      "needs_background": "light"
     },
     "output_type": "display_data"
    }
   ],
   "source": [
    "scale = 2\n",
    "Y_train, Y_dev = assign_y(scale)\n",
    "k = 9\n",
    "weights = [\"uniform\", \"distance\"]\n",
    "knn_mod = KNeighborsClassifier(n_neighbors=k, algorithm=\"ball_tree\", weights=weights[1])\n",
    "knn_mod.fit(train_data, Y_train)\n",
    "pred_knn = knn_mod.predict(dev_data)\n",
    "f1_score = metrics.f1_score(Y_dev, knn_mod.predict(dev_data), average=\"weighted\")\n",
    "print(\"For K: \",k,\",for scale \",scale,\", f1_score: \",f1_score)\n",
    "\n",
    "#Generate and create dataframe of Confusion Matrix\n",
    "cfm = confusion_matrix(Y_dev,pred_knn)\n",
    "\n",
    "fig, ax = plt.subplots(figsize=(7.5, 7.5))\n",
    "ax.matshow(cfm, cmap=plt.cm.Blues, alpha=0.3)\n",
    "for i in range(cfm.shape[0]):\n",
    "    for j in range(cfm.shape[1]):\n",
    "        ax.text(x=j, y=i,s=cfm[i, j], va='center', ha='center', size='xx-large')"
   ]
  },
  {
   "cell_type": "code",
   "execution_count": null,
   "metadata": {},
   "outputs": [],
   "source": [
    "knn_mod = KNeighborsClassifier(n_neighbors=k, algorithm=algorithm, weights=weigth)\n",
    "NB_mod = BernoulliNB(alpha=alpha)\n",
    "MNB_mod = MultinomialNB(alpha=alpha)\n",
    "GNB_mod = GaussianNB(var_smoothing=var_smoothing)\n",
    "logR_mod = LogisticRegression(C=c, solver=solver, multi_class=\"auto\", penalty=penalty, max_iter=200)\n",
    "dt_model = DecisionTreeClassifier(criterion=criterion, min_samples_split=10, max_depth=max_depth)\n",
    "RF_model = RandomForestClassifier(n_estimators=n_estimators,criterion=criterion, min_samples_split=10)\n",
    "AdaB_model = AdaBoostClassifier(n_estimators=n_estimators,algorithm=algorithm, learning_rate=1.2)"
   ]
  },
  {
   "cell_type": "code",
   "execution_count": null,
   "metadata": {},
   "outputs": [],
   "source": []
  }
 ],
 "metadata": {
  "kernelspec": {
   "display_name": "w207",
   "language": "python",
   "name": "w207"
  },
  "language_info": {
   "codemirror_mode": {
    "name": "ipython",
    "version": 3
   },
   "file_extension": ".py",
   "mimetype": "text/x-python",
   "name": "python",
   "nbconvert_exporter": "python",
   "pygments_lexer": "ipython3",
   "version": "3.6.13"
  }
 },
 "nbformat": 4,
 "nbformat_minor": 4
}
